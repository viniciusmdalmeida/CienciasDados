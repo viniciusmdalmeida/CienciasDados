{
 "cells": [
  {
   "cell_type": "code",
   "execution_count": 1,
   "metadata": {},
   "outputs": [],
   "source": [
    "import pandas as pd\n",
    "import numpy as np\n",
    "import matplotlib.pyplot as plt\n",
    "import seaborn as sns\n",
    "%matplotlib inline"
   ]
  },
  {
   "cell_type": "code",
   "execution_count": 2,
   "metadata": {},
   "outputs": [],
   "source": [
    "train = pd.read_csv('train.csv')"
   ]
  },
  {
   "cell_type": "code",
   "execution_count": 3,
   "metadata": {},
   "outputs": [
    {
     "name": "stdout",
     "output_type": "stream",
     "text": [
      "<class 'pandas.core.frame.DataFrame'>\n",
      "RangeIndex: 891 entries, 0 to 890\n",
      "Data columns (total 12 columns):\n",
      "PassengerId    891 non-null int64\n",
      "Survived       891 non-null int64\n",
      "Pclass         891 non-null int64\n",
      "Name           891 non-null object\n",
      "Sex            891 non-null object\n",
      "Age            714 non-null float64\n",
      "SibSp          891 non-null int64\n",
      "Parch          891 non-null int64\n",
      "Ticket         891 non-null object\n",
      "Fare           891 non-null float64\n",
      "Cabin          204 non-null object\n",
      "Embarked       889 non-null object\n",
      "dtypes: float64(2), int64(5), object(5)\n",
      "memory usage: 83.6+ KB\n"
     ]
    }
   ],
   "source": [
    "train.info()"
   ]
  },
  {
   "cell_type": "code",
   "execution_count": 4,
   "metadata": {},
   "outputs": [],
   "source": [
    "train = train.fillna(-1)"
   ]
  },
  {
   "cell_type": "code",
   "execution_count": 5,
   "metadata": {},
   "outputs": [],
   "source": [
    "test = pd.read_csv('test.csv')\n",
    "test = test.fillna(-1)"
   ]
  },
  {
   "cell_type": "code",
   "execution_count": 6,
   "metadata": {},
   "outputs": [
    {
     "data": {
      "text/html": [
       "<div>\n",
       "<style scoped>\n",
       "    .dataframe tbody tr th:only-of-type {\n",
       "        vertical-align: middle;\n",
       "    }\n",
       "\n",
       "    .dataframe tbody tr th {\n",
       "        vertical-align: top;\n",
       "    }\n",
       "\n",
       "    .dataframe thead th {\n",
       "        text-align: right;\n",
       "    }\n",
       "</style>\n",
       "<table border=\"1\" class=\"dataframe\">\n",
       "  <thead>\n",
       "    <tr style=\"text-align: right;\">\n",
       "      <th></th>\n",
       "      <th>PassengerId</th>\n",
       "      <th>Survived</th>\n",
       "      <th>Pclass</th>\n",
       "      <th>Name</th>\n",
       "      <th>Sex</th>\n",
       "      <th>Age</th>\n",
       "      <th>SibSp</th>\n",
       "      <th>Parch</th>\n",
       "      <th>Ticket</th>\n",
       "      <th>Fare</th>\n",
       "      <th>Cabin</th>\n",
       "      <th>Embarked</th>\n",
       "    </tr>\n",
       "  </thead>\n",
       "  <tbody>\n",
       "    <tr>\n",
       "      <th>0</th>\n",
       "      <td>1</td>\n",
       "      <td>0</td>\n",
       "      <td>3</td>\n",
       "      <td>Braund, Mr. Owen Harris</td>\n",
       "      <td>male</td>\n",
       "      <td>22.0</td>\n",
       "      <td>1</td>\n",
       "      <td>0</td>\n",
       "      <td>A/5 21171</td>\n",
       "      <td>7.2500</td>\n",
       "      <td>-1</td>\n",
       "      <td>S</td>\n",
       "    </tr>\n",
       "    <tr>\n",
       "      <th>1</th>\n",
       "      <td>2</td>\n",
       "      <td>1</td>\n",
       "      <td>1</td>\n",
       "      <td>Cumings, Mrs. John Bradley (Florence Briggs Th...</td>\n",
       "      <td>female</td>\n",
       "      <td>38.0</td>\n",
       "      <td>1</td>\n",
       "      <td>0</td>\n",
       "      <td>PC 17599</td>\n",
       "      <td>71.2833</td>\n",
       "      <td>C85</td>\n",
       "      <td>C</td>\n",
       "    </tr>\n",
       "    <tr>\n",
       "      <th>2</th>\n",
       "      <td>3</td>\n",
       "      <td>1</td>\n",
       "      <td>3</td>\n",
       "      <td>Heikkinen, Miss. Laina</td>\n",
       "      <td>female</td>\n",
       "      <td>26.0</td>\n",
       "      <td>0</td>\n",
       "      <td>0</td>\n",
       "      <td>STON/O2. 3101282</td>\n",
       "      <td>7.9250</td>\n",
       "      <td>-1</td>\n",
       "      <td>S</td>\n",
       "    </tr>\n",
       "    <tr>\n",
       "      <th>3</th>\n",
       "      <td>4</td>\n",
       "      <td>1</td>\n",
       "      <td>1</td>\n",
       "      <td>Futrelle, Mrs. Jacques Heath (Lily May Peel)</td>\n",
       "      <td>female</td>\n",
       "      <td>35.0</td>\n",
       "      <td>1</td>\n",
       "      <td>0</td>\n",
       "      <td>113803</td>\n",
       "      <td>53.1000</td>\n",
       "      <td>C123</td>\n",
       "      <td>S</td>\n",
       "    </tr>\n",
       "    <tr>\n",
       "      <th>4</th>\n",
       "      <td>5</td>\n",
       "      <td>0</td>\n",
       "      <td>3</td>\n",
       "      <td>Allen, Mr. William Henry</td>\n",
       "      <td>male</td>\n",
       "      <td>35.0</td>\n",
       "      <td>0</td>\n",
       "      <td>0</td>\n",
       "      <td>373450</td>\n",
       "      <td>8.0500</td>\n",
       "      <td>-1</td>\n",
       "      <td>S</td>\n",
       "    </tr>\n",
       "  </tbody>\n",
       "</table>\n",
       "</div>"
      ],
      "text/plain": [
       "   PassengerId  Survived  Pclass  \\\n",
       "0            1         0       3   \n",
       "1            2         1       1   \n",
       "2            3         1       3   \n",
       "3            4         1       1   \n",
       "4            5         0       3   \n",
       "\n",
       "                                                Name     Sex   Age  SibSp  \\\n",
       "0                            Braund, Mr. Owen Harris    male  22.0      1   \n",
       "1  Cumings, Mrs. John Bradley (Florence Briggs Th...  female  38.0      1   \n",
       "2                             Heikkinen, Miss. Laina  female  26.0      0   \n",
       "3       Futrelle, Mrs. Jacques Heath (Lily May Peel)  female  35.0      1   \n",
       "4                           Allen, Mr. William Henry    male  35.0      0   \n",
       "\n",
       "   Parch            Ticket     Fare Cabin Embarked  \n",
       "0      0         A/5 21171   7.2500    -1        S  \n",
       "1      0          PC 17599  71.2833   C85        C  \n",
       "2      0  STON/O2. 3101282   7.9250    -1        S  \n",
       "3      0            113803  53.1000  C123        S  \n",
       "4      0            373450   8.0500    -1        S  "
      ]
     },
     "execution_count": 6,
     "metadata": {},
     "output_type": "execute_result"
    }
   ],
   "source": [
    "train.head()"
   ]
  },
  {
   "cell_type": "code",
   "execution_count": 7,
   "metadata": {},
   "outputs": [
    {
     "data": {
      "text/plain": [
       "1601        7\n",
       "CA. 2343    7\n",
       "347082      7\n",
       "3101295     6\n",
       "347088      6\n",
       "Name: Ticket, dtype: int64"
      ]
     },
     "execution_count": 7,
     "metadata": {},
     "output_type": "execute_result"
    }
   ],
   "source": [
    "def ticket(x):\n",
    "    return x.split()[-1]\n",
    "train.Ticket.value_counts()[:5]"
   ]
  },
  {
   "cell_type": "code",
   "execution_count": 8,
   "metadata": {},
   "outputs": [],
   "source": [
    "#Retirando comprimento \n",
    "def nomeSplit(name):\n",
    "    split = name.replace(',',' ').split(' ')\n",
    "    for item in split:\n",
    "        if '.' in item:\n",
    "            return item\n",
    "train['saudação'] = train['Name'].apply(nomeSplit)\n",
    "test['saudação'] = test['Name'].apply(nomeSplit)"
   ]
  },
  {
   "cell_type": "code",
   "execution_count": 9,
   "metadata": {},
   "outputs": [],
   "source": [
    "#Retirando sobrenome \n",
    "def sobrenome(name):\n",
    "    split = name.split(',')\n",
    "    return split[0]\n",
    "train['sobrenome'] = train['Name'].apply(sobrenome)\n",
    "test['sobrenome'] = test['Name'].apply(sobrenome)"
   ]
  },
  {
   "cell_type": "code",
   "execution_count": 10,
   "metadata": {},
   "outputs": [],
   "source": [
    "import re\n",
    "#Retirando sobrenome \n",
    "def cabine(cabin):\n",
    "    text = str(cabin)\n",
    "    split = re.findall(r'[0-9]+',text)\n",
    "    if len(split) == 0 :\n",
    "        return -1\n",
    "    return split[-1]\n",
    "train['Ticket'] = train['Ticket'].apply(cabine).astype(int)\n",
    "test['Ticket'] = test['Ticket'].apply(cabine).astype(int)"
   ]
  },
  {
   "cell_type": "code",
   "execution_count": 11,
   "metadata": {},
   "outputs": [
    {
     "name": "stdout",
     "output_type": "stream",
     "text": [
      "<class 'pandas.core.frame.DataFrame'>\n",
      "RangeIndex: 891 entries, 0 to 890\n",
      "Data columns (total 14 columns):\n",
      "PassengerId    891 non-null int64\n",
      "Survived       891 non-null int64\n",
      "Pclass         891 non-null int64\n",
      "Name           891 non-null object\n",
      "Sex            891 non-null object\n",
      "Age            891 non-null float64\n",
      "SibSp          891 non-null int64\n",
      "Parch          891 non-null int64\n",
      "Ticket         891 non-null int32\n",
      "Fare           891 non-null float64\n",
      "Cabin          891 non-null object\n",
      "Embarked       891 non-null object\n",
      "saudação       891 non-null object\n",
      "sobrenome      891 non-null object\n",
      "dtypes: float64(2), int32(1), int64(5), object(6)\n",
      "memory usage: 94.1+ KB\n"
     ]
    }
   ],
   "source": [
    "train.info()"
   ]
  },
  {
   "cell_type": "code",
   "execution_count": 12,
   "metadata": {},
   "outputs": [
    {
     "data": {
      "text/plain": [
       "-1             687\n",
       "C23 C25 C27      4\n",
       "B96 B98          4\n",
       "G6               4\n",
       "C22 C26          3\n",
       "E101             3\n",
       "D                3\n",
       "F33              3\n",
       "F2               3\n",
       "E24              2\n",
       "Name: Cabin, dtype: int64"
      ]
     },
     "execution_count": 12,
     "metadata": {},
     "output_type": "execute_result"
    }
   ],
   "source": [
    "train['Cabin'].value_counts()[:10]"
   ]
  },
  {
   "cell_type": "code",
   "execution_count": 13,
   "metadata": {},
   "outputs": [
    {
     "data": {
      "text/plain": [
       "<matplotlib.axes._subplots.AxesSubplot at 0x1f63d9b1d30>"
      ]
     },
     "execution_count": 13,
     "metadata": {},
     "output_type": "execute_result"
    },
    {
     "data": {
      "image/png": "[encoded data removed]",
      "text/plain": [
       "<Figure size 432x288 with 2 Axes>"
      ]
     },
     "metadata": {
      "needs_background": "light"
     },
     "output_type": "display_data"
    }
   ],
   "source": [
    "sns.heatmap(train.isnull())"
   ]
  },
  {
   "cell_type": "code",
   "execution_count": 14,
   "metadata": {},
   "outputs": [],
   "source": [
    "#train2 = train.drop('Cabin',axis=1)"
   ]
  },
  {
   "cell_type": "code",
   "execution_count": 16,
   "metadata": {},
   "outputs": [
    {
     "name": "stderr",
     "output_type": "stream",
     "text": [
      "C:\\Users\\vinic\\AppData\\Local\\Continuum\\anaconda3\\lib\\site-packages\\scipy\\stats\\stats.py:1713: FutureWarning: Using a non-tuple sequence for multidimensional indexing is deprecated; use `arr[tuple(seq)]` instead of `arr[seq]`. In the future this will be interpreted as an array index, `arr[np.array(seq)]`, which will result either in an error or a different result.\n",
      "  return np.add.reduce(sorted[indexer] * weights, axis=axis) / sumval\n"
     ]
    },
    {
     "data": {
      "image/png": "[encoded data removed]",
      "text/plain": [
       "<Figure size 216x216 with 1 Axes>"
      ]
     },
     "metadata": {
      "needs_background": "light"
     },
     "output_type": "display_data"
    }
   ],
   "source": [
    "g = sns.FacetGrid(train, hue=\"Survived\")\n",
    "g = g.map(sns.distplot, \"Age\")"
   ]
  },
  {
   "cell_type": "code",
   "execution_count": 22,
   "metadata": {},
   "outputs": [
    {
     "name": "stderr",
     "output_type": "stream",
     "text": [
      "C:\\Users\\vinic\\AppData\\Local\\Continuum\\anaconda3\\lib\\site-packages\\scipy\\stats\\stats.py:1713: FutureWarning: Using a non-tuple sequence for multidimensional indexing is deprecated; use `arr[tuple(seq)]` instead of `arr[seq]`. In the future this will be interpreted as an array index, `arr[np.array(seq)]`, which will result either in an error or a different result.\n",
      "  return np.add.reduce(sorted[indexer] * weights, axis=axis) / sumval\n"
     ]
    },
    {
     "data": {
      "text/plain": [
       "<seaborn.axisgrid.FacetGrid at 0x1f63e50df98>"
      ]
     },
     "execution_count": 22,
     "metadata": {},
     "output_type": "execute_result"
    },
    {
     "data": {
      "image/png": "[encoded data removed]",
      "text/plain": [
       "<Figure size 699.875x216 with 1 Axes>"
      ]
     },
     "metadata": {
      "needs_background": "light"
     },
     "output_type": "display_data"
    }
   ],
   "source": [
    "idade= sns.FacetGrid(train, hue=\"Survived\", aspect=3)\n",
    "idade.map(sns.kdeplot, \"Age\", shade=True).add_legend()\n",
    "# idade.set(xlim=(0, 85))"
   ]
  },
  {
   "cell_type": "code",
   "execution_count": 42,
   "metadata": {},
   "outputs": [
    {
     "name": "stdout",
     "output_type": "stream",
     "text": [
      "Name\n",
      "Sex\n",
      "Cabin\n",
      "Embarked\n",
      "saudação\n",
      "sobrenome\n"
     ]
    }
   ],
   "source": [
    "from sklearn.preprocessing import LabelEncoder\n",
    "labelDic = {}\n",
    "for colum in train:\n",
    "    if train[colum].dtype == object:\n",
    "        print(colum)\n",
    "        labelDic[colum] = LabelEncoder()\n",
    "        concat = pd.concat([train[colum],test[colum]]).astype(str)\n",
    "        labelDic[colum].fit(concat)\n",
    "        train[colum] = labelDic[colum].transform(train[colum].astype(str))"
   ]
  },
  {
   "cell_type": "code",
   "execution_count": 43,
   "metadata": {},
   "outputs": [],
   "source": [
    "# for colum in train:\n",
    "#     if train[colum].dtype == object:\n",
    "#         train[colum] = train[colum].astype('category').cat.codes"
   ]
  },
  {
   "cell_type": "markdown",
   "metadata": {},
   "source": [
    "** Sem Nan **"
   ]
  },
  {
   "cell_type": "code",
   "execution_count": 44,
   "metadata": {},
   "outputs": [],
   "source": [
    "train2 = train"
   ]
  },
  {
   "cell_type": "code",
   "execution_count": 45,
   "metadata": {},
   "outputs": [
    {
     "name": "stderr",
     "output_type": "stream",
     "text": [
      "C:\\ProgramData\\Anaconda\\lib\\site-packages\\scipy\\stats\\stats.py:1713: FutureWarning: Using a non-tuple sequence for multidimensional indexing is deprecated; use `arr[tuple(seq)]` instead of `arr[seq]`. In the future this will be interpreted as an array index, `arr[np.array(seq)]`, which will result either in an error or a different result.\n",
      "  return np.add.reduce(sorted[indexer] * weights, axis=axis) / sumval\n",
      "C:\\ProgramData\\Anaconda\\lib\\site-packages\\matplotlib\\axes\\_axes.py:6571: UserWarning: The 'normed' kwarg is deprecated, and has been replaced by the 'density' kwarg.\n",
      "  warnings.warn(\"The 'normed' kwarg is deprecated, and has been \"\n"
     ]
    },
    {
     "data": {
      "text/plain": [
       "<matplotlib.axes._subplots.AxesSubplot at 0x21e6dee1ef0>"
      ]
     },
     "execution_count": 45,
     "metadata": {},
     "output_type": "execute_result"
    },
    {
     "data": {
      "image/png": "[encoded data removed]",
      "text/plain": [
       "<Figure size 432x288 with 1 Axes>"
      ]
     },
     "metadata": {},
     "output_type": "display_data"
    }
   ],
   "source": [
    "sns.distplot(train2['Age'])"
   ]
  },
  {
   "cell_type": "code",
   "execution_count": 46,
   "metadata": {},
   "outputs": [],
   "source": [
    "y = train2['Survived']\n",
    "x = train2.drop(['Survived','Name','Cabin'],axis=1)"
   ]
  },
  {
   "cell_type": "code",
   "execution_count": 47,
   "metadata": {},
   "outputs": [
    {
     "name": "stdout",
     "output_type": "stream",
     "text": [
      "<class 'pandas.core.frame.DataFrame'>\n",
      "RangeIndex: 891 entries, 0 to 890\n",
      "Data columns (total 11 columns):\n",
      "PassengerId    891 non-null int64\n",
      "Pclass         891 non-null int64\n",
      "Sex            891 non-null int64\n",
      "Age            891 non-null float64\n",
      "SibSp          891 non-null int64\n",
      "Parch          891 non-null int64\n",
      "Ticket         891 non-null int32\n",
      "Fare           891 non-null float64\n",
      "Embarked       891 non-null int64\n",
      "saudação       891 non-null int64\n",
      "sobrenome      891 non-null int64\n",
      "dtypes: float64(2), int32(1), int64(8)\n",
      "memory usage: 73.2 KB\n"
     ]
    }
   ],
   "source": [
    "x.info()"
   ]
  },
  {
   "cell_type": "code",
   "execution_count": 48,
   "metadata": {},
   "outputs": [],
   "source": [
    "from sklearn.model_selection import train_test_split"
   ]
  },
  {
   "cell_type": "code",
   "execution_count": 49,
   "metadata": {},
   "outputs": [],
   "source": [
    "xTreino,xTeste,yTreino,yTeste = train_test_split(x,y)"
   ]
  },
  {
   "cell_type": "code",
   "execution_count": 50,
   "metadata": {},
   "outputs": [],
   "source": [
    "from sklearn.tree import DecisionTreeClassifier\n",
    "from sklearn.ensemble import RandomForestClassifier\n",
    "from sklearn.svm import SVC\n",
    "from sklearn.neural_network import MLPClassifier\n",
    "from sklearn.neighbors import KNeighborsClassifier"
   ]
  },
  {
   "cell_type": "code",
   "execution_count": 52,
   "metadata": {},
   "outputs": [],
   "source": [
    "DT = DecisionTreeClassifier()\n",
    "RF = RandomForestClassifier()\n",
    "svm = SVC()\n",
    "mlp = MLPClassifier()\n",
    "knn =  KNeighborsClassifier()"
   ]
  },
  {
   "cell_type": "code",
   "execution_count": 53,
   "metadata": {},
   "outputs": [
    {
     "data": {
      "text/plain": [
       "DecisionTreeClassifier(class_weight=None, criterion='gini', max_depth=None,\n",
       "            max_features=None, max_leaf_nodes=None,\n",
       "            min_impurity_decrease=0.0, min_impurity_split=None,\n",
       "            min_samples_leaf=1, min_samples_split=2,\n",
       "            min_weight_fraction_leaf=0.0, presort=False, random_state=None,\n",
       "            splitter='best')"
      ]
     },
     "execution_count": 53,
     "metadata": {},
     "output_type": "execute_result"
    }
   ],
   "source": [
    "DT.fit(xTreino,yTreino)"
   ]
  },
  {
   "cell_type": "code",
   "execution_count": 54,
   "metadata": {},
   "outputs": [
    {
     "data": {
      "text/plain": [
       "RandomForestClassifier(bootstrap=True, class_weight=None, criterion='gini',\n",
       "            max_depth=None, max_features='auto', max_leaf_nodes=None,\n",
       "            min_impurity_decrease=0.0, min_impurity_split=None,\n",
       "            min_samples_leaf=1, min_samples_split=2,\n",
       "            min_weight_fraction_leaf=0.0, n_estimators=10, n_jobs=1,\n",
       "            oob_score=False, random_state=None, verbose=0,\n",
       "            warm_start=False)"
      ]
     },
     "execution_count": 54,
     "metadata": {},
     "output_type": "execute_result"
    }
   ],
   "source": [
    "RF.fit(xTreino,yTreino)"
   ]
  },
  {
   "cell_type": "code",
   "execution_count": 55,
   "metadata": {},
   "outputs": [
    {
     "data": {
      "text/plain": [
       "KNeighborsClassifier(algorithm='auto', leaf_size=30, metric='minkowski',\n",
       "           metric_params=None, n_jobs=1, n_neighbors=5, p=2,\n",
       "           weights='uniform')"
      ]
     },
     "execution_count": 55,
     "metadata": {},
     "output_type": "execute_result"
    }
   ],
   "source": [
    "svm.fit(xTreino,yTreino)\n",
    "mlp.fit(xTreino,yTreino)\n",
    "knn.fit(xTreino,yTreino)"
   ]
  },
  {
   "cell_type": "code",
   "execution_count": 56,
   "metadata": {},
   "outputs": [],
   "source": [
    "preditosdt = DT.predict(xTeste)\n",
    "preditosrf = RF.predict(xTeste)\n",
    "preditosSvm = svm.predict(xTeste)\n",
    "preditosMlp = mlp.predict(xTeste)\n",
    "preditosKnn = knn.predict(xTeste)"
   ]
  },
  {
   "cell_type": "code",
   "execution_count": 57,
   "metadata": {},
   "outputs": [],
   "source": [
    "from sklearn.metrics import classification_report"
   ]
  },
  {
   "cell_type": "code",
   "execution_count": 58,
   "metadata": {},
   "outputs": [
    {
     "name": "stdout",
     "output_type": "stream",
     "text": [
      "             precision    recall  f1-score   support\n",
      "\n",
      "          0       0.76      0.71      0.73       146\n",
      "          1       0.51      0.57      0.54        77\n",
      "\n",
      "avg / total       0.67      0.66      0.67       223\n",
      "\n"
     ]
    }
   ],
   "source": [
    "print(classification_report(preditosKnn,yTeste))"
   ]
  },
  {
   "cell_type": "code",
   "execution_count": 59,
   "metadata": {},
   "outputs": [
    {
     "name": "stdout",
     "output_type": "stream",
     "text": [
      "1 - Ac:0.64 Recall:0.53\n",
      "2 - Ac:0.63 Recall:0.54\n",
      "3 - Ac:0.69 Recall:0.61\n",
      "4 - Ac:0.67 Recall:0.62\n",
      "5 - Ac:0.66 Recall:0.57\n",
      "6 - Ac:0.68 Recall:0.63\n",
      "7 - Ac:0.70 Recall:0.62\n",
      "8 - Ac:0.67 Recall:0.62\n",
      "9 - Ac:0.70 Recall:0.64\n",
      "10 - Ac:0.68 Recall:0.62\n",
      "11 - Ac:0.67 Recall:0.59\n",
      "12 - Ac:0.68 Recall:0.62\n",
      "13 - Ac:0.68 Recall:0.59\n",
      "14 - Ac:0.69 Recall:0.63\n",
      "15 - Ac:0.69 Recall:0.61\n",
      "16 - Ac:0.69 Recall:0.65\n",
      "17 - Ac:0.71 Recall:0.64\n",
      "18 - Ac:0.70 Recall:0.65\n",
      "19 - Ac:0.69 Recall:0.60\n"
     ]
    }
   ],
   "source": [
    "from sklearn.metrics import accuracy_score,recall_score\n",
    "# TEste Knn Vizinho\n",
    "for i in range(1,20):\n",
    "    knn =  KNeighborsClassifier(n_neighbors=i)\n",
    "    knn.fit(xTreino,yTreino)\n",
    "    preditosKnn = knn.predict(xTeste)\n",
    "    accuracy = accuracy_score(preditosKnn,yTeste)\n",
    "    recall = recall_score(preditosKnn,yTeste)\n",
    "    print(\"{} - Ac:{:.2f} Recall:{:.2f}\".format(i,accuracy,recall))"
   ]
  },
  {
   "cell_type": "code",
   "execution_count": 60,
   "metadata": {},
   "outputs": [
    {
     "name": "stdout",
     "output_type": "stream",
     "text": [
      "             precision    recall  f1-score   support\n",
      "\n",
      "          0       0.77      0.83      0.80       126\n",
      "          1       0.76      0.67      0.71        97\n",
      "\n",
      "avg / total       0.76      0.76      0.76       223\n",
      "\n"
     ]
    }
   ],
   "source": [
    "print(classification_report(preditosdt,yTeste))"
   ]
  },
  {
   "cell_type": "code",
   "execution_count": 61,
   "metadata": {},
   "outputs": [
    {
     "name": "stdout",
     "output_type": "stream",
     "text": [
      "             precision    recall  f1-score   support\n",
      "\n",
      "          0       0.85      0.87      0.86       134\n",
      "          1       0.80      0.78      0.79        89\n",
      "\n",
      "avg / total       0.83      0.83      0.83       223\n",
      "\n"
     ]
    }
   ],
   "source": [
    "print(classification_report(preditosrf,yTeste))"
   ]
  },
  {
   "cell_type": "code",
   "execution_count": 62,
   "metadata": {},
   "outputs": [
    {
     "name": "stdout",
     "output_type": "stream",
     "text": [
      "             precision    recall  f1-score   support\n",
      "\n",
      "          0       1.00      0.61      0.76       223\n",
      "          1       0.00      0.00      0.00         0\n",
      "\n",
      "avg / total       1.00      0.61      0.76       223\n",
      "\n"
     ]
    },
    {
     "name": "stderr",
     "output_type": "stream",
     "text": [
      "C:\\ProgramData\\Anaconda\\lib\\site-packages\\sklearn\\metrics\\classification.py:1137: UndefinedMetricWarning: Recall and F-score are ill-defined and being set to 0.0 in labels with no true samples.\n",
      "  'recall', 'true', average, warn_for)\n"
     ]
    }
   ],
   "source": [
    "print(classification_report(preditosSvm,yTeste))"
   ]
  },
  {
   "cell_type": "code",
   "execution_count": 63,
   "metadata": {},
   "outputs": [
    {
     "name": "stdout",
     "output_type": "stream",
     "text": [
      "             precision    recall  f1-score   support\n",
      "\n",
      "          0       0.83      0.59      0.69       194\n",
      "          1       0.07      0.21      0.10        29\n",
      "\n",
      "avg / total       0.73      0.54      0.61       223\n",
      "\n"
     ]
    }
   ],
   "source": [
    "print(classification_report(preditosMlp,yTeste))"
   ]
  },
  {
   "cell_type": "code",
   "execution_count": 64,
   "metadata": {},
   "outputs": [
    {
     "name": "stderr",
     "output_type": "stream",
     "text": [
      "C:\\ProgramData\\Anaconda\\lib\\site-packages\\sklearn\\cross_validation.py:41: DeprecationWarning: This module was deprecated in version 0.18 in favor of the model_selection module into which all the refactored classes and functions are moved. Also note that the interface of the new CV iterators are different from that of this module. This module will be removed in 0.20.\n",
      "  \"This module will be removed in 0.20.\", DeprecationWarning)\n",
      "C:\\ProgramData\\Anaconda\\lib\\site-packages\\sklearn\\grid_search.py:42: DeprecationWarning: This module was deprecated in version 0.18 in favor of the model_selection module into which all the refactored classes and functions are moved. This module will be removed in 0.20.\n",
      "  DeprecationWarning)\n"
     ]
    }
   ],
   "source": [
    "from sklearn.grid_search import GridSearchCV"
   ]
  },
  {
   "cell_type": "code",
   "execution_count": 65,
   "metadata": {},
   "outputs": [
    {
     "name": "stderr",
     "output_type": "stream",
     "text": [
      "[Parallel(n_jobs=1)]: Done   1 out of   1 | elapsed:    0.0s remaining:    0.0s\n"
     ]
    },
    {
     "name": "stdout",
     "output_type": "stream",
     "text": [
      "Fitting 3 folds for each of 42 candidates, totalling 126 fits\n",
      "[CV] C=100000, gamma=1 ...............................................\n",
      "[CV] ...................................... C=100000, gamma=1 -   0.0s\n",
      "[CV] C=100000, gamma=1 ...............................................\n",
      "[CV] ...................................... C=100000, gamma=1 -   0.0s\n",
      "[CV] C=100000, gamma=1 ...............................................\n",
      "[CV] ...................................... C=100000, gamma=1 -   0.0s\n",
      "[CV] C=100000, gamma=0.1 .............................................\n",
      "[CV] .................................... C=100000, gamma=0.1 -   0.0s\n",
      "[CV] C=100000, gamma=0.1 .............................................\n",
      "[CV] .................................... C=100000, gamma=0.1 -   0.0s\n",
      "[CV] C=100000, gamma=0.1 .............................................\n",
      "[CV] .................................... C=100000, gamma=0.1 -   0.0s\n",
      "[CV] C=100000, gamma=0.01 ............................................\n",
      "[CV] ................................... C=100000, gamma=0.01 -   0.0s\n",
      "[CV] C=100000, gamma=0.01 ............................................\n",
      "[CV] ................................... C=100000, gamma=0.01 -   0.0s\n",
      "[CV] C=100000, gamma=0.01 ............................................\n",
      "[CV] ................................... C=100000, gamma=0.01 -   0.0s\n",
      "[CV] C=100000, gamma=0.001 ...........................................\n",
      "[CV] .................................. C=100000, gamma=0.001 -   0.0s\n",
      "[CV] C=100000, gamma=0.001 ...........................................\n",
      "[CV] .................................. C=100000, gamma=0.001 -   0.0s\n",
      "[CV] C=100000, gamma=0.001 ...........................................\n",
      "[CV] .................................. C=100000, gamma=0.001 -   0.0s\n",
      "[CV] C=100000, gamma=0.0001 ..........................................\n",
      "[CV] ................................. C=100000, gamma=0.0001 -   0.0s\n",
      "[CV] C=100000, gamma=0.0001 ..........................................\n",
      "[CV] ................................. C=100000, gamma=0.0001 -   0.0s\n",
      "[CV] C=100000, gamma=0.0001 ..........................................\n",
      "[CV] ................................. C=100000, gamma=0.0001 -   0.0s\n",
      "[CV] C=100000, gamma=1e-05 ...........................................\n",
      "[CV] .................................. C=100000, gamma=1e-05 -   0.0s\n",
      "[CV] C=100000, gamma=1e-05 ...........................................\n",
      "[CV] .................................. C=100000, gamma=1e-05 -   0.0s\n",
      "[CV] C=100000, gamma=1e-05 ...........................................\n",
      "[CV] .................................. C=100000, gamma=1e-05 -   0.0s\n",
      "[CV] C=100000, gamma=1e-06 ...........................................\n",
      "[CV] .................................. C=100000, gamma=1e-06 -   0.1s\n",
      "[CV] C=100000, gamma=1e-06 ...........................................\n",
      "[CV] .................................. C=100000, gamma=1e-06 -   0.1s\n",
      "[CV] C=100000, gamma=1e-06 ...........................................\n",
      "[CV] .................................. C=100000, gamma=1e-06 -   0.1s\n",
      "[CV] C=10000, gamma=1 ................................................\n",
      "[CV] ....................................... C=10000, gamma=1 -   0.0s\n",
      "[CV] C=10000, gamma=1 ................................................\n",
      "[CV] ....................................... C=10000, gamma=1 -   0.0s\n",
      "[CV] C=10000, gamma=1 ................................................\n",
      "[CV] ....................................... C=10000, gamma=1 -   0.0s\n",
      "[CV] C=10000, gamma=0.1 ..............................................\n",
      "[CV] ..................................... C=10000, gamma=0.1 -   0.0s\n",
      "[CV] C=10000, gamma=0.1 ..............................................\n",
      "[CV] ..................................... C=10000, gamma=0.1 -   0.0s\n",
      "[CV] C=10000, gamma=0.1 ..............................................\n",
      "[CV] ..................................... C=10000, gamma=0.1 -   0.0s\n",
      "[CV] C=10000, gamma=0.01 .............................................\n",
      "[CV] .................................... C=10000, gamma=0.01 -   0.0s\n",
      "[CV] C=10000, gamma=0.01 .............................................\n",
      "[CV] .................................... C=10000, gamma=0.01 -   0.0s\n",
      "[CV] C=10000, gamma=0.01 .............................................\n",
      "[CV] .................................... C=10000, gamma=0.01 -   0.0s\n",
      "[CV] C=10000, gamma=0.001 ............................................\n",
      "[CV] ................................... C=10000, gamma=0.001 -   0.0s\n",
      "[CV] C=10000, gamma=0.001 ............................................\n",
      "[CV] ................................... C=10000, gamma=0.001 -   0.0s\n",
      "[CV] C=10000, gamma=0.001 ............................................\n",
      "[CV] ................................... C=10000, gamma=0.001 -   0.0s\n",
      "[CV] C=10000, gamma=0.0001 ...........................................\n",
      "[CV] .................................. C=10000, gamma=0.0001 -   0.0s\n",
      "[CV] C=10000, gamma=0.0001 ...........................................\n",
      "[CV] .................................. C=10000, gamma=0.0001 -   0.0s\n",
      "[CV] C=10000, gamma=0.0001 ...........................................\n",
      "[CV] .................................. C=10000, gamma=0.0001 -   0.0s\n",
      "[CV] C=10000, gamma=1e-05 ............................................\n",
      "[CV] ................................... C=10000, gamma=1e-05 -   0.0s\n",
      "[CV] C=10000, gamma=1e-05 ............................................\n",
      "[CV] ................................... C=10000, gamma=1e-05 -   0.0s\n",
      "[CV] C=10000, gamma=1e-05 ............................................\n",
      "[CV] ................................... C=10000, gamma=1e-05 -   0.0s\n",
      "[CV] C=10000, gamma=1e-06 ............................................\n",
      "[CV] ................................... C=10000, gamma=1e-06 -   0.0s\n",
      "[CV] C=10000, gamma=1e-06 ............................................\n",
      "[CV] ................................... C=10000, gamma=1e-06 -   0.0s\n",
      "[CV] C=10000, gamma=1e-06 ............................................\n",
      "[CV] ................................... C=10000, gamma=1e-06 -   0.1s\n",
      "[CV] C=1000, gamma=1 .................................................\n",
      "[CV] ........................................ C=1000, gamma=1 -   0.0s\n",
      "[CV] C=1000, gamma=1 .................................................\n",
      "[CV] ........................................ C=1000, gamma=1 -   0.0s\n",
      "[CV] C=1000, gamma=1 .................................................\n",
      "[CV] ........................................ C=1000, gamma=1 -   0.0s\n",
      "[CV] C=1000, gamma=0.1 ...............................................\n",
      "[CV] ...................................... C=1000, gamma=0.1 -   0.0s\n",
      "[CV] C=1000, gamma=0.1 ...............................................\n",
      "[CV] ...................................... C=1000, gamma=0.1 -   0.0s\n",
      "[CV] C=1000, gamma=0.1 ...............................................\n",
      "[CV] ...................................... C=1000, gamma=0.1 -   0.0s\n",
      "[CV] C=1000, gamma=0.01 ..............................................\n",
      "[CV] ..................................... C=1000, gamma=0.01 -   0.0s\n",
      "[CV] C=1000, gamma=0.01 ..............................................\n",
      "[CV] ..................................... C=1000, gamma=0.01 -   0.0s\n",
      "[CV] C=1000, gamma=0.01 ..............................................\n",
      "[CV] ..................................... C=1000, gamma=0.01 -   0.0s\n",
      "[CV] C=1000, gamma=0.001 .............................................\n",
      "[CV] .................................... C=1000, gamma=0.001 -   0.0s\n",
      "[CV] C=1000, gamma=0.001 .............................................\n",
      "[CV] .................................... C=1000, gamma=0.001 -   0.0s\n",
      "[CV] C=1000, gamma=0.001 .............................................\n",
      "[CV] .................................... C=1000, gamma=0.001 -   0.0s\n",
      "[CV] C=1000, gamma=0.0001 ............................................\n",
      "[CV] ................................... C=1000, gamma=0.0001 -   0.0s\n",
      "[CV] C=1000, gamma=0.0001 ............................................\n",
      "[CV] ................................... C=1000, gamma=0.0001 -   0.0s\n",
      "[CV] C=1000, gamma=0.0001 ............................................\n",
      "[CV] ................................... C=1000, gamma=0.0001 -   0.0s\n",
      "[CV] C=1000, gamma=1e-05 .............................................\n",
      "[CV] .................................... C=1000, gamma=1e-05 -   0.0s\n",
      "[CV] C=1000, gamma=1e-05 .............................................\n",
      "[CV] .................................... C=1000, gamma=1e-05 -   0.0s\n",
      "[CV] C=1000, gamma=1e-05 .............................................\n",
      "[CV] .................................... C=1000, gamma=1e-05 -   0.0s\n",
      "[CV] C=1000, gamma=1e-06 .............................................\n",
      "[CV] .................................... C=1000, gamma=1e-06 -   0.0s\n",
      "[CV] C=1000, gamma=1e-06 .............................................\n"
     ]
    },
    {
     "name": "stdout",
     "output_type": "stream",
     "text": [
      "[CV] .................................... C=1000, gamma=1e-06 -   0.0s\n",
      "[CV] C=1000, gamma=1e-06 .............................................\n",
      "[CV] .................................... C=1000, gamma=1e-06 -   0.0s\n",
      "[CV] C=100, gamma=1 ..................................................\n",
      "[CV] ......................................... C=100, gamma=1 -   0.0s\n",
      "[CV] C=100, gamma=1 ..................................................\n",
      "[CV] ......................................... C=100, gamma=1 -   0.0s\n",
      "[CV] C=100, gamma=1 ..................................................\n",
      "[CV] ......................................... C=100, gamma=1 -   0.0s\n",
      "[CV] C=100, gamma=0.1 ................................................\n",
      "[CV] ....................................... C=100, gamma=0.1 -   0.0s\n",
      "[CV] C=100, gamma=0.1 ................................................\n",
      "[CV] ....................................... C=100, gamma=0.1 -   0.0s\n",
      "[CV] C=100, gamma=0.1 ................................................\n",
      "[CV] ....................................... C=100, gamma=0.1 -   0.0s\n",
      "[CV] C=100, gamma=0.01 ...............................................\n",
      "[CV] ...................................... C=100, gamma=0.01 -   0.0s\n",
      "[CV] C=100, gamma=0.01 ...............................................\n",
      "[CV] ...................................... C=100, gamma=0.01 -   0.0s\n",
      "[CV] C=100, gamma=0.01 ...............................................\n",
      "[CV] ...................................... C=100, gamma=0.01 -   0.0s\n",
      "[CV] C=100, gamma=0.001 ..............................................\n",
      "[CV] ..................................... C=100, gamma=0.001 -   0.0s\n",
      "[CV] C=100, gamma=0.001 ..............................................\n",
      "[CV] ..................................... C=100, gamma=0.001 -   0.0s\n",
      "[CV] C=100, gamma=0.001 ..............................................\n",
      "[CV] ..................................... C=100, gamma=0.001 -   0.0s\n",
      "[CV] C=100, gamma=0.0001 .............................................\n",
      "[CV] .................................... C=100, gamma=0.0001 -   0.0s\n",
      "[CV] C=100, gamma=0.0001 .............................................\n",
      "[CV] .................................... C=100, gamma=0.0001 -   0.0s\n",
      "[CV] C=100, gamma=0.0001 .............................................\n",
      "[CV] .................................... C=100, gamma=0.0001 -   0.0s\n",
      "[CV] C=100, gamma=1e-05 ..............................................\n",
      "[CV] ..................................... C=100, gamma=1e-05 -   0.0s\n",
      "[CV] C=100, gamma=1e-05 ..............................................\n",
      "[CV] ..................................... C=100, gamma=1e-05 -   0.0s\n",
      "[CV] C=100, gamma=1e-05 ..............................................\n",
      "[CV] ..................................... C=100, gamma=1e-05 -   0.0s\n",
      "[CV] C=100, gamma=1e-06 ..............................................\n",
      "[CV] ..................................... C=100, gamma=1e-06 -   0.0s\n",
      "[CV] C=100, gamma=1e-06 ..............................................\n",
      "[CV] ..................................... C=100, gamma=1e-06 -   0.0s\n",
      "[CV] C=100, gamma=1e-06 ..............................................\n",
      "[CV] ..................................... C=100, gamma=1e-06 -   0.0s\n",
      "[CV] C=10, gamma=1 ...................................................\n",
      "[CV] .......................................... C=10, gamma=1 -   0.0s\n",
      "[CV] C=10, gamma=1 ...................................................\n",
      "[CV] .......................................... C=10, gamma=1 -   0.0s\n",
      "[CV] C=10, gamma=1 ...................................................\n",
      "[CV] .......................................... C=10, gamma=1 -   0.0s\n",
      "[CV] C=10, gamma=0.1 .................................................\n",
      "[CV] ........................................ C=10, gamma=0.1 -   0.0s\n",
      "[CV] C=10, gamma=0.1 .................................................\n",
      "[CV] ........................................ C=10, gamma=0.1 -   0.0s\n",
      "[CV] C=10, gamma=0.1 .................................................\n",
      "[CV] ........................................ C=10, gamma=0.1 -   0.0s\n",
      "[CV] C=10, gamma=0.01 ................................................\n",
      "[CV] ....................................... C=10, gamma=0.01 -   0.0s\n",
      "[CV] C=10, gamma=0.01 ................................................\n",
      "[CV] ....................................... C=10, gamma=0.01 -   0.0s\n",
      "[CV] C=10, gamma=0.01 ................................................\n",
      "[CV] ....................................... C=10, gamma=0.01 -   0.0s\n",
      "[CV] C=10, gamma=0.001 ...............................................\n",
      "[CV] ...................................... C=10, gamma=0.001 -   0.0s\n",
      "[CV] C=10, gamma=0.001 ...............................................\n",
      "[CV] ...................................... C=10, gamma=0.001 -   0.0s\n",
      "[CV] C=10, gamma=0.001 ...............................................\n",
      "[CV] ...................................... C=10, gamma=0.001 -   0.0s\n",
      "[CV] C=10, gamma=0.0001 ..............................................\n",
      "[CV] ..................................... C=10, gamma=0.0001 -   0.0s\n",
      "[CV] C=10, gamma=0.0001 ..............................................\n",
      "[CV] ..................................... C=10, gamma=0.0001 -   0.0s\n",
      "[CV] C=10, gamma=0.0001 ..............................................\n",
      "[CV] ..................................... C=10, gamma=0.0001 -   0.0s\n",
      "[CV] C=10, gamma=1e-05 ...............................................\n",
      "[CV] ...................................... C=10, gamma=1e-05 -   0.0s\n",
      "[CV] C=10, gamma=1e-05 ...............................................\n",
      "[CV] ...................................... C=10, gamma=1e-05 -   0.0s\n",
      "[CV] C=10, gamma=1e-05 ...............................................\n",
      "[CV] ...................................... C=10, gamma=1e-05 -   0.0s\n",
      "[CV] C=10, gamma=1e-06 ...............................................\n",
      "[CV] ...................................... C=10, gamma=1e-06 -   0.0s\n",
      "[CV] C=10, gamma=1e-06 ...............................................\n",
      "[CV] ...................................... C=10, gamma=1e-06 -   0.0s\n",
      "[CV] C=10, gamma=1e-06 ...............................................\n",
      "[CV] ...................................... C=10, gamma=1e-06 -   0.0s\n",
      "[CV] C=1, gamma=1 ....................................................\n",
      "[CV] ........................................... C=1, gamma=1 -   0.0s\n",
      "[CV] C=1, gamma=1 ....................................................\n",
      "[CV] ........................................... C=1, gamma=1 -   0.0s\n",
      "[CV] C=1, gamma=1 ....................................................\n",
      "[CV] ........................................... C=1, gamma=1 -   0.0s\n",
      "[CV] C=1, gamma=0.1 ..................................................\n",
      "[CV] ......................................... C=1, gamma=0.1 -   0.0s\n",
      "[CV] C=1, gamma=0.1 ..................................................\n",
      "[CV] ......................................... C=1, gamma=0.1 -   0.0s\n",
      "[CV] C=1, gamma=0.1 ..................................................\n",
      "[CV] ......................................... C=1, gamma=0.1 -   0.0s\n",
      "[CV] C=1, gamma=0.01 .................................................\n",
      "[CV] ........................................ C=1, gamma=0.01 -   0.0s\n",
      "[CV] C=1, gamma=0.01 .................................................\n",
      "[CV] ........................................ C=1, gamma=0.01 -   0.0s\n",
      "[CV] C=1, gamma=0.01 .................................................\n",
      "[CV] ........................................ C=1, gamma=0.01 -   0.0s\n",
      "[CV] C=1, gamma=0.001 ................................................\n",
      "[CV] ....................................... C=1, gamma=0.001 -   0.0s\n",
      "[CV] C=1, gamma=0.001 ................................................\n",
      "[CV] ....................................... C=1, gamma=0.001 -   0.0s\n",
      "[CV] C=1, gamma=0.001 ................................................\n",
      "[CV] ....................................... C=1, gamma=0.001 -   0.0s\n",
      "[CV] C=1, gamma=0.0001 ...............................................\n",
      "[CV] ...................................... C=1, gamma=0.0001 -   0.0s\n",
      "[CV] C=1, gamma=0.0001 ...............................................\n",
      "[CV] ...................................... C=1, gamma=0.0001 -   0.0s\n",
      "[CV] C=1, gamma=0.0001 ...............................................\n"
     ]
    },
    {
     "name": "stdout",
     "output_type": "stream",
     "text": [
      "[CV] ...................................... C=1, gamma=0.0001 -   0.0s\n",
      "[CV] C=1, gamma=1e-05 ................................................\n",
      "[CV] ....................................... C=1, gamma=1e-05 -   0.0s\n",
      "[CV] C=1, gamma=1e-05 ................................................\n",
      "[CV] ....................................... C=1, gamma=1e-05 -   0.0s\n",
      "[CV] C=1, gamma=1e-05 ................................................\n",
      "[CV] ....................................... C=1, gamma=1e-05 -   0.0s\n",
      "[CV] C=1, gamma=1e-06 ................................................\n",
      "[CV] ....................................... C=1, gamma=1e-06 -   0.0s\n",
      "[CV] C=1, gamma=1e-06 ................................................\n",
      "[CV] ....................................... C=1, gamma=1e-06 -   0.0s\n",
      "[CV] C=1, gamma=1e-06 ................................................\n",
      "[CV] ....................................... C=1, gamma=1e-06 -   0.0s\n"
     ]
    },
    {
     "name": "stderr",
     "output_type": "stream",
     "text": [
      "[Parallel(n_jobs=1)]: Done 126 out of 126 | elapsed:    5.7s finished\n"
     ]
    },
    {
     "data": {
      "text/plain": [
       "GridSearchCV(cv=None, error_score='raise',\n",
       "       estimator=SVC(C=1.0, cache_size=200, class_weight=None, coef0=0.0,\n",
       "  decision_function_shape='ovr', degree=3, gamma='auto', kernel='rbf',\n",
       "  max_iter=-1, probability=False, random_state=None, shrinking=True,\n",
       "  tol=0.001, verbose=False),\n",
       "       fit_params={}, iid=True, n_jobs=1,\n",
       "       param_grid={'C': [100000, 10000, 1000, 100, 10, 1], 'gamma': [1, 0.1, 0.01, 0.001, 0.0001, 1e-05, 1e-06]},\n",
       "       pre_dispatch='2*n_jobs', refit=True, scoring=None, verbose=2)"
      ]
     },
     "execution_count": 65,
     "metadata": {},
     "output_type": "execute_result"
    }
   ],
   "source": [
    "grid = GridSearchCV(SVC(),{'C':[100000,10000,1000,100,10,1],'gamma':[1,0.1,0.01,0.001,0.0001,0.00001,0.000001]},verbose=2)\n",
    "grid.fit(xTreino,yTreino)"
   ]
  },
  {
   "cell_type": "code",
   "execution_count": 66,
   "metadata": {},
   "outputs": [],
   "source": [
    "preditosGrid = grid.predict(xTeste)"
   ]
  },
  {
   "cell_type": "code",
   "execution_count": 67,
   "metadata": {},
   "outputs": [
    {
     "name": "stdout",
     "output_type": "stream",
     "text": [
      "             precision    recall  f1-score   support\n",
      "\n",
      "          0       0.82      0.70      0.76       161\n",
      "          1       0.44      0.61      0.51        62\n",
      "\n",
      "avg / total       0.72      0.68      0.69       223\n",
      "\n"
     ]
    }
   ],
   "source": [
    "print(classification_report(preditosGrid,yTeste))"
   ]
  },
  {
   "cell_type": "code",
   "execution_count": 68,
   "metadata": {},
   "outputs": [
    {
     "data": {
      "text/plain": [
       "{'C': 1, 'gamma': 1e-06}"
      ]
     },
     "execution_count": 68,
     "metadata": {},
     "output_type": "execute_result"
    }
   ],
   "source": [
    "grid.best_params_"
   ]
  },
  {
   "cell_type": "code",
   "execution_count": 69,
   "metadata": {},
   "outputs": [],
   "source": [
    "from sklearn.naive_bayes import GaussianNB"
   ]
  },
  {
   "cell_type": "code",
   "execution_count": 70,
   "metadata": {},
   "outputs": [
    {
     "data": {
      "text/plain": [
       "GaussianNB(priors=None)"
      ]
     },
     "execution_count": 70,
     "metadata": {},
     "output_type": "execute_result"
    }
   ],
   "source": [
    "naiveB = GaussianNB()\n",
    "naiveB.fit(xTreino,yTreino)"
   ]
  },
  {
   "cell_type": "code",
   "execution_count": 71,
   "metadata": {},
   "outputs": [],
   "source": [
    "preditNB = naiveB.predict(xTeste)"
   ]
  },
  {
   "cell_type": "code",
   "execution_count": 72,
   "metadata": {},
   "outputs": [
    {
     "name": "stdout",
     "output_type": "stream",
     "text": [
      "             precision    recall  f1-score   support\n",
      "\n",
      "          0       0.91      0.66      0.77       188\n",
      "          1       0.27      0.66      0.38        35\n",
      "\n",
      "avg / total       0.81      0.66      0.71       223\n",
      "\n"
     ]
    }
   ],
   "source": [
    "print(classification_report(preditNB,yTeste))"
   ]
  },
  {
   "cell_type": "markdown",
   "metadata": {},
   "source": [
    "** Normalizando os dados **"
   ]
  },
  {
   "cell_type": "code",
   "execution_count": 73,
   "metadata": {},
   "outputs": [],
   "source": [
    "from sklearn.preprocessing import StandardScaler"
   ]
  },
  {
   "cell_type": "code",
   "execution_count": 74,
   "metadata": {},
   "outputs": [],
   "source": [
    "# norm = StandardScaler()\n",
    "# norm.fit(x)\n",
    "# xNorm = norm.transform(x)"
   ]
  },
  {
   "cell_type": "code",
   "execution_count": 75,
   "metadata": {},
   "outputs": [],
   "source": [
    "# xTreino,xTeste,yTreino,yTeste = train_test_split(xNorm,y)"
   ]
  },
  {
   "cell_type": "code",
   "execution_count": 76,
   "metadata": {},
   "outputs": [
    {
     "data": {
      "text/plain": [
       "GaussianNB(priors=None)"
      ]
     },
     "execution_count": 76,
     "metadata": {},
     "output_type": "execute_result"
    }
   ],
   "source": [
    "RF.fit(xTreino,yTreino)\n",
    "naiveB.fit(xTreino,yTreino)"
   ]
  },
  {
   "cell_type": "code",
   "execution_count": 77,
   "metadata": {},
   "outputs": [],
   "source": [
    "preditRf = RF.predict(xTeste)\n",
    "preditNb = naiveB.predict(xTeste)"
   ]
  },
  {
   "cell_type": "code",
   "execution_count": 78,
   "metadata": {},
   "outputs": [
    {
     "name": "stdout",
     "output_type": "stream",
     "text": [
      "             precision    recall  f1-score   support\n",
      "\n",
      "          0       0.91      0.66      0.77       188\n",
      "          1       0.27      0.66      0.38        35\n",
      "\n",
      "avg / total       0.81      0.66      0.71       223\n",
      "\n"
     ]
    }
   ],
   "source": [
    "print(classification_report(preditNB,yTeste))"
   ]
  },
  {
   "cell_type": "code",
   "execution_count": 79,
   "metadata": {},
   "outputs": [
    {
     "name": "stdout",
     "output_type": "stream",
     "text": [
      "             precision    recall  f1-score   support\n",
      "\n",
      "          0       0.86      0.88      0.87       134\n",
      "          1       0.81      0.79      0.80        89\n",
      "\n",
      "avg / total       0.84      0.84      0.84       223\n",
      "\n"
     ]
    }
   ],
   "source": [
    "print(classification_report(preditRf,yTeste))"
   ]
  },
  {
   "cell_type": "markdown",
   "metadata": {},
   "source": [
    "** Predizendo teste **"
   ]
  },
  {
   "cell_type": "code",
   "execution_count": 80,
   "metadata": {},
   "outputs": [
    {
     "data": {
      "text/plain": [
       "GaussianNB(priors=None)"
      ]
     },
     "execution_count": 80,
     "metadata": {},
     "output_type": "execute_result"
    }
   ],
   "source": [
    "RF.fit(x,y)\n",
    "naiveB.fit(x,y)"
   ]
  },
  {
   "cell_type": "code",
   "execution_count": 81,
   "metadata": {},
   "outputs": [],
   "source": [
    "# test = pd.read_csv('test.csv')"
   ]
  },
  {
   "cell_type": "code",
   "execution_count": 82,
   "metadata": {},
   "outputs": [
    {
     "name": "stdout",
     "output_type": "stream",
     "text": [
      "<class 'pandas.core.frame.DataFrame'>\n",
      "RangeIndex: 418 entries, 0 to 417\n",
      "Data columns (total 13 columns):\n",
      "PassengerId    418 non-null int64\n",
      "Pclass         418 non-null int64\n",
      "Name           418 non-null object\n",
      "Sex            418 non-null object\n",
      "Age            418 non-null float64\n",
      "SibSp          418 non-null int64\n",
      "Parch          418 non-null int64\n",
      "Ticket         418 non-null int32\n",
      "Fare           418 non-null float64\n",
      "Cabin          418 non-null object\n",
      "Embarked       418 non-null object\n",
      "saudação       418 non-null object\n",
      "sobrenome      418 non-null object\n",
      "dtypes: float64(2), int32(1), int64(4), object(6)\n",
      "memory usage: 40.9+ KB\n"
     ]
    }
   ],
   "source": [
    "test.info()"
   ]
  },
  {
   "cell_type": "code",
   "execution_count": 83,
   "metadata": {},
   "outputs": [],
   "source": [
    "# norm = StandardScaler()\n",
    "# norm.fit(x)\n",
    "# xNorm = norm.transform(x)"
   ]
  },
  {
   "cell_type": "code",
   "execution_count": 84,
   "metadata": {},
   "outputs": [],
   "source": [
    "#Retirando comprimento \n",
    "# def nomeSplit(name):\n",
    "#     split = name.replace(',',' ').split(' ')\n",
    "#     for item in split:\n",
    "#         if '.' in item:\n",
    "#             return item\n",
    "# test['saudação'] = test['Name'].apply(nomeSplit)"
   ]
  },
  {
   "cell_type": "code",
   "execution_count": 85,
   "metadata": {},
   "outputs": [],
   "source": [
    "#Retirando sobrenome \n",
    "# def sobrenome(name):\n",
    "#     split = name.split(',')\n",
    "#     return split[0]\n",
    "# test['sobrenome'] = test['Name'].apply(sobrenome)"
   ]
  },
  {
   "cell_type": "code",
   "execution_count": 86,
   "metadata": {},
   "outputs": [],
   "source": [
    "x = test.drop(['Name','Cabin'],axis=1)"
   ]
  },
  {
   "cell_type": "code",
   "execution_count": 87,
   "metadata": {},
   "outputs": [
    {
     "name": "stdout",
     "output_type": "stream",
     "text": [
      "<class 'pandas.core.frame.DataFrame'>\n",
      "RangeIndex: 418 entries, 0 to 417\n",
      "Data columns (total 11 columns):\n",
      "PassengerId    418 non-null int64\n",
      "Pclass         418 non-null int64\n",
      "Sex            418 non-null object\n",
      "Age            418 non-null float64\n",
      "SibSp          418 non-null int64\n",
      "Parch          418 non-null int64\n",
      "Ticket         418 non-null int32\n",
      "Fare           418 non-null float64\n",
      "Embarked       418 non-null object\n",
      "saudação       418 non-null object\n",
      "sobrenome      418 non-null object\n",
      "dtypes: float64(2), int32(1), int64(4), object(4)\n",
      "memory usage: 34.4+ KB\n"
     ]
    }
   ],
   "source": [
    "x.info()"
   ]
  },
  {
   "cell_type": "code",
   "execution_count": 88,
   "metadata": {},
   "outputs": [],
   "source": [
    "# test = test.fillna(-1)\n",
    "# for colum in test:\n",
    "#     if test[colum].dtype == object:\n",
    "#         test[colum] = test[colum].astype('category').cat.codes"
   ]
  },
  {
   "cell_type": "code",
   "execution_count": 89,
   "metadata": {},
   "outputs": [],
   "source": [
    "for colum in x:\n",
    "    if x[colum].dtype == object:\n",
    "#         labelDic[colum].fit(test[colum].astype(str))\n",
    "        x[colum] = labelDic[colum].transform(x[colum].astype(str))"
   ]
  },
  {
   "cell_type": "code",
   "execution_count": 90,
   "metadata": {},
   "outputs": [],
   "source": [
    "# for colum in x:\n",
    "#     if x[colum].dtype == object:\n",
    "#         x[colum] = x[colum].astype('category').cat.codes"
   ]
  },
  {
   "cell_type": "code",
   "execution_count": 91,
   "metadata": {
    "scrolled": true
   },
   "outputs": [
    {
     "name": "stdout",
     "output_type": "stream",
     "text": [
      "<class 'pandas.core.frame.DataFrame'>\n",
      "RangeIndex: 418 entries, 0 to 417\n",
      "Data columns (total 11 columns):\n",
      "PassengerId    418 non-null int64\n",
      "Pclass         418 non-null int64\n",
      "Sex            418 non-null int64\n",
      "Age            418 non-null float64\n",
      "SibSp          418 non-null int64\n",
      "Parch          418 non-null int64\n",
      "Ticket         418 non-null int32\n",
      "Fare           418 non-null float64\n",
      "Embarked       418 non-null int64\n",
      "saudação       418 non-null int64\n",
      "sobrenome      418 non-null int64\n",
      "dtypes: float64(2), int32(1), int64(8)\n",
      "memory usage: 34.4 KB\n"
     ]
    }
   ],
   "source": [
    "x.info()"
   ]
  },
  {
   "cell_type": "code",
   "execution_count": 92,
   "metadata": {},
   "outputs": [],
   "source": [
    "preditos = RF.predict(x)\n",
    "saida = pd.DataFrame(preditos,index=test.PassengerId,columns=['Survived'])"
   ]
  },
  {
   "cell_type": "code",
   "execution_count": 93,
   "metadata": {},
   "outputs": [],
   "source": [
    "saida.to_csv('saida.csv')"
   ]
  },
  {
   "cell_type": "code",
   "execution_count": null,
   "metadata": {},
   "outputs": [],
   "source": []
  }
 ],
 "metadata": {
  "kernelspec": {
   "display_name": "Python 3",
   "language": "python",
   "name": "python3"
  },
  "language_info": {
   "codemirror_mode": {
    "name": "ipython",
    "version": 3
   },
   "file_extension": ".py",
   "mimetype": "text/x-python",
   "name": "python",
   "nbconvert_exporter": "python",
   "pygments_lexer": "ipython3",
   "version": "3.7.0"
  }
 },
 "nbformat": 4,
 "nbformat_minor": 2
}
