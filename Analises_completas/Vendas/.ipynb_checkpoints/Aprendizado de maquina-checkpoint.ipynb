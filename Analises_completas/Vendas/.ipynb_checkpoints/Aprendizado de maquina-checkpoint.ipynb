{
 "cells": [
  {
   "cell_type": "markdown",
   "metadata": {},
   "source": [
    "## Aprendizado de maquina"
   ]
  },
  {
   "cell_type": "markdown",
   "metadata": {},
   "source": [
    "Após feita a análise dos dados vamos tentar criar um modelo de predição dos dados utilizando bibliotecas de machine learning.\n",
    "\n",
    "\n",
    "Será feito 3 tipos de analises:\n",
    "    \n",
    "-**Modelos de regressão:** \n",
    "\n",
    "-**Modelos de Classificação:** \n",
    "\n",
    "-**Modelos de autoregressão:** Vamos aplicar um modelo de autoregressão para conseguir prever as receitas futuras da empresa.\n",
    "\n",
    "Serão testados dois tipos de modelos, o primeiro serão modelos de **regressão**, tendo como resposta qual será o valor da receita do produto, o segundo um modelo de **classificação**, tendo como resposta como será a receita do produto entre 4 classes (muito alta, alta, media, baixa, muito baixa)"
   ]
  },
  {
   "cell_type": "markdown",
   "metadata": {},
   "source": [
    "## Lendo os dados"
   ]
  },
  {
   "cell_type": "code",
   "execution_count": 1,
   "metadata": {},
   "outputs": [],
   "source": [
    "#Importando bibliotecas nescessárias \n",
    "import numpy as np\n",
    "import pandas as pd \n",
    "import seaborn as sns\n",
    "import matplotlib.pyplot as plt\n",
    "%matplotlib inline"
   ]
  },
  {
   "cell_type": "code",
   "execution_count": 2,
   "metadata": {},
   "outputs": [],
   "source": [
    "#importando SalesFacts\n",
    "vendas = pd.read_csv('salesFacts.csv',delimiter='\\t')\n",
    "vendas.head()\n",
    "\n",
    "#Lendo arquivo Dados de vendas\n",
    "arq = pd.ExcelFile('Dados.xlsx')\n",
    "arq.sheet_names\n",
    "\n",
    "#Lendo tabelas do dos produtos, data, geografia e fabricante\n",
    "products = pd.read_excel(arq,'Product')\n",
    "manufacturer = pd.read_excel(arq,'Manufacturer')\n",
    "geo = pd.read_excel(arq,'Geo')\n",
    "date = pd.read_excel(arq,'Date')"
   ]
  },
  {
   "cell_type": "markdown",
   "metadata": {},
   "source": [
    "# PrepData"
   ]
  },
  {
   "cell_type": "markdown",
   "metadata": {},
   "source": [
    "### Retirando dados da VanArsdel"
   ]
  },
  {
   "cell_type": "markdown",
   "metadata": {},
   "source": [
    "**Juntando dados da VanArsdel e Produtos**"
   ]
  },
  {
   "cell_type": "code",
   "execution_count": 3,
   "metadata": {},
   "outputs": [
    {
     "data": {
      "text/html": [
       "<div>\n",
       "<style scoped>\n",
       "    .dataframe tbody tr th:only-of-type {\n",
       "        vertical-align: middle;\n",
       "    }\n",
       "\n",
       "    .dataframe tbody tr th {\n",
       "        vertical-align: top;\n",
       "    }\n",
       "\n",
       "    .dataframe thead th {\n",
       "        text-align: right;\n",
       "    }\n",
       "</style>\n",
       "<table border=\"1\" class=\"dataframe\">\n",
       "  <thead>\n",
       "    <tr style=\"text-align: right;\">\n",
       "      <th></th>\n",
       "      <th>ProductID</th>\n",
       "      <th>Date</th>\n",
       "      <th>Zip</th>\n",
       "      <th>Units</th>\n",
       "      <th>Revenue</th>\n",
       "    </tr>\n",
       "  </thead>\n",
       "  <tbody>\n",
       "    <tr>\n",
       "      <th>0</th>\n",
       "      <td>88</td>\n",
       "      <td>15/02/2000 12:00:00 AM</td>\n",
       "      <td>95605</td>\n",
       "      <td>92</td>\n",
       "      <td>$926,780.40</td>\n",
       "    </tr>\n",
       "    <tr>\n",
       "      <th>1</th>\n",
       "      <td>2263</td>\n",
       "      <td>12/11/2008 12:00:00 AM</td>\n",
       "      <td>33178</td>\n",
       "      <td>44</td>\n",
       "      <td>$177,380.28</td>\n",
       "    </tr>\n",
       "    <tr>\n",
       "      <th>2</th>\n",
       "      <td>2262</td>\n",
       "      <td>12/11/2008 12:00:00 AM</td>\n",
       "      <td>33178</td>\n",
       "      <td>44</td>\n",
       "      <td>$177,380.28</td>\n",
       "    </tr>\n",
       "    <tr>\n",
       "      <th>3</th>\n",
       "      <td>764</td>\n",
       "      <td>27/07/2004 12:00:00 AM</td>\n",
       "      <td>27522</td>\n",
       "      <td>40</td>\n",
       "      <td>$146,134.80</td>\n",
       "    </tr>\n",
       "    <tr>\n",
       "      <th>4</th>\n",
       "      <td>763</td>\n",
       "      <td>27/07/2004 12:00:00 AM</td>\n",
       "      <td>27522</td>\n",
       "      <td>40</td>\n",
       "      <td>$146,134.80</td>\n",
       "    </tr>\n",
       "  </tbody>\n",
       "</table>\n",
       "</div>"
      ],
      "text/plain": [
       "   ProductID                    Date    Zip  Units      Revenue\n",
       "0         88  15/02/2000 12:00:00 AM  95605     92  $926,780.40\n",
       "1       2263  12/11/2008 12:00:00 AM  33178     44  $177,380.28\n",
       "2       2262  12/11/2008 12:00:00 AM  33178     44  $177,380.28\n",
       "3        764  27/07/2004 12:00:00 AM  27522     40  $146,134.80\n",
       "4        763  27/07/2004 12:00:00 AM  27522     40  $146,134.80"
      ]
     },
     "execution_count": 3,
     "metadata": {},
     "output_type": "execute_result"
    }
   ],
   "source": [
    "vendas.head()"
   ]
  },
  {
   "cell_type": "code",
   "execution_count": 4,
   "metadata": {},
   "outputs": [
    {
     "data": {
      "text/html": [
       "<div>\n",
       "<style scoped>\n",
       "    .dataframe tbody tr th:only-of-type {\n",
       "        vertical-align: middle;\n",
       "    }\n",
       "\n",
       "    .dataframe tbody tr th {\n",
       "        vertical-align: top;\n",
       "    }\n",
       "\n",
       "    .dataframe thead th {\n",
       "        text-align: right;\n",
       "    }\n",
       "</style>\n",
       "<table border=\"1\" class=\"dataframe\">\n",
       "  <thead>\n",
       "    <tr style=\"text-align: right;\">\n",
       "      <th></th>\n",
       "      <th>Manufacturer</th>\n",
       "      <th>Category</th>\n",
       "      <th>Segment</th>\n",
       "      <th>Product</th>\n",
       "      <th>ProductID</th>\n",
       "      <th>isVanArsdel</th>\n",
       "      <th>IsCompeteHide</th>\n",
       "      <th>ManufacturerID</th>\n",
       "      <th>IsCompete</th>\n",
       "    </tr>\n",
       "  </thead>\n",
       "  <tbody>\n",
       "    <tr>\n",
       "      <th>0</th>\n",
       "      <td>VanArsdel</td>\n",
       "      <td>Urban</td>\n",
       "      <td>Convenience</td>\n",
       "      <td>Maximus UC-01</td>\n",
       "      <td>536</td>\n",
       "      <td>Yes</td>\n",
       "      <td>N</td>\n",
       "      <td>7</td>\n",
       "      <td>No</td>\n",
       "    </tr>\n",
       "    <tr>\n",
       "      <th>1</th>\n",
       "      <td>VanArsdel</td>\n",
       "      <td>Urban</td>\n",
       "      <td>Convenience</td>\n",
       "      <td>Maximus UC-02</td>\n",
       "      <td>537</td>\n",
       "      <td>Yes</td>\n",
       "      <td>N</td>\n",
       "      <td>7</td>\n",
       "      <td>No</td>\n",
       "    </tr>\n",
       "    <tr>\n",
       "      <th>2</th>\n",
       "      <td>VanArsdel</td>\n",
       "      <td>Urban</td>\n",
       "      <td>Convenience</td>\n",
       "      <td>Maximus UC-03</td>\n",
       "      <td>538</td>\n",
       "      <td>Yes</td>\n",
       "      <td>N</td>\n",
       "      <td>7</td>\n",
       "      <td>No</td>\n",
       "    </tr>\n",
       "    <tr>\n",
       "      <th>3</th>\n",
       "      <td>VanArsdel</td>\n",
       "      <td>Urban</td>\n",
       "      <td>Convenience</td>\n",
       "      <td>Maximus UC-04</td>\n",
       "      <td>539</td>\n",
       "      <td>Yes</td>\n",
       "      <td>N</td>\n",
       "      <td>7</td>\n",
       "      <td>No</td>\n",
       "    </tr>\n",
       "    <tr>\n",
       "      <th>4</th>\n",
       "      <td>VanArsdel</td>\n",
       "      <td>Urban</td>\n",
       "      <td>Convenience</td>\n",
       "      <td>Maximus UC-05</td>\n",
       "      <td>540</td>\n",
       "      <td>Yes</td>\n",
       "      <td>N</td>\n",
       "      <td>7</td>\n",
       "      <td>No</td>\n",
       "    </tr>\n",
       "  </tbody>\n",
       "</table>\n",
       "</div>"
      ],
      "text/plain": [
       "  Manufacturer Category      Segment        Product  ProductID isVanArsdel  \\\n",
       "0    VanArsdel    Urban  Convenience  Maximus UC-01        536         Yes   \n",
       "1    VanArsdel    Urban  Convenience  Maximus UC-02        537         Yes   \n",
       "2    VanArsdel    Urban  Convenience  Maximus UC-03        538         Yes   \n",
       "3    VanArsdel    Urban  Convenience  Maximus UC-04        539         Yes   \n",
       "4    VanArsdel    Urban  Convenience  Maximus UC-05        540         Yes   \n",
       "\n",
       "  IsCompeteHide  ManufacturerID IsCompete  \n",
       "0             N               7        No  \n",
       "1             N               7        No  \n",
       "2             N               7        No  \n",
       "3             N               7        No  \n",
       "4             N               7        No  "
      ]
     },
     "execution_count": 4,
     "metadata": {},
     "output_type": "execute_result"
    }
   ],
   "source": [
    "products.head()"
   ]
  },
  {
   "cell_type": "code",
   "execution_count": 5,
   "metadata": {},
   "outputs": [],
   "source": [
    "vendasProduto = pd.merge(vendas,products,on='ProductID')"
   ]
  },
  {
   "cell_type": "markdown",
   "metadata": {},
   "source": [
    "**Filtrando VanArsdel**"
   ]
  },
  {
   "cell_type": "code",
   "execution_count": 6,
   "metadata": {},
   "outputs": [],
   "source": [
    "vendasProduto = vendasProduto[vendasProduto['isVanArsdel'] == 'Yes']"
   ]
  },
  {
   "cell_type": "markdown",
   "metadata": {},
   "source": [
    "### Convertendo Receita para numerico"
   ]
  },
  {
   "cell_type": "code",
   "execution_count": 7,
   "metadata": {},
   "outputs": [],
   "source": [
    "def tratarReceita(receita):\n",
    "    if type(receita) == str:\n",
    "        receita = receita.replace('$','').replace(',','')\n",
    "        return float(receita)\n",
    "vendasProduto['Revenue'] = vendasProduto['Revenue'].apply(tratarReceita)"
   ]
  },
  {
   "cell_type": "markdown",
   "metadata": {},
   "source": [
    "### Convertendo tabela para serie temporal"
   ]
  },
  {
   "cell_type": "code",
   "execution_count": 8,
   "metadata": {},
   "outputs": [],
   "source": [
    "from datetime import datetime\n",
    "def convertData(data):\n",
    "    return datetime.strptime(data,'%d/%m/%Y %H:%M:%S %p')\n",
    "vendasProduto['Date'] = vendasProduto['Date'].apply(convertData)\n",
    "vendasProduto = vendasProduto.set_index(vendasProduto['Date'])"
   ]
  },
  {
   "cell_type": "code",
   "execution_count": 9,
   "metadata": {},
   "outputs": [
    {
     "data": {
      "text/plain": [
       "<matplotlib.axes._subplots.AxesSubplot at 0x209dd5dac18>"
      ]
     },
     "execution_count": 9,
     "metadata": {},
     "output_type": "execute_result"
    },
    {
     "data": {
      "image/png": "[encoded data removed]",
      "text/plain": [
       "<Figure size 432x288 with 1 Axes>"
      ]
     },
     "metadata": {
      "needs_background": "light"
     },
     "output_type": "display_data"
    }
   ],
   "source": [
    "vendasGrupo = vendasProduto.groupby(pd.Grouper(freq='d')).sum()\n",
    "vendasGrupo['Revenue'].plot()"
   ]
  },
  {
   "cell_type": "markdown",
   "metadata": {},
   "source": [
    "### Juntandos os dados"
   ]
  },
  {
   "cell_type": "code",
   "execution_count": 10,
   "metadata": {},
   "outputs": [],
   "source": [
    "#Vendas + Produtos + Geo\n",
    "merge = pd.merge(vendasProduto,geo,on='Zip')"
   ]
  },
  {
   "cell_type": "markdown",
   "metadata": {},
   "source": [
    "**Retirando redundância**"
   ]
  },
  {
   "cell_type": "code",
   "execution_count": 11,
   "metadata": {},
   "outputs": [],
   "source": [
    "merge.drop(['isVanArsdel','Manufacturer','Product'],axis=1,inplace=True)"
   ]
  },
  {
   "cell_type": "markdown",
   "metadata": {},
   "source": [
    "**Retirando dados da datas**"
   ]
  },
  {
   "cell_type": "code",
   "execution_count": 12,
   "metadata": {},
   "outputs": [],
   "source": [
    "merge['day'] = merge.Date.dt.day\n",
    "merge['month'] = merge.Date.dt.month\n",
    "merge['monthofweek'] = merge.Date.dt.dayofweek"
   ]
  },
  {
   "cell_type": "markdown",
   "metadata": {},
   "source": [
    "**Convertendo data para timeStamp**"
   ]
  },
  {
   "cell_type": "code",
   "execution_count": 13,
   "metadata": {},
   "outputs": [],
   "source": [
    "def getTimeStamp(data):\n",
    "    return data.timestamp()\n",
    "merge['TimeStamp'] = merge['Date'].apply(getTimeStamp)"
   ]
  },
  {
   "cell_type": "markdown",
   "metadata": {},
   "source": [
    "**Verificando tipos Não numericos**"
   ]
  },
  {
   "cell_type": "code",
   "execution_count": 14,
   "metadata": {},
   "outputs": [
    {
     "name": "stdout",
     "output_type": "stream",
     "text": [
      "<class 'pandas.core.frame.DataFrame'>\n",
      "Int64Index: 290569 entries, 0 to 290568\n",
      "Data columns (total 18 columns):\n",
      "ProductID         290569 non-null int64\n",
      "Date              290569 non-null datetime64[ns]\n",
      "Zip               290569 non-null int64\n",
      "Units             290569 non-null int64\n",
      "Revenue           290566 non-null float64\n",
      "Category          290569 non-null object\n",
      "Segment           290569 non-null object\n",
      "IsCompeteHide     290569 non-null object\n",
      "ManufacturerID    290569 non-null int64\n",
      "IsCompete         290569 non-null object\n",
      "City              290569 non-null object\n",
      "State             290569 non-null object\n",
      "Region            290569 non-null object\n",
      "District          290569 non-null object\n",
      "day               290569 non-null int64\n",
      "month             290569 non-null int64\n",
      "monthofweek       290569 non-null int64\n",
      "TimeStamp         290569 non-null float64\n",
      "dtypes: datetime64[ns](1), float64(2), int64(7), object(8)\n",
      "memory usage: 42.1+ MB\n"
     ]
    }
   ],
   "source": [
    "merge.info()"
   ]
  },
  {
   "cell_type": "code",
   "execution_count": 15,
   "metadata": {},
   "outputs": [
    {
     "data": {
      "text/plain": [
       "array(['Urban', 'Rural'], dtype=object)"
      ]
     },
     "execution_count": 15,
     "metadata": {},
     "output_type": "execute_result"
    }
   ],
   "source": [
    "merge.Category.unique()"
   ]
  },
  {
   "cell_type": "code",
   "execution_count": 16,
   "metadata": {},
   "outputs": [
    {
     "data": {
      "text/plain": [
       "array(['Moderation', 'Convenience', 'Extreme', 'Regular', 'Select',\n",
       "       'Productivity'], dtype=object)"
      ]
     },
     "execution_count": 16,
     "metadata": {},
     "output_type": "execute_result"
    }
   ],
   "source": [
    "merge.Segment.unique()"
   ]
  },
  {
   "cell_type": "code",
   "execution_count": 17,
   "metadata": {},
   "outputs": [
    {
     "data": {
      "text/plain": [
       "array(['Y', 'N'], dtype=object)"
      ]
     },
     "execution_count": 17,
     "metadata": {},
     "output_type": "execute_result"
    }
   ],
   "source": [
    "merge.IsCompeteHide.unique()"
   ]
  },
  {
   "cell_type": "code",
   "execution_count": 18,
   "metadata": {},
   "outputs": [
    {
     "data": {
      "text/plain": [
       "array(['Yes', 'No'], dtype=object)"
      ]
     },
     "execution_count": 18,
     "metadata": {},
     "output_type": "execute_result"
    }
   ],
   "source": [
    "merge.IsCompete.unique()"
   ]
  },
  {
   "cell_type": "code",
   "execution_count": 19,
   "metadata": {},
   "outputs": [
    {
     "data": {
      "text/plain": [
       "array(['Rapid City, SD', 'Fort Lauderdale, FL', 'Woodside, NY', ...,\n",
       "       'Tierra Amarilla, NM', 'Coffeen, IL', 'Claverack, NY'],\n",
       "      dtype=object)"
      ]
     },
     "execution_count": 19,
     "metadata": {},
     "output_type": "execute_result"
    }
   ],
   "source": [
    "merge.City.unique()"
   ]
  },
  {
   "cell_type": "code",
   "execution_count": 20,
   "metadata": {},
   "outputs": [
    {
     "data": {
      "text/plain": [
       "array(['SD', 'FL', 'NY', 'OH', 'GA', 'MI', 'WA', 'UT', 'PA', 'OK', 'AL',\n",
       "       'MO', 'VA', 'NJ', 'TX', 'CO', 'NC', 'IL', 'IA', 'MS', 'CA', 'NE',\n",
       "       'WI', 'KS', 'MA', 'MN', 'ID', 'SC', 'WY', 'OR', 'IN', 'NM', 'MT',\n",
       "       'AZ', 'KY', 'CT', 'LA', 'WV', 'TN', 'AK', 'NV', 'MD', 'AR', 'ND',\n",
       "       'DE', 'RI', 'NH', 'VT', 'DC'], dtype=object)"
      ]
     },
     "execution_count": 20,
     "metadata": {},
     "output_type": "execute_result"
    }
   ],
   "source": [
    "merge.State.unique()"
   ]
  },
  {
   "cell_type": "code",
   "execution_count": 21,
   "metadata": {},
   "outputs": [
    {
     "data": {
      "text/plain": [
       "array(['Central', 'East', 'West'], dtype=object)"
      ]
     },
     "execution_count": 21,
     "metadata": {},
     "output_type": "execute_result"
    }
   ],
   "source": [
    "merge.Region.unique()"
   ]
  },
  {
   "cell_type": "code",
   "execution_count": 22,
   "metadata": {},
   "outputs": [
    {
     "data": {
      "text/plain": [
       "array(['District #32', 'District #10', 'District #03', 'District #14',\n",
       "       'District #09', 'District #18', 'District #34', 'District #33',\n",
       "       'District #13', 'District #21', 'District #30', 'District #07',\n",
       "       'District #22', 'District #12', 'District #20', 'District #23',\n",
       "       'District #11', 'District #31', 'District #24', 'District #08',\n",
       "       'District #36', 'District #38', 'District #27', 'District #02',\n",
       "       'District #28', 'District #04', 'District #35', 'District #17',\n",
       "       'District #19', 'District #37', 'District #39', 'District #05',\n",
       "       'District #16', 'District #29', 'District #25', 'District #15',\n",
       "       'District #26', 'District #01', 'District #06'], dtype=object)"
      ]
     },
     "execution_count": 22,
     "metadata": {},
     "output_type": "execute_result"
    }
   ],
   "source": [
    "merge.District.unique()"
   ]
  },
  {
   "cell_type": "markdown",
   "metadata": {},
   "source": [
    "**Arrumando dados binarios**"
   ]
  },
  {
   "cell_type": "code",
   "execution_count": 23,
   "metadata": {},
   "outputs": [],
   "source": [
    "def tratIsCompete(valor):\n",
    "    if valor == 'Yes':\n",
    "        return 1\n",
    "    elif valor == 'No':\n",
    "        return 0\n",
    "    else:\n",
    "        #O else será utilizado por segurança, caso acha floats ou a execute célula mais de uma vez\n",
    "        return valor\n",
    "merge.IsCompete = merge.IsCompete.apply(tratIsCompete)"
   ]
  },
  {
   "cell_type": "code",
   "execution_count": null,
   "metadata": {},
   "outputs": [],
   "source": [
    "def tratIsCompeteHide(valor):\n",
    "    if valor == 'Y':\n",
    "        return 1\n",
    "    elif valor == 'N':\n",
    "        return 0\n",
    "    else:\n",
    "        #O else será utilizado por segurança, caso acha floats ou a execute célula mais de uma vez\n",
    "        return valor\n",
    "merge.IsCompeteHide = merge.IsCompeteHide.apply(tratIsCompeteHide)"
   ]
  },
  {
   "cell_type": "markdown",
   "metadata": {},
   "source": [
    "**Arrumando Dummies**"
   ]
  },
  {
   "cell_type": "code",
   "execution_count": null,
   "metadata": {},
   "outputs": [
    {
     "name": "stdout",
     "output_type": "stream",
     "text": [
      "<class 'pandas.core.frame.DataFrame'>\n",
      "Int64Index: 290569 entries, 0 to 290568\n",
      "Data columns (total 18 columns):\n",
      "ProductID         290569 non-null int64\n",
      "Date              290569 non-null datetime64[ns]\n",
      "Zip               290569 non-null int64\n",
      "Units             290569 non-null int64\n",
      "Revenue           290566 non-null float64\n",
      "Category          290569 non-null object\n",
      "Segment           290569 non-null object\n",
      "IsCompeteHide     290569 non-null int64\n",
      "ManufacturerID    290569 non-null int64\n",
      "IsCompete         290569 non-null int64\n",
      "City              290569 non-null object\n",
      "State             290569 non-null object\n",
      "Region            290569 non-null object\n",
      "District          290569 non-null object\n",
      "day               290569 non-null int64\n",
      "month             290569 non-null int64\n",
      "monthofweek       290569 non-null int64\n",
      "TimeStamp         290569 non-null float64\n",
      "dtypes: datetime64[ns](1), float64(2), int64(9), object(6)\n",
      "memory usage: 42.1+ MB\n"
     ]
    }
   ],
   "source": [
    "merge.info()"
   ]
  },
  {
   "cell_type": "code",
   "execution_count": null,
   "metadata": {},
   "outputs": [],
   "source": [
    "merge_final = pd.get_dummies(merge)"
   ]
  },
  {
   "cell_type": "code",
   "execution_count": null,
   "metadata": {},
   "outputs": [
    {
     "name": "stdout",
     "output_type": "stream",
     "text": [
      "<class 'pandas.core.frame.DataFrame'>\n",
      "Int64Index: 290569 entries, 0 to 290568\n",
      "Columns: 19871 entries, ProductID to District_District #39\n",
      "dtypes: datetime64[ns](1), float64(2), int64(9), uint8(19859)\n",
      "memory usage: 5.4 GB\n"
     ]
    }
   ],
   "source": [
    "merge_final.info()"
   ]
  },
  {
   "cell_type": "markdown",
   "metadata": {},
   "source": [
    "**Diminuindo tamanho da amostra**\n",
    "\n",
    "Vamos pegar 20% do conjunto dos dados"
   ]
  },
  {
   "cell_type": "code",
   "execution_count": null,
   "metadata": {},
   "outputs": [],
   "source": [
    "ponto_corte = int(len(merge_final)*0.2)\n",
    "merge_final_amostra = merge_final.sample(ponto_corte)\n",
    "merge_final_amostra = merge_final_amostra.dropna()"
   ]
  },
  {
   "cell_type": "markdown",
   "metadata": {},
   "source": [
    "## Modelos de regressão\n",
    "\n",
    "Foram usandos os modelos:\n",
    "- Regressão Linear\n",
    "- Regressão Lasso\n",
    "- Regressão Ridge\n",
    "- KNN\n",
    "- Arvore de regressão\n",
    "- Random Forest\n",
    "- SVM\n",
    "- Redes Neurais Simples: Multi Layer Perceptron\n",
    "- Modelos de Redes Neurais:\n",
    "    - Densa\n",
    "    - ...\n",
    "- XBoosting \n",
    "\n",
    "\n",
    "Para Analisa-las foi utilizado um modelo de cross-validation com 5 divisões, analisado dados de R2, media do erro absoluto e media do erro quadratico."
   ]
  },
  {
   "cell_type": "code",
   "execution_count": null,
   "metadata": {},
   "outputs": [],
   "source": [
    "#Cross validade\n",
    "from sklearn.model_selection import cross_validate\n",
    "#Modelos de regressão Sklearn\n",
    "from sklearn.linear_model import LinearRegression,Lasso,Ridge\n",
    "from sklearn.neighbors import KNeighborsRegressor\n",
    "from sklearn.tree import DecisionTreeClassifier\n",
    "from sklearn.ensemble import RandomForestRegressor\n",
    "from sklearn.svm import SVR\n",
    "from sklearn.neural_network import MLPRegressor"
   ]
  },
  {
   "cell_type": "markdown",
   "metadata": {},
   "source": [
    "**Separando dados**"
   ]
  },
  {
   "cell_type": "code",
   "execution_count": null,
   "metadata": {},
   "outputs": [],
   "source": [
    "y = merge_final_amostra['Revenue']\n",
    "x = merge_final_amostra.drop(['Revenue','Date'],axis=1)"
   ]
  },
  {
   "cell_type": "code",
   "execution_count": null,
   "metadata": {},
   "outputs": [],
   "source": [
    "RL = LinearRegression()\n",
    "Lasso = Lasso()\n",
    "Rigde = Ridge()\n",
    "Knn = KNeighborsRegressor()\n",
    "DT = DecisionTreeClassifier()\n",
    "RF = RandomForestRegressor()\n",
    "svm = SVR()\n",
    "rn = MLPRegressor()\n",
    "\n",
    "scoring = ['r2', 'neg_mean_absolute_error','neg_mean_squared_error']\n",
    "scoresRL = cross_validate(RL, x, y, scoring=scoring,cv=5, return_train_score=False)\n",
    "scoresLasso = cross_validate(Lasso, x, y, scoring=scoring,cv=5, return_train_score=False)\n",
    "scoresRigde = cross_validate(Rigde, x, y, scoring=scoring,cv=5, return_train_score=False)\n",
    "scoresKnn = cross_validate(Knn, x, y, scoring=scoring,cv=5, return_train_score=False)\n",
    "scoresDT = cross_validate(DT, x, y, scoring=scoring,cv=5, return_train_score=False)\n",
    "scoresRF = cross_validate(RF, x, y, scoring=scoring,cv=5, return_train_score=False)\n",
    "scoresSvm = cross_validate(svm, x, y, scoring=scoring,cv=5, return_train_score=False)\n",
    "scoresRN = cross_validate(rn, x, y, scoring=scoring,cv=5, return_train_score=False)"
   ]
  },
  {
   "cell_type": "code",
   "execution_count": null,
   "metadata": {},
   "outputs": [],
   "source": []
  },
  {
   "cell_type": "code",
   "execution_count": null,
   "metadata": {},
   "outputs": [],
   "source": []
  },
  {
   "cell_type": "markdown",
   "metadata": {},
   "source": [
    "# Receita Futura"
   ]
  },
  {
   "cell_type": "markdown",
   "metadata": {},
   "source": [
    "**Verificando autoCorrelação**"
   ]
  },
  {
   "cell_type": "code",
   "execution_count": null,
   "metadata": {},
   "outputs": [],
   "source": [
    "pd.plotting.autocorrelation_plot(vendasGrupo['Revenue'])"
   ]
  },
  {
   "cell_type": "code",
   "execution_count": null,
   "metadata": {},
   "outputs": [],
   "source": [
    "pd.plotting.autocorrelation_plot(vendasGrupo['2008':]['Revenue'])"
   ]
  },
  {
   "cell_type": "markdown",
   "metadata": {},
   "source": [
    "### Fazendo modelo de autoRegressão"
   ]
  },
  {
   "cell_type": "markdown",
   "metadata": {},
   "source": [
    "**Separando a cauda para testes**"
   ]
  },
  {
   "cell_type": "code",
   "execution_count": null,
   "metadata": {},
   "outputs": [],
   "source": [
    "y = vendasGrupo['Revenue']"
   ]
  },
  {
   "cell_type": "code",
   "execution_count": null,
   "metadata": {},
   "outputs": [],
   "source": [
    "pontoCorte = int(len(y)*0.66)\n",
    "indexPC = y.index[pontoCorte]"
   ]
  },
  {
   "cell_type": "code",
   "execution_count": null,
   "metadata": {},
   "outputs": [],
   "source": [
    "yTreino = y[:str(indexPC)]\n",
    "yTeste = y[str(indexPC):]"
   ]
  },
  {
   "cell_type": "markdown",
   "metadata": {},
   "source": [
    "**Fazendo autoRegressão, StatsModels**"
   ]
  },
  {
   "cell_type": "code",
   "execution_count": null,
   "metadata": {},
   "outputs": [],
   "source": [
    "from statsmodels.tsa.ar_model import AR"
   ]
  },
  {
   "cell_type": "code",
   "execution_count": null,
   "metadata": {},
   "outputs": [],
   "source": [
    "modelo = AR(yTreino)\n",
    "modelofit = modelo.fit()\n",
    "previstos = modelofit.predict(start=len(yTreino),end=len(yTreino)+len(yTeste)-1)"
   ]
  },
  {
   "cell_type": "markdown",
   "metadata": {},
   "source": [
    "**Calculando a Acuracia**"
   ]
  },
  {
   "cell_type": "code",
   "execution_count": null,
   "metadata": {},
   "outputs": [],
   "source": [
    "from sklearn.metrics import mean_absolute_error\n",
    "error = previstos - yTeste\n",
    "mean_absolute_error(previstos,yTeste)/y.mean()"
   ]
  },
  {
   "cell_type": "markdown",
   "metadata": {},
   "source": [
    "**Fazendo Arima**"
   ]
  },
  {
   "cell_type": "code",
   "execution_count": null,
   "metadata": {},
   "outputs": [],
   "source": [
    "from statsmodels.tsa.arima_model import ARIMA\n",
    "#This sets the lag value to 5 for autoregression, \n",
    "#uses a difference order of 1 to make the time series stationary, \n",
    "#and uses a moving average model of 0\n",
    "model = ARIMA(y, order=(5,1,0))\n",
    "model_fit = model.fit(disp=0)\n",
    "print(model_fit.summary())"
   ]
  },
  {
   "cell_type": "code",
   "execution_count": null,
   "metadata": {},
   "outputs": [],
   "source": [
    "# plot residual errors\n",
    "residuals = pd.DataFrame(model_fit.resid)\n",
    "residuals.plot()\n",
    "residuals.plot(kind='kde')"
   ]
  },
  {
   "cell_type": "code",
   "execution_count": null,
   "metadata": {},
   "outputs": [],
   "source": [
    "history = list(yTreino)\n",
    "predictions = []\n",
    "for valor in yTeste:\n",
    "    model = ARIMA(history, order=(5,1,0))\n",
    "    model_fit = model.fit(disp=0)\n",
    "    output = model_fit.forecast()\n",
    "    previsao = output[0]\n",
    "    predictions.append(previsao)\n",
    "    history.append(valor)"
   ]
  },
  {
   "cell_type": "code",
   "execution_count": null,
   "metadata": {},
   "outputs": [],
   "source": [
    "# from sklearn.metrics import mean_squared_error\n",
    "# error = mean_squared_error(yTeste, predictions)\n",
    "# print('Test MSE: %.3f' % error)\n",
    "# # plot\n",
    "# plt.plot(yTeste)\n",
    "# plt.plot(predictions, color='red')"
   ]
  },
  {
   "cell_type": "code",
   "execution_count": null,
   "metadata": {},
   "outputs": [],
   "source": []
  },
  {
   "cell_type": "code",
   "execution_count": null,
   "metadata": {},
   "outputs": [],
   "source": []
  },
  {
   "cell_type": "code",
   "execution_count": null,
   "metadata": {},
   "outputs": [],
   "source": []
  },
  {
   "cell_type": "markdown",
   "metadata": {},
   "source": [
    "# Receita por Produto, Local e data"
   ]
  },
  {
   "cell_type": "code",
   "execution_count": null,
   "metadata": {},
   "outputs": [],
   "source": []
  }
 ],
 "metadata": {
  "kernelspec": {
   "display_name": "Python 3",
   "language": "python",
   "name": "python3"
  },
  "language_info": {
   "codemirror_mode": {
    "name": "ipython",
    "version": 3
   },
   "file_extension": ".py",
   "mimetype": "text/x-python",
   "name": "python",
   "nbconvert_exporter": "python",
   "pygments_lexer": "ipython3",
   "version": "3.6.7"
  }
 },
 "nbformat": 4,
 "nbformat_minor": 2
}
