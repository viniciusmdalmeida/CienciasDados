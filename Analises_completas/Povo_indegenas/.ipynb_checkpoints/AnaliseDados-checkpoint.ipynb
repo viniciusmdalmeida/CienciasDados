{
 "cells": [
  {
   "cell_type": "markdown",
   "metadata": {},
   "source": [
    "O dado apresentado contêm dados sobre uma pesquisa realizada com povos indígenas. Ele está em formato Excel e contem duas tabelas. uma sobre dados dos índios entrevistado e o pesquisador que os entrevisto, outro com as respostas do questionário passado para índio.  Eles podem ser adquiridos no Drive por esse.\n",
    "\n",
    "Será feita a seguinte pergunta para ser extraída dos dados:\n",
    "\n",
    "- **Qual pesquisador trabalhou mais?** (de um gráfico com estes dados, mas este gráfico não pode conter nomes repetidos)\n",
    "- **Como está distribuída a escolaridade dos índios**\n",
    "- **Informe, através de um gráfico, como está distribuído a a idade da população indígena, separada por povo e sexo.** Qual o melhor gráfico para informar estes dados?\n",
    "\n",
    "- A aba com a resposta dos questionário estão esta posta de maneira que as resposta são apenas Sim ou Não, porém isto atrapalha a criação de gráficos para perguntas que tem mais de uma resposta como \"De onde vem a energia de sua família\", manipule os dados de maneira una as resposta de uma mesma pergunta."
   ]
  },
  {
   "cell_type": "code",
   "execution_count": 1,
   "metadata": {},
   "outputs": [
    {
     "name": "stderr",
     "output_type": "stream",
     "text": [
      "C:\\Users\\vinic\\AppData\\Local\\Continuum\\anaconda3\\lib\\site-packages\\numpy\\core\\__init__.py:29: UserWarning: loaded more than 1 DLL from .libs:\n",
      "C:\\Users\\vinic\\AppData\\Local\\Continuum\\anaconda3\\lib\\site-packages\\numpy\\.libs\\libopenblas.CSRRD7HKRKC3T3YXA7VY7TAZGLSWDKW6.gfortran-win_amd64.dll\n",
      "C:\\Users\\vinic\\AppData\\Local\\Continuum\\anaconda3\\lib\\site-packages\\numpy\\.libs\\libopenblas.IPBC74C7KURV7CB2PKT5Z5FNR3SIBV4J.gfortran-win_amd64.dll\n",
      "  stacklevel=1)\n"
     ]
    }
   ],
   "source": [
    "import pandas as pd\n",
    "import seaborn as sns\n",
    "import numpy as np"
   ]
  },
  {
   "cell_type": "markdown",
   "metadata": {},
   "source": [
    "## Lendo dados Povos indigenas"
   ]
  },
  {
   "cell_type": "code",
   "execution_count": 2,
   "metadata": {},
   "outputs": [],
   "source": [
    "#Lendo arquivo Excel\n",
    "dados = pd.ExcelFile('Povos_indigenas.xlsx')"
   ]
  },
  {
   "cell_type": "code",
   "execution_count": 3,
   "metadata": {},
   "outputs": [
    {
     "data": {
      "text/plain": [
       "['questionários', 'respostas']"
      ]
     },
     "execution_count": 3,
     "metadata": {},
     "output_type": "execute_result"
    }
   ],
   "source": [
    "#Verificando abas\n",
    "dados.sheet_names"
   ]
  },
  {
   "cell_type": "code",
   "execution_count": 4,
   "metadata": {},
   "outputs": [
    {
     "data": {
      "text/html": [
       "<div>\n",
       "<style scoped>\n",
       "    .dataframe tbody tr th:only-of-type {\n",
       "        vertical-align: middle;\n",
       "    }\n",
       "\n",
       "    .dataframe tbody tr th {\n",
       "        vertical-align: top;\n",
       "    }\n",
       "\n",
       "    .dataframe thead th {\n",
       "        text-align: right;\n",
       "    }\n",
       "</style>\n",
       "<table border=\"1\" class=\"dataframe\">\n",
       "  <thead>\n",
       "    <tr style=\"text-align: right;\">\n",
       "      <th></th>\n",
       "      <th>Unnamed: 0</th>\n",
       "      <th>Código final</th>\n",
       "      <th>Cód. Povo</th>\n",
       "      <th>Cód. Ald.</th>\n",
       "      <th>Cód. Num.</th>\n",
       "      <th>Nome do arquivo</th>\n",
       "      <th>Pesquisador indígena</th>\n",
       "      <th>Aldeia do entrevistado</th>\n",
       "      <th>Local da entrevista</th>\n",
       "      <th>Data da entrevista</th>\n",
       "      <th>Observações do entrevistador</th>\n",
       "      <th>Sexo</th>\n",
       "      <th>Idade</th>\n",
       "      <th>idade</th>\n",
       "      <th>Parentesco</th>\n",
       "      <th>Escolaridade</th>\n",
       "      <th>Ocupação</th>\n",
       "      <th>Detalhe</th>\n",
       "    </tr>\n",
       "  </thead>\n",
       "  <tbody>\n",
       "    <tr>\n",
       "      <th>0</th>\n",
       "      <td>0</td>\n",
       "      <td>AR . 26 . 1</td>\n",
       "      <td>Pov1</td>\n",
       "      <td>26</td>\n",
       "      <td>1.0</td>\n",
       "      <td>A26G19</td>\n",
       "      <td>Charles Robert Darwin</td>\n",
       "      <td>26 de Julho</td>\n",
       "      <td>26 de Julho</td>\n",
       "      <td>2018-02-03 00:00:00</td>\n",
       "      <td>NaN</td>\n",
       "      <td>Feminino</td>\n",
       "      <td>17</td>\n",
       "      <td>15-64</td>\n",
       "      <td>chefe da casa</td>\n",
       "      <td>Fundamental</td>\n",
       "      <td>Estudante</td>\n",
       "      <td>estudante/pesca</td>\n",
       "    </tr>\n",
       "    <tr>\n",
       "      <th>1</th>\n",
       "      <td>1</td>\n",
       "      <td>AR . 26 . 1</td>\n",
       "      <td>Pov1</td>\n",
       "      <td>26</td>\n",
       "      <td>1.0</td>\n",
       "      <td>A26G19</td>\n",
       "      <td>Charles Robert Darwin</td>\n",
       "      <td>26 de Julho</td>\n",
       "      <td>26 de Julho</td>\n",
       "      <td>43134</td>\n",
       "      <td>NaN</td>\n",
       "      <td>Masculino</td>\n",
       "      <td>22</td>\n",
       "      <td>15-64</td>\n",
       "      <td>.</td>\n",
       "      <td>Fundamental</td>\n",
       "      <td>Prestador de serviço eventual</td>\n",
       "      <td>caça/pesca/roça</td>\n",
       "    </tr>\n",
       "    <tr>\n",
       "      <th>2</th>\n",
       "      <td>2</td>\n",
       "      <td>AR . LA . 2</td>\n",
       "      <td>Pov1</td>\n",
       "      <td>LA</td>\n",
       "      <td>2.0</td>\n",
       "      <td>AAA31</td>\n",
       "      <td>Oswaldo Gonçalves Cruz</td>\n",
       "      <td>Laguinho</td>\n",
       "      <td>na casa da mãe</td>\n",
       "      <td>NaN</td>\n",
       "      <td>NaN</td>\n",
       "      <td>Masculino</td>\n",
       "      <td>37</td>\n",
       "      <td>15-64</td>\n",
       "      <td>marido</td>\n",
       "      <td>Superior</td>\n",
       "      <td>Funcionário da saúde</td>\n",
       "      <td>NaN</td>\n",
       "    </tr>\n",
       "  </tbody>\n",
       "</table>\n",
       "</div>"
      ],
      "text/plain": [
       "   Unnamed: 0 Código final Cód. Povo Cód. Ald.  Cód. Num. Nome do arquivo  \\\n",
       "0           0  AR . 26 . 1      Pov1        26        1.0          A26G19   \n",
       "1           1  AR . 26 . 1      Pov1        26        1.0          A26G19   \n",
       "2           2  AR . LA . 2      Pov1        LA        2.0           AAA31   \n",
       "\n",
       "     Pesquisador indígena Aldeia do entrevistado Local da entrevista  \\\n",
       "0   Charles Robert Darwin            26 de Julho         26 de Julho   \n",
       "1   Charles Robert Darwin            26 de Julho         26 de Julho   \n",
       "2  Oswaldo Gonçalves Cruz               Laguinho      na casa da mãe   \n",
       "\n",
       "    Data da entrevista Observações do entrevistador       Sexo Idade  idade  \\\n",
       "0  2018-02-03 00:00:00                          NaN   Feminino    17  15-64   \n",
       "1                43134                          NaN  Masculino    22  15-64   \n",
       "2                  NaN                          NaN  Masculino    37  15-64   \n",
       "\n",
       "      Parentesco  Escolaridade                       Ocupação          Detalhe  \n",
       "0  chefe da casa  Fundamental                       Estudante  estudante/pesca  \n",
       "1              .  Fundamental   Prestador de serviço eventual  caça/pesca/roça  \n",
       "2         marido      Superior           Funcionário da saúde              NaN  "
      ]
     },
     "execution_count": 4,
     "metadata": {},
     "output_type": "execute_result"
    }
   ],
   "source": [
    "#Lendo aba questionario\n",
    "questinarios = pd.read_excel(dados,'questionários')\n",
    "questinarios.head(3)"
   ]
  },
  {
   "cell_type": "code",
   "execution_count": 5,
   "metadata": {},
   "outputs": [
    {
     "data": {
      "text/html": [
       "<div>\n",
       "<style scoped>\n",
       "    .dataframe tbody tr th:only-of-type {\n",
       "        vertical-align: middle;\n",
       "    }\n",
       "\n",
       "    .dataframe tbody tr th {\n",
       "        vertical-align: top;\n",
       "    }\n",
       "\n",
       "    .dataframe thead th {\n",
       "        text-align: right;\n",
       "    }\n",
       "</style>\n",
       "<table border=\"1\" class=\"dataframe\">\n",
       "  <thead>\n",
       "    <tr style=\"text-align: right;\">\n",
       "      <th></th>\n",
       "      <th>Unnamed: 0</th>\n",
       "      <th>Código final</th>\n",
       "      <th>Código aldeia</th>\n",
       "      <th>A casa da sua família é feita de: MADEIRA</th>\n",
       "      <th>A casa da sua família é feita de: MATERIAL/TIJOLO</th>\n",
       "      <th>De onde vem a energia da casa da sua família? NÃO TEM</th>\n",
       "      <th>De onde vem a energia da casa da sua família? POSTE</th>\n",
       "      <th>De onde vem a energia da casa da sua família? MOTOR</th>\n",
       "      <th>Na casa da sua família tem: TV</th>\n",
       "      <th>Na casa da sua família tem: CELULAR</th>\n",
       "      <th>...</th>\n",
       "      <th>Classificação 2</th>\n",
       "      <th>Quais são os três principais problemas enfrentados pela sua comunidade? 3</th>\n",
       "      <th>Classificação 3</th>\n",
       "      <th>O que sua famólia acha que pode mudar na sua região com a chegada da mina da Votorantim?</th>\n",
       "      <th>Classificação Votorantim:  MUDANÇAS BOAS</th>\n",
       "      <th>Classificação Votorantim: MUDANÇAS RUINS</th>\n",
       "      <th>Você acha que há risco dos Cinta Larga perderem sua língua? SIM</th>\n",
       "      <th>Você acha que há risco dos Cinta Larga perderem sua língua? NÃO</th>\n",
       "      <th>Como está o uso da língua Cinta Larga pelas crianças e jovens? TODOS OS JOVENS E CRIANÇAS FALAM MUITO BEM EM CINTA LARGA</th>\n",
       "      <th>Como está o uso da língua Cinta Larga pelas crianças e jovens? OS JOVENS E CRIANÇAS ESTÃO USANDO CADA VEZ MENOS A LÍNGUA CINTA LARGA</th>\n",
       "    </tr>\n",
       "  </thead>\n",
       "  <tbody>\n",
       "    <tr>\n",
       "      <th>0</th>\n",
       "      <td>0</td>\n",
       "      <td>NaN</td>\n",
       "      <td>NaN</td>\n",
       "      <td>1A</td>\n",
       "      <td>1B</td>\n",
       "      <td>2A</td>\n",
       "      <td>2B</td>\n",
       "      <td>2C</td>\n",
       "      <td>3A</td>\n",
       "      <td>3B</td>\n",
       "      <td>...</td>\n",
       "      <td>NaN</td>\n",
       "      <td>35C</td>\n",
       "      <td>NaN</td>\n",
       "      <td>36</td>\n",
       "      <td>NaN</td>\n",
       "      <td>NaN</td>\n",
       "      <td>37A</td>\n",
       "      <td>37B</td>\n",
       "      <td>38A</td>\n",
       "      <td>38B</td>\n",
       "    </tr>\n",
       "    <tr>\n",
       "      <th>1</th>\n",
       "      <td>1</td>\n",
       "      <td>AR . 26 . 1</td>\n",
       "      <td>26</td>\n",
       "      <td>Sim</td>\n",
       "      <td>NaN</td>\n",
       "      <td>.</td>\n",
       "      <td>.</td>\n",
       "      <td>.</td>\n",
       "      <td>Sim</td>\n",
       "      <td>Sim</td>\n",
       "      <td>...</td>\n",
       "      <td>Recursos</td>\n",
       "      <td>as estradas que são muito ruim quando começa a...</td>\n",
       "      <td>Locomoção</td>\n",
       "      <td>um ponto bom: vai vim muito recurso pro nosso ...</td>\n",
       "      <td>Educação/saúde</td>\n",
       "      <td>Doenças/Drogas/Brigas</td>\n",
       "      <td>NaN</td>\n",
       "      <td>NaN</td>\n",
       "      <td>NaN</td>\n",
       "      <td>NaN</td>\n",
       "    </tr>\n",
       "    <tr>\n",
       "      <th>2</th>\n",
       "      <td>2</td>\n",
       "      <td>AR . LA . 2</td>\n",
       "      <td>LA</td>\n",
       "      <td>Sim</td>\n",
       "      <td>NaN</td>\n",
       "      <td>NaN</td>\n",
       "      <td>Sim</td>\n",
       "      <td>NaN</td>\n",
       "      <td>Sim</td>\n",
       "      <td>Sim</td>\n",
       "      <td>...</td>\n",
       "      <td>Energia</td>\n",
       "      <td>falta de apoio pelas ONGS</td>\n",
       "      <td>Apoio</td>\n",
       "      <td>Positivos: acredito eu que vai melhorar as est...</td>\n",
       "      <td>Locomoção/Recursos em geral</td>\n",
       "      <td>Invasões/Impacto ambiental</td>\n",
       "      <td>NaN</td>\n",
       "      <td>NaN</td>\n",
       "      <td>NaN</td>\n",
       "      <td>NaN</td>\n",
       "    </tr>\n",
       "  </tbody>\n",
       "</table>\n",
       "<p>3 rows × 182 columns</p>\n",
       "</div>"
      ],
      "text/plain": [
       "   Unnamed: 0 Código final Código aldeia  \\\n",
       "0           0          NaN           NaN   \n",
       "1           1  AR . 26 . 1            26   \n",
       "2           2  AR . LA . 2            LA   \n",
       "\n",
       "  A casa da sua família é feita de: MADEIRA  \\\n",
       "0                                        1A   \n",
       "1                                       Sim   \n",
       "2                                       Sim   \n",
       "\n",
       "  A casa da sua família é feita de: MATERIAL/TIJOLO  \\\n",
       "0                                                1B   \n",
       "1                                               NaN   \n",
       "2                                               NaN   \n",
       "\n",
       "  De onde vem a energia da casa da sua família? NÃO TEM  \\\n",
       "0                                                 2A      \n",
       "1                                                  .      \n",
       "2                                                NaN      \n",
       "\n",
       "  De onde vem a energia da casa da sua família? POSTE  \\\n",
       "0                                                 2B    \n",
       "1                                                  .    \n",
       "2                                                Sim    \n",
       "\n",
       "  De onde vem a energia da casa da sua família? MOTOR  \\\n",
       "0                                                 2C    \n",
       "1                                                  .    \n",
       "2                                                NaN    \n",
       "\n",
       "  Na casa da sua família tem: TV Na casa da sua família tem: CELULAR  ...  \\\n",
       "0                             3A                                  3B  ...   \n",
       "1                            Sim                                 Sim  ...   \n",
       "2                            Sim                                 Sim  ...   \n",
       "\n",
       "  Classificação 2  \\\n",
       "0             NaN   \n",
       "1        Recursos   \n",
       "2         Energia   \n",
       "\n",
       "  Quais são os três principais problemas enfrentados pela sua comunidade? 3  \\\n",
       "0                                                35C                          \n",
       "1  as estradas que são muito ruim quando começa a...                          \n",
       "2                          falta de apoio pelas ONGS                          \n",
       "\n",
       "  Classificação 3  \\\n",
       "0             NaN   \n",
       "1       Locomoção   \n",
       "2           Apoio   \n",
       "\n",
       "  O que sua famólia acha que pode mudar na sua região com a chegada da mina da Votorantim?  \\\n",
       "0                                                 36                                         \n",
       "1  um ponto bom: vai vim muito recurso pro nosso ...                                         \n",
       "2  Positivos: acredito eu que vai melhorar as est...                                         \n",
       "\n",
       "  Classificação Votorantim:  MUDANÇAS BOAS  \\\n",
       "0                                      NaN   \n",
       "1                           Educação/saúde   \n",
       "2              Locomoção/Recursos em geral   \n",
       "\n",
       "  Classificação Votorantim: MUDANÇAS RUINS  \\\n",
       "0                                      NaN   \n",
       "1                    Doenças/Drogas/Brigas   \n",
       "2               Invasões/Impacto ambiental   \n",
       "\n",
       "  Você acha que há risco dos Cinta Larga perderem sua língua? SIM  \\\n",
       "0                                                37A                \n",
       "1                                                NaN                \n",
       "2                                                NaN                \n",
       "\n",
       "  Você acha que há risco dos Cinta Larga perderem sua língua? NÃO  \\\n",
       "0                                                37B                \n",
       "1                                                NaN                \n",
       "2                                                NaN                \n",
       "\n",
       "  Como está o uso da língua Cinta Larga pelas crianças e jovens? TODOS OS JOVENS E CRIANÇAS FALAM MUITO BEM EM CINTA LARGA  \\\n",
       "0                                                38A                                                                         \n",
       "1                                                NaN                                                                         \n",
       "2                                                NaN                                                                         \n",
       "\n",
       "  Como está o uso da língua Cinta Larga pelas crianças e jovens? OS JOVENS E CRIANÇAS ESTÃO USANDO CADA VEZ MENOS A LÍNGUA CINTA LARGA  \n",
       "0                                                38B                                                                                    \n",
       "1                                                NaN                                                                                    \n",
       "2                                                NaN                                                                                    \n",
       "\n",
       "[3 rows x 182 columns]"
      ]
     },
     "execution_count": 5,
     "metadata": {},
     "output_type": "execute_result"
    }
   ],
   "source": [
    "#Lendo aba resposta\n",
    "respostas = pd.read_excel(dados,'respostas')\n",
    "respostas.head(3)"
   ]
  },
  {
   "cell_type": "markdown",
   "metadata": {},
   "source": [
    "## Analizando questionario"
   ]
  },
  {
   "cell_type": "code",
   "execution_count": 6,
   "metadata": {},
   "outputs": [
    {
     "name": "stdout",
     "output_type": "stream",
     "text": [
      "<class 'pandas.core.frame.DataFrame'>\n",
      "RangeIndex: 1535 entries, 0 to 1534\n",
      "Data columns (total 18 columns):\n",
      "Unnamed: 0                      1535 non-null int64\n",
      "Código final                    506 non-null object\n",
      "Cód. Povo                       506 non-null object\n",
      "Cód. Ald.                       506 non-null object\n",
      "Cód. Num.                       506 non-null float64\n",
      "Nome do arquivo                 506 non-null object\n",
      "Pesquisador indígena            506 non-null object\n",
      "Aldeia do entrevistado          506 non-null object\n",
      "Local da entrevista             465 non-null object\n",
      "Data da entrevista              472 non-null object\n",
      "Observações do entrevistador    259 non-null object\n",
      "Sexo                            506 non-null object\n",
      "Idade                           506 non-null object\n",
      "idade                           1535 non-null object\n",
      "Parentesco                      506 non-null object\n",
      "Escolaridade                    506 non-null object\n",
      "Ocupação                        506 non-null object\n",
      "Detalhe                         224 non-null object\n",
      "dtypes: float64(1), int64(1), object(16)\n",
      "memory usage: 215.9+ KB\n"
     ]
    }
   ],
   "source": [
    "questinarios.info()"
   ]
  },
  {
   "cell_type": "markdown",
   "metadata": {},
   "source": [
    "É possivel verificar que varios dados estão como objeto, quando deveriam estar como numeros (caso de idade)\n",
    "\n",
    "Também e possivel analisar que a aba idade esta com 1535 dados, enquanto as outras chegam no maximo a 506, \n",
    "o que demonstra que provavelmente temos \"lixo\" nessa coluna"
   ]
  },
  {
   "cell_type": "markdown",
   "metadata": {},
   "source": [
    "# Respondendo perguntas"
   ]
  },
  {
   "cell_type": "markdown",
   "metadata": {},
   "source": [
    "### 1 - Qual pesquisador trabalhou mais? (de um gráfico com estes dados, mas este gráfico não pode conter nomes repetidos)"
   ]
  },
  {
   "cell_type": "code",
   "execution_count": 7,
   "metadata": {},
   "outputs": [
    {
     "data": {
      "text/plain": [
       "Galileu Galilei            82\n",
       "Albert Einstein            80\n",
       "Marie Curie                62\n",
       "Ada Lovelace               62\n",
       "Claude Lévi-Strauss        61\n",
       "Alan Mathison Turing       52\n",
       "Stephen William Hawking    45\n",
       "Charles Robert Darwin      30\n",
       "Oswaldo Gonçalves Cruz     24\n",
       "claude Lévi-Strauss         8\n",
       "Name: Pesquisador indígena, dtype: int64"
      ]
     },
     "execution_count": 7,
     "metadata": {},
     "output_type": "execute_result"
    }
   ],
   "source": [
    "questinarios['Pesquisador indígena'].value_counts()"
   ]
  },
  {
   "cell_type": "markdown",
   "metadata": {},
   "source": [
    "**Obs:**  Perceba que Claude Lévi-Strauss, aparece duas vezes, uma letra maiuscula outra não, temos que tratar isso "
   ]
  },
  {
   "cell_type": "markdown",
   "metadata": {},
   "source": [
    "**Tratando nomes repetidos**"
   ]
  },
  {
   "cell_type": "code",
   "execution_count": 8,
   "metadata": {},
   "outputs": [],
   "source": [
    "def tratarNomes(nome):\n",
    "    if type(nome) != float:\n",
    "        return nome.title()\n",
    "questinarios['Pesquisador indígena'] = questinarios['Pesquisador indígena'].apply(tratarNomes)"
   ]
  },
  {
   "cell_type": "code",
   "execution_count": 9,
   "metadata": {},
   "outputs": [
    {
     "data": {
      "text/plain": [
       "Galileu Galilei            82\n",
       "Albert Einstein            80\n",
       "Claude Lévi-Strauss        69\n",
       "Marie Curie                62\n",
       "Ada Lovelace               62\n",
       "Alan Mathison Turing       52\n",
       "Stephen William Hawking    45\n",
       "Charles Robert Darwin      30\n",
       "Oswaldo Gonçalves Cruz     24\n",
       "Name: Pesquisador indígena, dtype: int64"
      ]
     },
     "execution_count": 9,
     "metadata": {},
     "output_type": "execute_result"
    }
   ],
   "source": [
    "questinarios['Pesquisador indígena'].value_counts()"
   ]
  },
  {
   "cell_type": "markdown",
   "metadata": {},
   "source": [
    "**Resposta com gráfico**"
   ]
  },
  {
   "cell_type": "code",
   "execution_count": 10,
   "metadata": {},
   "outputs": [
    {
     "data": {
      "image/png": "[encoded data removed]",
      "text/plain": [
       "<Figure size 432x288 with 1 Axes>"
      ]
     },
     "metadata": {
      "needs_background": "light"
     },
     "output_type": "display_data"
    }
   ],
   "source": [
    "sns.countplot(data=questinarios,y='Pesquisador indígena');"
   ]
  },
  {
   "cell_type": "markdown",
   "metadata": {},
   "source": [
    "**Gráfico em ordem crescestem** "
   ]
  },
  {
   "cell_type": "code",
   "execution_count": 11,
   "metadata": {},
   "outputs": [
    {
     "data": {
      "image/png": "[encoded data removed]",
      "text/plain": [
       "<Figure size 432x288 with 1 Axes>"
      ]
     },
     "metadata": {
      "needs_background": "light"
     },
     "output_type": "display_data"
    }
   ],
   "source": [
    "ordem = questinarios['Pesquisador indígena'].value_counts()\n",
    "sns.countplot(data=questinarios,y='Pesquisador indígena',order = ordem.index);"
   ]
  },
  {
   "cell_type": "markdown",
   "metadata": {},
   "source": [
    "### 2 - Como está distribuída a escolaridade dos índios?"
   ]
  },
  {
   "cell_type": "code",
   "execution_count": 12,
   "metadata": {},
   "outputs": [
    {
     "data": {
      "image/png": "[encoded data removed]",
      "text/plain": [
       "<Figure size 432x288 with 1 Axes>"
      ]
     },
     "metadata": {
      "needs_background": "light"
     },
     "output_type": "display_data"
    }
   ],
   "source": [
    "sns.countplot(data=questinarios,y='Escolaridade');"
   ]
  },
  {
   "cell_type": "markdown",
   "metadata": {},
   "source": [
    "**Obs:** Aqui temos um problema similar ao do exercicio anterior com a palavra fundamental, \n",
    "além distom temos o '.' e valores sem dados, vamos tratar isto retirando os pontos e tratando os nomes"
   ]
  },
  {
   "cell_type": "code",
   "execution_count": 18,
   "metadata": {},
   "outputs": [],
   "source": [
    "def tratarNomes(nome):\n",
    "    if type(nome) != float:\n",
    "        if nome == '.':\n",
    "            return \n",
    "        if type(nome) == str:\n",
    "            return nome.title()\n",
    "questinarios['Escolaridade'] = questinarios['Escolaridade'].apply(tratarNomes) "
   ]
  },
  {
   "cell_type": "code",
   "execution_count": 19,
   "metadata": {},
   "outputs": [
    {
     "data": {
      "image/png": "[encoded data removed]",
      "text/plain": [
       "<Figure size 432x288 with 1 Axes>"
      ]
     },
     "metadata": {
      "needs_background": "light"
     },
     "output_type": "display_data"
    }
   ],
   "source": [
    "sns.countplot(data=questinarios,y='Escolaridade');"
   ]
  },
  {
   "cell_type": "code",
   "execution_count": 20,
   "metadata": {},
   "outputs": [
    {
     "data": {
      "image/png": "[encoded data removed]",
      "text/plain": [
       "<Figure size 432x288 with 1 Axes>"
      ]
     },
     "metadata": {
      "needs_background": "light"
     },
     "output_type": "display_data"
    }
   ],
   "source": [
    "#Ordernado \n",
    "ordem = questinarios['Escolaridade'].value_counts()\n",
    "sns.countplot(data=questinarios,y='Escolaridade',order=ordem.index);"
   ]
  },
  {
   "cell_type": "markdown",
   "metadata": {},
   "source": [
    "### 3 - Informe, através de um gráfico, como está distribuído a a idade da população indígena, separada por povo e sexo. Qual o melhor gráfico para informar estes dados?"
   ]
  },
  {
   "cell_type": "code",
   "execution_count": 21,
   "metadata": {},
   "outputs": [
    {
     "name": "stdout",
     "output_type": "stream",
     "text": [
      "<class 'pandas.core.frame.DataFrame'>\n",
      "RangeIndex: 1535 entries, 0 to 1534\n",
      "Data columns (total 18 columns):\n",
      "Unnamed: 0                      1535 non-null int64\n",
      "Código final                    506 non-null object\n",
      "Cód. Povo                       506 non-null object\n",
      "Cód. Ald.                       506 non-null object\n",
      "Cód. Num.                       506 non-null float64\n",
      "Nome do arquivo                 506 non-null object\n",
      "Pesquisador indígena            506 non-null object\n",
      "Aldeia do entrevistado          506 non-null object\n",
      "Local da entrevista             465 non-null object\n",
      "Data da entrevista              472 non-null object\n",
      "Observações do entrevistador    259 non-null object\n",
      "Sexo                            506 non-null object\n",
      "Idade                           506 non-null object\n",
      "idade                           1535 non-null object\n",
      "Parentesco                      506 non-null object\n",
      "Escolaridade                    478 non-null object\n",
      "Ocupação                        506 non-null object\n",
      "Detalhe                         224 non-null object\n",
      "dtypes: float64(1), int64(1), object(16)\n",
      "memory usage: 215.9+ KB\n"
     ]
    }
   ],
   "source": [
    "questinarios.info()"
   ]
  },
  {
   "cell_type": "markdown",
   "metadata": {},
   "source": [
    "**Obs:** Primeira coisa que devemos perceber é que idade não é uma coluna com dados numericos, isto deve ser tratado.\n",
    "\n",
    "Vamos ver se conseguimos converter diretamente os dados"
   ]
  },
  {
   "cell_type": "code",
   "execution_count": 22,
   "metadata": {},
   "outputs": [],
   "source": [
    "#A função abaixo da error pois a presença da str '.' no meio do valores de idade, e necessario tratar isto\n",
    "# questinarios['Idade'].astype(int)"
   ]
  },
  {
   "cell_type": "code",
   "execution_count": 23,
   "metadata": {},
   "outputs": [],
   "source": [
    "def trataridade(valor):\n",
    "    if type(valor) == str and valor.isnumeric(): \n",
    "        return int(valor)\n",
    "    if type(valor) == int:\n",
    "        return valor\n",
    "    else:\n",
    "        return\n",
    "questinarios['Idade2'] = questinarios['Idade'].apply(trataridade)"
   ]
  },
  {
   "cell_type": "code",
   "execution_count": 20,
   "metadata": {},
   "outputs": [
    {
     "data": {
      "image/png": "[encoded data removed]",
      "text/plain": [
       "<Figure size 432x288 with 1 Axes>"
      ]
     },
     "metadata": {
      "needs_background": "light"
     },
     "output_type": "display_data"
    }
   ],
   "source": [
    "## Gerando grafico\n",
    "sns.violinplot(data=questinarios,y='Idade2',x='Cód. Povo',hue='Sexo',split=True);"
   ]
  },
  {
   "cell_type": "markdown",
   "metadata": {},
   "source": [
    "## Desafio"
   ]
  },
  {
   "cell_type": "markdown",
   "metadata": {},
   "source": [
    "**1º modo: Utilizando Dataframe e concat**"
   ]
  },
  {
   "cell_type": "code",
   "execution_count": 21,
   "metadata": {},
   "outputs": [],
   "source": [
    "saida = pd.DataFrame()\n",
    "\n",
    "#Variavel global para guardar a resposta\n",
    "global nome\n",
    "\n",
    "#Função para trocar SIM pela resposta\n",
    "def func(x):\n",
    "    if x == 'Sim':\n",
    "        return nome\n",
    "    else:\n",
    "        return\n",
    "    \n",
    "for colum in respostas:\n",
    "    #Verificando se a coluna tem pergunta e resposta\n",
    "    if ('?' in colum) or (':' in colum):\n",
    "        if '?' in colum:\n",
    "            split = colum.split('?')\n",
    "        elif \":\" in colum:\n",
    "            split = colum.split(':')\n",
    "        \n",
    "        #retirando a pergunta e a resposta\n",
    "        pergunta = split[0]\n",
    "        nome = split[1]\n",
    "        dados = respostas[colum].apply(func)\n",
    "        \n",
    "        #Criando a coluna em um novo DataFrame\n",
    "        if pergunta in saida:\n",
    "            #Se a pergunta existe faça um concat dela com a pergunta corrente no dataFrame\n",
    "            dados.dropna(inplace=True)\n",
    "            aux = saida[pergunta].drop(dados.index)\n",
    "            saida[pergunta] = pd.concat([dados,aux])\n",
    "        else:\n",
    "            #Se a pergunta não existe crie ela no DataFrame\n",
    "            saida[pergunta] = dados"
   ]
  },
  {
   "cell_type": "code",
   "execution_count": 22,
   "metadata": {},
   "outputs": [
    {
     "data": {
      "text/html": [
       "<div>\n",
       "<style scoped>\n",
       "    .dataframe tbody tr th:only-of-type {\n",
       "        vertical-align: middle;\n",
       "    }\n",
       "\n",
       "    .dataframe tbody tr th {\n",
       "        vertical-align: top;\n",
       "    }\n",
       "\n",
       "    .dataframe thead th {\n",
       "        text-align: right;\n",
       "    }\n",
       "</style>\n",
       "<table border=\"1\" class=\"dataframe\">\n",
       "  <thead>\n",
       "    <tr style=\"text-align: right;\">\n",
       "      <th></th>\n",
       "      <th>A casa da sua família é feita de</th>\n",
       "      <th>De onde vem a energia da casa da sua família</th>\n",
       "      <th>Na casa da sua família tem</th>\n",
       "      <th>Como sua família fica sabendo das notícias importantes para a sua comunidade</th>\n",
       "      <th>Sua família</th>\n",
       "      <th>Como está a saúde da sua família</th>\n",
       "      <th>Sua família usa remédios ou tratamentos indígenas</th>\n",
       "      <th>Têm jovens da sua família que estão aprendendo a usar remédios e tratamentos indígenas</th>\n",
       "      <th>Sua família acha importante valorizar o conhecimento de remédios e tratamentos indígenas</th>\n",
       "      <th>Têm pessoas da sua família morando na cidade para estudar</th>\n",
       "      <th>...</th>\n",
       "      <th>Sua família vai à cidade</th>\n",
       "      <th>Como sua família vai para a cidade</th>\n",
       "      <th>O que sua família vai fazer na cidade</th>\n",
       "      <th>O que sua família vai fazer na cidade: E O QUE MAIS</th>\n",
       "      <th>Aonde sua família se hospeda quando está na cidade</th>\n",
       "      <th>Quais são os três principais problemas enfrentados pela sua comunidade</th>\n",
       "      <th>O que sua famólia acha que pode mudar na sua região com a chegada da mina da Votorantim</th>\n",
       "      <th>Classificação Votorantim</th>\n",
       "      <th>Você acha que há risco dos Cinta Larga perderem sua língua</th>\n",
       "      <th>Como está o uso da língua Cinta Larga pelas crianças e jovens</th>\n",
       "    </tr>\n",
       "  </thead>\n",
       "  <tbody>\n",
       "    <tr>\n",
       "      <th>0</th>\n",
       "      <td>None</td>\n",
       "      <td>None</td>\n",
       "      <td>None</td>\n",
       "      <td>None</td>\n",
       "      <td>None</td>\n",
       "      <td>None</td>\n",
       "      <td>None</td>\n",
       "      <td>None</td>\n",
       "      <td>None</td>\n",
       "      <td>None</td>\n",
       "      <td>...</td>\n",
       "      <td>None</td>\n",
       "      <td>None</td>\n",
       "      <td>None</td>\n",
       "      <td>None</td>\n",
       "      <td>None</td>\n",
       "      <td>None</td>\n",
       "      <td>None</td>\n",
       "      <td>None</td>\n",
       "      <td>None</td>\n",
       "      <td>None</td>\n",
       "    </tr>\n",
       "    <tr>\n",
       "      <th>1</th>\n",
       "      <td>MADEIRA</td>\n",
       "      <td>None</td>\n",
       "      <td>VENTILADOR</td>\n",
       "      <td>OUTRO</td>\n",
       "      <td>TEM DIFICULDADES DE RECEBER NOTÍCIAS</td>\n",
       "      <td>BOA</td>\n",
       "      <td>NÃO</td>\n",
       "      <td>SIM</td>\n",
       "      <td>SIM</td>\n",
       "      <td>SIM</td>\n",
       "      <td>...</td>\n",
       "      <td>TODA SEMANA</td>\n",
       "      <td>CARRO DA FUNAI OU DA SESAI</td>\n",
       "      <td>PARTICIPAR DE REUNIÕES</td>\n",
       "      <td>None</td>\n",
       "      <td>CASA DA SUA FAMÍLIA</td>\n",
       "      <td>None</td>\n",
       "      <td>None</td>\n",
       "      <td>None</td>\n",
       "      <td>None</td>\n",
       "      <td>None</td>\n",
       "    </tr>\n",
       "    <tr>\n",
       "      <th>2</th>\n",
       "      <td>MADEIRA</td>\n",
       "      <td>POSTE</td>\n",
       "      <td>MOTO</td>\n",
       "      <td>INTERNET</td>\n",
       "      <td>SABE DAS NOTÍCIAS</td>\n",
       "      <td>BOA</td>\n",
       "      <td>NÃO</td>\n",
       "      <td>NÃO</td>\n",
       "      <td>SIM</td>\n",
       "      <td>SIM</td>\n",
       "      <td>...</td>\n",
       "      <td>None</td>\n",
       "      <td>CARRO DA FUNAI OU DA SESAI</td>\n",
       "      <td>PARTICIPAR DE REUNIÕES</td>\n",
       "      <td>None</td>\n",
       "      <td>CASA DA SUA FAMÍLIA</td>\n",
       "      <td>None</td>\n",
       "      <td>None</td>\n",
       "      <td>None</td>\n",
       "      <td>None</td>\n",
       "      <td>None</td>\n",
       "    </tr>\n",
       "  </tbody>\n",
       "</table>\n",
       "<p>3 rows × 40 columns</p>\n",
       "</div>"
      ],
      "text/plain": [
       "  A casa da sua família é feita de  \\\n",
       "0                             None   \n",
       "1                          MADEIRA   \n",
       "2                          MADEIRA   \n",
       "\n",
       "  De onde vem a energia da casa da sua família Na casa da sua família tem  \\\n",
       "0                                         None                       None   \n",
       "1                                         None                 VENTILADOR   \n",
       "2                                        POSTE                       MOTO   \n",
       "\n",
       "  Como sua família fica sabendo das notícias importantes para a sua comunidade  \\\n",
       "0                                               None                             \n",
       "1                                              OUTRO                             \n",
       "2                                           INTERNET                             \n",
       "\n",
       "                             Sua família Como está a saúde da sua família  \\\n",
       "0                                   None                             None   \n",
       "1   TEM DIFICULDADES DE RECEBER NOTÍCIAS                              BOA   \n",
       "2                      SABE DAS NOTÍCIAS                              BOA   \n",
       "\n",
       "  Sua família usa remédios ou tratamentos indígenas  \\\n",
       "0                                              None   \n",
       "1                                               NÃO   \n",
       "2                                               NÃO   \n",
       "\n",
       "  Têm jovens da sua família que estão aprendendo a usar remédios e tratamentos indígenas  \\\n",
       "0                                               None                                       \n",
       "1                                                SIM                                       \n",
       "2                                                NÃO                                       \n",
       "\n",
       "  Sua família acha importante valorizar o conhecimento de remédios e tratamentos indígenas  \\\n",
       "0                                               None                                         \n",
       "1                                                SIM                                         \n",
       "2                                                SIM                                         \n",
       "\n",
       "  Têm pessoas da sua família morando na cidade para estudar  \\\n",
       "0                                               None          \n",
       "1                                                SIM          \n",
       "2                                                SIM          \n",
       "\n",
       "                               ...                               \\\n",
       "0                              ...                                \n",
       "1                              ...                                \n",
       "2                              ...                                \n",
       "\n",
       "  Sua família vai à cidade Como sua família vai para a cidade  \\\n",
       "0                     None                               None   \n",
       "1              TODA SEMANA         CARRO DA FUNAI OU DA SESAI   \n",
       "2                     None         CARRO DA FUNAI OU DA SESAI   \n",
       "\n",
       "  O que sua família vai fazer na cidade  \\\n",
       "0                                  None   \n",
       "1                PARTICIPAR DE REUNIÕES   \n",
       "2                PARTICIPAR DE REUNIÕES   \n",
       "\n",
       "  O que sua família vai fazer na cidade: E O QUE MAIS  \\\n",
       "0                                               None    \n",
       "1                                               None    \n",
       "2                                               None    \n",
       "\n",
       "  Aonde sua família se hospeda quando está na cidade  \\\n",
       "0                                               None   \n",
       "1                                CASA DA SUA FAMÍLIA   \n",
       "2                                CASA DA SUA FAMÍLIA   \n",
       "\n",
       "  Quais são os três principais problemas enfrentados pela sua comunidade  \\\n",
       "0                                               None                       \n",
       "1                                               None                       \n",
       "2                                               None                       \n",
       "\n",
       "  O que sua famólia acha que pode mudar na sua região com a chegada da mina da Votorantim  \\\n",
       "0                                               None                                        \n",
       "1                                               None                                        \n",
       "2                                               None                                        \n",
       "\n",
       "  Classificação Votorantim  \\\n",
       "0                     None   \n",
       "1                     None   \n",
       "2                     None   \n",
       "\n",
       "  Você acha que há risco dos Cinta Larga perderem sua língua  \\\n",
       "0                                               None           \n",
       "1                                               None           \n",
       "2                                               None           \n",
       "\n",
       "  Como está o uso da língua Cinta Larga pelas crianças e jovens  \n",
       "0                                               None             \n",
       "1                                               None             \n",
       "2                                               None             \n",
       "\n",
       "[3 rows x 40 columns]"
      ]
     },
     "execution_count": 22,
     "metadata": {},
     "output_type": "execute_result"
    }
   ],
   "source": [
    "saida.head(3)"
   ]
  },
  {
   "cell_type": "markdown",
   "metadata": {},
   "source": [
    "**2º Modo: Utilizando dicionario**\n"
   ]
  },
  {
   "cell_type": "code",
   "execution_count": 23,
   "metadata": {},
   "outputs": [],
   "source": [
    "#Esta Parte do programa faz com as colunas do mesmo tipo se unam, troncando as resposta Sim pela resposta\n",
    "dic = {}\n",
    "def addItens(original,coluna,resposta):\n",
    "    #Esta função faz com que em uma coluna se tiver Sim seja trocado pela variavel resposta\n",
    "    lista = dic[coluna]\n",
    "    for pos in range(len(dic[coluna])):\n",
    "        if original[pos] == 'Sim':\n",
    "            lista[pos] = str(resposta)\n",
    "    dic[coluna] = lista\n",
    "\n",
    "for item in respostas:\n",
    "    #Este item verifica todas colunas, retirando a pergunta e aplicando o a função aplicando a função acima\n",
    "    #Ela unem colunas parecidas\n",
    "    if ('?' in item) or (':' in item) :\n",
    "        interrogacao = item.find('?')\n",
    "        if interrogacao == -1:\n",
    "            interrogacao = item.find(':')\n",
    "        resposta = item[interrogacao+2:]\n",
    "        coluna = item[:interrogacao]\n",
    "        colunaOri = respostas[item]\n",
    "        if not coluna in dic:\n",
    "            dic[coluna] = np. chararray(len(colunaOri),itemsize=15,unicode=True)\n",
    "        addItens(colunaOri,coluna,resposta)\n",
    "\n",
    "#Salva estes dados em um nov DataFrame        \n",
    "novosDados = pd.DataFrame(dic)"
   ]
  },
  {
   "cell_type": "code",
   "execution_count": 24,
   "metadata": {},
   "outputs": [
    {
     "data": {
      "text/html": [
       "<div>\n",
       "<style scoped>\n",
       "    .dataframe tbody tr th:only-of-type {\n",
       "        vertical-align: middle;\n",
       "    }\n",
       "\n",
       "    .dataframe tbody tr th {\n",
       "        vertical-align: top;\n",
       "    }\n",
       "\n",
       "    .dataframe thead th {\n",
       "        text-align: right;\n",
       "    }\n",
       "</style>\n",
       "<table border=\"1\" class=\"dataframe\">\n",
       "  <thead>\n",
       "    <tr style=\"text-align: right;\">\n",
       "      <th></th>\n",
       "      <th>A casa da sua família é feita de</th>\n",
       "      <th>De onde vem a energia da casa da sua família</th>\n",
       "      <th>Na casa da sua família tem</th>\n",
       "      <th>Como sua família fica sabendo das notícias importantes para a sua comunidade</th>\n",
       "      <th>Sua família</th>\n",
       "      <th>Como está a saúde da sua família</th>\n",
       "      <th>Sua família usa remédios ou tratamentos indígenas</th>\n",
       "      <th>Têm jovens da sua família que estão aprendendo a usar remédios e tratamentos indígenas</th>\n",
       "      <th>Sua família acha importante valorizar o conhecimento de remédios e tratamentos indígenas</th>\n",
       "      <th>Têm pessoas da sua família morando na cidade para estudar</th>\n",
       "      <th>...</th>\n",
       "      <th>Sua família vai à cidade</th>\n",
       "      <th>Como sua família vai para a cidade</th>\n",
       "      <th>O que sua família vai fazer na cidade</th>\n",
       "      <th>O que sua família vai fazer na cidade: E O QUE MAIS</th>\n",
       "      <th>Aonde sua família se hospeda quando está na cidade</th>\n",
       "      <th>Quais são os três principais problemas enfrentados pela sua comunidade</th>\n",
       "      <th>O que sua famólia acha que pode mudar na sua região com a chegada da mina da Votorantim</th>\n",
       "      <th>Classificação Votorantim</th>\n",
       "      <th>Você acha que há risco dos Cinta Larga perderem sua língua</th>\n",
       "      <th>Como está o uso da língua Cinta Larga pelas crianças e jovens</th>\n",
       "    </tr>\n",
       "  </thead>\n",
       "  <tbody>\n",
       "    <tr>\n",
       "      <th>0</th>\n",
       "      <td></td>\n",
       "      <td></td>\n",
       "      <td></td>\n",
       "      <td></td>\n",
       "      <td></td>\n",
       "      <td></td>\n",
       "      <td></td>\n",
       "      <td></td>\n",
       "      <td></td>\n",
       "      <td></td>\n",
       "      <td>...</td>\n",
       "      <td></td>\n",
       "      <td></td>\n",
       "      <td></td>\n",
       "      <td></td>\n",
       "      <td></td>\n",
       "      <td></td>\n",
       "      <td></td>\n",
       "      <td></td>\n",
       "      <td></td>\n",
       "      <td></td>\n",
       "    </tr>\n",
       "    <tr>\n",
       "      <th>1</th>\n",
       "      <td>MADEIRA</td>\n",
       "      <td></td>\n",
       "      <td>VENTILADOR</td>\n",
       "      <td>OUTRO</td>\n",
       "      <td>TEM DIFICULDADE</td>\n",
       "      <td>BOA</td>\n",
       "      <td>NÃO</td>\n",
       "      <td>SIM</td>\n",
       "      <td>SIM</td>\n",
       "      <td>SIM</td>\n",
       "      <td>...</td>\n",
       "      <td>TODA SEMANA</td>\n",
       "      <td>CARRO DA FUNAI</td>\n",
       "      <td>PARTICIPAR DE R</td>\n",
       "      <td></td>\n",
       "      <td>CASA DA SUA FAM</td>\n",
       "      <td></td>\n",
       "      <td></td>\n",
       "      <td></td>\n",
       "      <td></td>\n",
       "      <td></td>\n",
       "    </tr>\n",
       "    <tr>\n",
       "      <th>2</th>\n",
       "      <td>MADEIRA</td>\n",
       "      <td>POSTE</td>\n",
       "      <td>MOTO</td>\n",
       "      <td>INTERNET</td>\n",
       "      <td>SABE DAS NOTÍCI</td>\n",
       "      <td>BOA</td>\n",
       "      <td>NÃO</td>\n",
       "      <td>NÃO</td>\n",
       "      <td>SIM</td>\n",
       "      <td>SIM</td>\n",
       "      <td>...</td>\n",
       "      <td></td>\n",
       "      <td>CARRO DA FUNAI</td>\n",
       "      <td>PARTICIPAR DE R</td>\n",
       "      <td></td>\n",
       "      <td>CASA DA SUA FAM</td>\n",
       "      <td></td>\n",
       "      <td></td>\n",
       "      <td></td>\n",
       "      <td></td>\n",
       "      <td></td>\n",
       "    </tr>\n",
       "  </tbody>\n",
       "</table>\n",
       "<p>3 rows × 40 columns</p>\n",
       "</div>"
      ],
      "text/plain": [
       "  A casa da sua família é feita de  \\\n",
       "0                                    \n",
       "1                          MADEIRA   \n",
       "2                          MADEIRA   \n",
       "\n",
       "  De onde vem a energia da casa da sua família Na casa da sua família tem  \\\n",
       "0                                                                           \n",
       "1                                                              VENTILADOR   \n",
       "2                                        POSTE                       MOTO   \n",
       "\n",
       "  Como sua família fica sabendo das notícias importantes para a sua comunidade  \\\n",
       "0                                                                                \n",
       "1                                              OUTRO                             \n",
       "2                                           INTERNET                             \n",
       "\n",
       "       Sua família Como está a saúde da sua família  \\\n",
       "0                                                     \n",
       "1  TEM DIFICULDADE                              BOA   \n",
       "2  SABE DAS NOTÍCI                              BOA   \n",
       "\n",
       "  Sua família usa remédios ou tratamentos indígenas  \\\n",
       "0                                                     \n",
       "1                                               NÃO   \n",
       "2                                               NÃO   \n",
       "\n",
       "  Têm jovens da sua família que estão aprendendo a usar remédios e tratamentos indígenas  \\\n",
       "0                                                                                          \n",
       "1                                                SIM                                       \n",
       "2                                                NÃO                                       \n",
       "\n",
       "  Sua família acha importante valorizar o conhecimento de remédios e tratamentos indígenas  \\\n",
       "0                                                                                            \n",
       "1                                                SIM                                         \n",
       "2                                                SIM                                         \n",
       "\n",
       "  Têm pessoas da sua família morando na cidade para estudar  \\\n",
       "0                                                             \n",
       "1                                                SIM          \n",
       "2                                                SIM          \n",
       "\n",
       "                               ...                               \\\n",
       "0                              ...                                \n",
       "1                              ...                                \n",
       "2                              ...                                \n",
       "\n",
       "  Sua família vai à cidade Como sua família vai para a cidade  \\\n",
       "0                                                               \n",
       "1              TODA SEMANA                    CARRO DA FUNAI    \n",
       "2                                             CARRO DA FUNAI    \n",
       "\n",
       "  O que sua família vai fazer na cidade  \\\n",
       "0                                         \n",
       "1                       PARTICIPAR DE R   \n",
       "2                       PARTICIPAR DE R   \n",
       "\n",
       "  O que sua família vai fazer na cidade: E O QUE MAIS  \\\n",
       "0                                                       \n",
       "1                                                       \n",
       "2                                                       \n",
       "\n",
       "  Aonde sua família se hospeda quando está na cidade  \\\n",
       "0                                                      \n",
       "1                                    CASA DA SUA FAM   \n",
       "2                                    CASA DA SUA FAM   \n",
       "\n",
       "  Quais são os três principais problemas enfrentados pela sua comunidade  \\\n",
       "0                                                                          \n",
       "1                                                                          \n",
       "2                                                                          \n",
       "\n",
       "  O que sua famólia acha que pode mudar na sua região com a chegada da mina da Votorantim  \\\n",
       "0                                                                                           \n",
       "1                                                                                           \n",
       "2                                                                                           \n",
       "\n",
       "  Classificação Votorantim  \\\n",
       "0                            \n",
       "1                            \n",
       "2                            \n",
       "\n",
       "  Você acha que há risco dos Cinta Larga perderem sua língua  \\\n",
       "0                                                              \n",
       "1                                                              \n",
       "2                                                              \n",
       "\n",
       "  Como está o uso da língua Cinta Larga pelas crianças e jovens  \n",
       "0                                                                \n",
       "1                                                                \n",
       "2                                                                \n",
       "\n",
       "[3 rows x 40 columns]"
      ]
     },
     "execution_count": 24,
     "metadata": {},
     "output_type": "execute_result"
    }
   ],
   "source": [
    "novosDados.head(3)"
   ]
  }
 ],
 "metadata": {
  "kernelspec": {
   "display_name": "Python 3",
   "language": "python",
   "name": "python3"
  },
  "language_info": {
   "codemirror_mode": {
    "name": "ipython",
    "version": 3
   },
   "file_extension": ".py",
   "mimetype": "text/x-python",
   "name": "python",
   "nbconvert_exporter": "python",
   "pygments_lexer": "ipython3",
   "version": "3.6.7"
  }
 },
 "nbformat": 4,
 "nbformat_minor": 2
}
