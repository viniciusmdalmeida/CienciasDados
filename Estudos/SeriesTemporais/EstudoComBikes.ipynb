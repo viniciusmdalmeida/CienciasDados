{
 "cells": [
  {
   "cell_type": "code",
   "execution_count": 1,
   "metadata": {},
   "outputs": [],
   "source": [
    "import pandas as pd\n",
    "import numpy as np\n",
    "import seaborn as sns\n",
    "import matplotlib.pyplot as plt\n",
    "%matplotlib inline"
   ]
  },
  {
   "cell_type": "code",
   "execution_count": 2,
   "metadata": {},
   "outputs": [
    {
     "data": {
      "text/html": [
       "<div>\n",
       "<style scoped>\n",
       "    .dataframe tbody tr th:only-of-type {\n",
       "        vertical-align: middle;\n",
       "    }\n",
       "\n",
       "    .dataframe tbody tr th {\n",
       "        vertical-align: top;\n",
       "    }\n",
       "\n",
       "    .dataframe thead th {\n",
       "        text-align: right;\n",
       "    }\n",
       "</style>\n",
       "<table border=\"1\" class=\"dataframe\">\n",
       "  <thead>\n",
       "    <tr style=\"text-align: right;\">\n",
       "      <th></th>\n",
       "      <th>datetime</th>\n",
       "      <th>season</th>\n",
       "      <th>holiday</th>\n",
       "      <th>workingday</th>\n",
       "      <th>weather</th>\n",
       "      <th>temp</th>\n",
       "      <th>atemp</th>\n",
       "      <th>humidity</th>\n",
       "      <th>windspeed</th>\n",
       "      <th>casual</th>\n",
       "      <th>registered</th>\n",
       "      <th>count</th>\n",
       "    </tr>\n",
       "  </thead>\n",
       "  <tbody>\n",
       "    <tr>\n",
       "      <th>0</th>\n",
       "      <td>2011-01-01 00:00:00</td>\n",
       "      <td>1</td>\n",
       "      <td>0</td>\n",
       "      <td>0</td>\n",
       "      <td>1</td>\n",
       "      <td>9.84</td>\n",
       "      <td>14.395</td>\n",
       "      <td>81</td>\n",
       "      <td>0.0</td>\n",
       "      <td>3</td>\n",
       "      <td>13</td>\n",
       "      <td>16</td>\n",
       "    </tr>\n",
       "    <tr>\n",
       "      <th>1</th>\n",
       "      <td>2011-01-01 01:00:00</td>\n",
       "      <td>1</td>\n",
       "      <td>0</td>\n",
       "      <td>0</td>\n",
       "      <td>1</td>\n",
       "      <td>9.02</td>\n",
       "      <td>13.635</td>\n",
       "      <td>80</td>\n",
       "      <td>0.0</td>\n",
       "      <td>8</td>\n",
       "      <td>32</td>\n",
       "      <td>40</td>\n",
       "    </tr>\n",
       "    <tr>\n",
       "      <th>2</th>\n",
       "      <td>2011-01-01 02:00:00</td>\n",
       "      <td>1</td>\n",
       "      <td>0</td>\n",
       "      <td>0</td>\n",
       "      <td>1</td>\n",
       "      <td>9.02</td>\n",
       "      <td>13.635</td>\n",
       "      <td>80</td>\n",
       "      <td>0.0</td>\n",
       "      <td>5</td>\n",
       "      <td>27</td>\n",
       "      <td>32</td>\n",
       "    </tr>\n",
       "    <tr>\n",
       "      <th>3</th>\n",
       "      <td>2011-01-01 03:00:00</td>\n",
       "      <td>1</td>\n",
       "      <td>0</td>\n",
       "      <td>0</td>\n",
       "      <td>1</td>\n",
       "      <td>9.84</td>\n",
       "      <td>14.395</td>\n",
       "      <td>75</td>\n",
       "      <td>0.0</td>\n",
       "      <td>3</td>\n",
       "      <td>10</td>\n",
       "      <td>13</td>\n",
       "    </tr>\n",
       "    <tr>\n",
       "      <th>4</th>\n",
       "      <td>2011-01-01 04:00:00</td>\n",
       "      <td>1</td>\n",
       "      <td>0</td>\n",
       "      <td>0</td>\n",
       "      <td>1</td>\n",
       "      <td>9.84</td>\n",
       "      <td>14.395</td>\n",
       "      <td>75</td>\n",
       "      <td>0.0</td>\n",
       "      <td>0</td>\n",
       "      <td>1</td>\n",
       "      <td>1</td>\n",
       "    </tr>\n",
       "  </tbody>\n",
       "</table>\n",
       "</div>"
      ],
      "text/plain": [
       "              datetime  season  holiday  workingday  weather  temp   atemp  \\\n",
       "0  2011-01-01 00:00:00       1        0           0        1  9.84  14.395   \n",
       "1  2011-01-01 01:00:00       1        0           0        1  9.02  13.635   \n",
       "2  2011-01-01 02:00:00       1        0           0        1  9.02  13.635   \n",
       "3  2011-01-01 03:00:00       1        0           0        1  9.84  14.395   \n",
       "4  2011-01-01 04:00:00       1        0           0        1  9.84  14.395   \n",
       "\n",
       "   humidity  windspeed  casual  registered  count  \n",
       "0        81        0.0       3          13     16  \n",
       "1        80        0.0       8          32     40  \n",
       "2        80        0.0       5          27     32  \n",
       "3        75        0.0       3          10     13  \n",
       "4        75        0.0       0           1      1  "
      ]
     },
     "execution_count": 2,
     "metadata": {},
     "output_type": "execute_result"
    }
   ],
   "source": [
    "bikes = pd.read_csv('../../Dados/capital_share_bike.csv')\n",
    "bikes.head()"
   ]
  },
  {
   "cell_type": "code",
   "execution_count": 3,
   "metadata": {},
   "outputs": [
    {
     "data": {
      "text/html": [
       "<div>\n",
       "<style scoped>\n",
       "    .dataframe tbody tr th:only-of-type {\n",
       "        vertical-align: middle;\n",
       "    }\n",
       "\n",
       "    .dataframe tbody tr th {\n",
       "        vertical-align: top;\n",
       "    }\n",
       "\n",
       "    .dataframe thead th {\n",
       "        text-align: right;\n",
       "    }\n",
       "</style>\n",
       "<table border=\"1\" class=\"dataframe\">\n",
       "  <thead>\n",
       "    <tr style=\"text-align: right;\">\n",
       "      <th></th>\n",
       "      <th>season</th>\n",
       "      <th>holiday</th>\n",
       "      <th>workingday</th>\n",
       "      <th>weather</th>\n",
       "      <th>temp</th>\n",
       "      <th>atemp</th>\n",
       "      <th>humidity</th>\n",
       "      <th>windspeed</th>\n",
       "      <th>casual</th>\n",
       "      <th>registered</th>\n",
       "      <th>count</th>\n",
       "    </tr>\n",
       "    <tr>\n",
       "      <th>datetime</th>\n",
       "      <th></th>\n",
       "      <th></th>\n",
       "      <th></th>\n",
       "      <th></th>\n",
       "      <th></th>\n",
       "      <th></th>\n",
       "      <th></th>\n",
       "      <th></th>\n",
       "      <th></th>\n",
       "      <th></th>\n",
       "      <th></th>\n",
       "    </tr>\n",
       "  </thead>\n",
       "  <tbody>\n",
       "    <tr>\n",
       "      <th>2011-01-01 00:00:00</th>\n",
       "      <td>1</td>\n",
       "      <td>0</td>\n",
       "      <td>0</td>\n",
       "      <td>1</td>\n",
       "      <td>9.84</td>\n",
       "      <td>14.395</td>\n",
       "      <td>81</td>\n",
       "      <td>0.0</td>\n",
       "      <td>3</td>\n",
       "      <td>13</td>\n",
       "      <td>16</td>\n",
       "    </tr>\n",
       "    <tr>\n",
       "      <th>2011-01-01 01:00:00</th>\n",
       "      <td>1</td>\n",
       "      <td>0</td>\n",
       "      <td>0</td>\n",
       "      <td>1</td>\n",
       "      <td>9.02</td>\n",
       "      <td>13.635</td>\n",
       "      <td>80</td>\n",
       "      <td>0.0</td>\n",
       "      <td>8</td>\n",
       "      <td>32</td>\n",
       "      <td>40</td>\n",
       "    </tr>\n",
       "    <tr>\n",
       "      <th>2011-01-01 02:00:00</th>\n",
       "      <td>1</td>\n",
       "      <td>0</td>\n",
       "      <td>0</td>\n",
       "      <td>1</td>\n",
       "      <td>9.02</td>\n",
       "      <td>13.635</td>\n",
       "      <td>80</td>\n",
       "      <td>0.0</td>\n",
       "      <td>5</td>\n",
       "      <td>27</td>\n",
       "      <td>32</td>\n",
       "    </tr>\n",
       "    <tr>\n",
       "      <th>2011-01-01 03:00:00</th>\n",
       "      <td>1</td>\n",
       "      <td>0</td>\n",
       "      <td>0</td>\n",
       "      <td>1</td>\n",
       "      <td>9.84</td>\n",
       "      <td>14.395</td>\n",
       "      <td>75</td>\n",
       "      <td>0.0</td>\n",
       "      <td>3</td>\n",
       "      <td>10</td>\n",
       "      <td>13</td>\n",
       "    </tr>\n",
       "    <tr>\n",
       "      <th>2011-01-01 04:00:00</th>\n",
       "      <td>1</td>\n",
       "      <td>0</td>\n",
       "      <td>0</td>\n",
       "      <td>1</td>\n",
       "      <td>9.84</td>\n",
       "      <td>14.395</td>\n",
       "      <td>75</td>\n",
       "      <td>0.0</td>\n",
       "      <td>0</td>\n",
       "      <td>1</td>\n",
       "      <td>1</td>\n",
       "    </tr>\n",
       "  </tbody>\n",
       "</table>\n",
       "</div>"
      ],
      "text/plain": [
       "                     season  holiday  workingday  weather  temp   atemp  \\\n",
       "datetime                                                                  \n",
       "2011-01-01 00:00:00       1        0           0        1  9.84  14.395   \n",
       "2011-01-01 01:00:00       1        0           0        1  9.02  13.635   \n",
       "2011-01-01 02:00:00       1        0           0        1  9.02  13.635   \n",
       "2011-01-01 03:00:00       1        0           0        1  9.84  14.395   \n",
       "2011-01-01 04:00:00       1        0           0        1  9.84  14.395   \n",
       "\n",
       "                     humidity  windspeed  casual  registered  count  \n",
       "datetime                                                             \n",
       "2011-01-01 00:00:00        81        0.0       3          13     16  \n",
       "2011-01-01 01:00:00        80        0.0       8          32     40  \n",
       "2011-01-01 02:00:00        80        0.0       5          27     32  \n",
       "2011-01-01 03:00:00        75        0.0       3          10     13  \n",
       "2011-01-01 04:00:00        75        0.0       0           1      1  "
      ]
     },
     "execution_count": 3,
     "metadata": {},
     "output_type": "execute_result"
    }
   ],
   "source": [
    "bikes.datetime = pd.to_datetime(bikes.datetime)\n",
    "bikes = bikes.set_index('datetime')\n",
    "bikes.head()"
   ]
  },
  {
   "cell_type": "markdown",
   "metadata": {},
   "source": [
    "**Verificando valores**"
   ]
  },
  {
   "cell_type": "code",
   "execution_count": 4,
   "metadata": {},
   "outputs": [
    {
     "data": {
      "text/plain": [
       "<matplotlib.axes._subplots.AxesSubplot at 0x2641a329320>"
      ]
     },
     "execution_count": 4,
     "metadata": {},
     "output_type": "execute_result"
    },
    {
     "data": {
      "image/png": "[encoded data removed]",
      "text/plain": [
       "<Figure size 432x288 with 1 Axes>"
      ]
     },
     "metadata": {
      "needs_background": "light"
     },
     "output_type": "display_data"
    }
   ],
   "source": [
    "bikes['count'].plot()"
   ]
  },
  {
   "cell_type": "code",
   "execution_count": 5,
   "metadata": {},
   "outputs": [
    {
     "data": {
      "text/plain": [
       "<matplotlib.axes._subplots.AxesSubplot at 0x2641a798400>"
      ]
     },
     "execution_count": 5,
     "metadata": {},
     "output_type": "execute_result"
    },
    {
     "data": {
      "image/png": "[encoded data removed]",
      "text/plain": [
       "<Figure size 432x288 with 1 Axes>"
      ]
     },
     "metadata": {
      "needs_background": "light"
     },
     "output_type": "display_data"
    }
   ],
   "source": [
    "bikes['2012']['count'].plot()"
   ]
  },
  {
   "cell_type": "code",
   "execution_count": 6,
   "metadata": {},
   "outputs": [
    {
     "data": {
      "text/plain": [
       "<matplotlib.axes._subplots.AxesSubplot at 0x2641a7f4940>"
      ]
     },
     "execution_count": 6,
     "metadata": {},
     "output_type": "execute_result"
    },
    {
     "data": {
      "image/png": "[encoded data removed]",
      "text/plain": [
       "<Figure size 432x288 with 1 Axes>"
      ]
     },
     "metadata": {
      "needs_background": "light"
     },
     "output_type": "display_data"
    }
   ],
   "source": [
    "bikes['2012-01']['count'].plot()"
   ]
  },
  {
   "cell_type": "markdown",
   "metadata": {},
   "source": [
    "**Pegando dados novos**"
   ]
  },
  {
   "cell_type": "code",
   "execution_count": 7,
   "metadata": {},
   "outputs": [],
   "source": [
    "bikes['day'] = bikes.index.day\n",
    "bikes['month'] = bikes.index.month\n",
    "bikes['year'] = bikes.index.year\n",
    "bikes['dayofweek'] = bikes.index.dayofweek"
   ]
  },
  {
   "cell_type": "markdown",
   "metadata": {},
   "source": [
    "**Agrupando por mes**"
   ]
  },
  {
   "cell_type": "code",
   "execution_count": 8,
   "metadata": {},
   "outputs": [],
   "source": [
    "grupoBike = bikes.groupby(pd.Grouper(freq='M'))\n",
    "mediaMensal = grupoBike.mean()"
   ]
  },
  {
   "cell_type": "code",
   "execution_count": 9,
   "metadata": {},
   "outputs": [
    {
     "data": {
      "text/plain": [
       "<matplotlib.axes._subplots.AxesSubplot at 0x2641a8874a8>"
      ]
     },
     "execution_count": 9,
     "metadata": {},
     "output_type": "execute_result"
    },
    {
     "data": {
      "image/png": "[encoded data removed]",
      "text/plain": [
       "<Figure size 432x288 with 1 Axes>"
      ]
     },
     "metadata": {
      "needs_background": "light"
     },
     "output_type": "display_data"
    }
   ],
   "source": [
    "mediaMensal['count'].plot()"
   ]
  },
  {
   "cell_type": "markdown",
   "metadata": {},
   "source": [
    "**Tratando dados**"
   ]
  },
  {
   "cell_type": "code",
   "execution_count": 10,
   "metadata": {},
   "outputs": [],
   "source": [
    "y = mediaMensal['count']\n",
    "x = mediaMensal.drop(['count','casual','registered'],axis=1)"
   ]
  },
  {
   "cell_type": "code",
   "execution_count": 11,
   "metadata": {},
   "outputs": [],
   "source": [
    "from sklearn.model_selection import cross_val_score"
   ]
  },
  {
   "cell_type": "markdown",
   "metadata": {},
   "source": [
    "**Fazendo Regressões**"
   ]
  },
  {
   "cell_type": "code",
   "execution_count": 12,
   "metadata": {},
   "outputs": [
    {
     "name": "stderr",
     "output_type": "stream",
     "text": [
      "C:\\Users\\vinic\\AppData\\Local\\Continuum\\anaconda3\\lib\\site-packages\\sklearn\\ensemble\\weight_boosting.py:29: DeprecationWarning: numpy.core.umath_tests is an internal NumPy module and should not be imported. It will be removed in a future NumPy release.\n",
      "  from numpy.core.umath_tests import inner1d\n"
     ]
    }
   ],
   "source": [
    "from sklearn.linear_model import LinearRegression\n",
    "from sklearn.tree import DecisionTreeRegressor\n",
    "from sklearn.ensemble import RandomForestRegressor\n",
    "from sklearn.neighbors import KNeighborsRegressor"
   ]
  },
  {
   "cell_type": "code",
   "execution_count": 13,
   "metadata": {},
   "outputs": [],
   "source": [
    "tree = DecisionTreeRegressor()\n",
    "knn = KNeighborsRegressor(weights='distance')\n",
    "rf = RandomForestRegressor()\n",
    "lm = LinearRegression()"
   ]
  },
  {
   "cell_type": "code",
   "execution_count": 14,
   "metadata": {},
   "outputs": [],
   "source": [
    "crossT = cross_val_score(tree,X=x,y=y,cv=5,scoring='neg_mean_absolute_error')\n",
    "crossK = cross_val_score(knn,X=x,y=y,cv=5,scoring='neg_mean_absolute_error')\n",
    "crossR = cross_val_score(rf,X=x,y=y,cv=5,scoring='neg_mean_absolute_error')\n",
    "croosL = cross_val_score(lm,X=x,y=y,cv=5,scoring='neg_mean_absolute_error')"
   ]
  },
  {
   "cell_type": "code",
   "execution_count": 15,
   "metadata": {
    "scrolled": true
   },
   "outputs": [
    {
     "data": {
      "text/html": [
       "<div>\n",
       "<style scoped>\n",
       "    .dataframe tbody tr th:only-of-type {\n",
       "        vertical-align: middle;\n",
       "    }\n",
       "\n",
       "    .dataframe tbody tr th {\n",
       "        vertical-align: top;\n",
       "    }\n",
       "\n",
       "    .dataframe thead th {\n",
       "        text-align: right;\n",
       "    }\n",
       "</style>\n",
       "<table border=\"1\" class=\"dataframe\">\n",
       "  <thead>\n",
       "    <tr style=\"text-align: right;\">\n",
       "      <th></th>\n",
       "      <th>tree</th>\n",
       "      <th>knn</th>\n",
       "      <th>rf</th>\n",
       "      <th>lm</th>\n",
       "    </tr>\n",
       "  </thead>\n",
       "  <tbody>\n",
       "    <tr>\n",
       "      <th>count</th>\n",
       "      <td>5.000000</td>\n",
       "      <td>5.000000</td>\n",
       "      <td>5.000000</td>\n",
       "      <td>5.000000</td>\n",
       "    </tr>\n",
       "    <tr>\n",
       "      <th>mean</th>\n",
       "      <td>-39.638712</td>\n",
       "      <td>-73.237730</td>\n",
       "      <td>-45.581253</td>\n",
       "      <td>-29.276370</td>\n",
       "    </tr>\n",
       "    <tr>\n",
       "      <th>std</th>\n",
       "      <td>25.866387</td>\n",
       "      <td>12.667782</td>\n",
       "      <td>19.538826</td>\n",
       "      <td>10.719814</td>\n",
       "    </tr>\n",
       "    <tr>\n",
       "      <th>min</th>\n",
       "      <td>-69.637280</td>\n",
       "      <td>-86.248740</td>\n",
       "      <td>-73.819993</td>\n",
       "      <td>-43.295819</td>\n",
       "    </tr>\n",
       "    <tr>\n",
       "      <th>25%</th>\n",
       "      <td>-62.114034</td>\n",
       "      <td>-81.582919</td>\n",
       "      <td>-50.850639</td>\n",
       "      <td>-32.822531</td>\n",
       "    </tr>\n",
       "    <tr>\n",
       "      <th>50%</th>\n",
       "      <td>-37.136350</td>\n",
       "      <td>-76.728371</td>\n",
       "      <td>-48.966138</td>\n",
       "      <td>-32.337745</td>\n",
       "    </tr>\n",
       "    <tr>\n",
       "      <th>75%</th>\n",
       "      <td>-17.515390</td>\n",
       "      <td>-67.221142</td>\n",
       "      <td>-29.355715</td>\n",
       "      <td>-22.733109</td>\n",
       "    </tr>\n",
       "    <tr>\n",
       "      <th>max</th>\n",
       "      <td>-11.790508</td>\n",
       "      <td>-54.407479</td>\n",
       "      <td>-24.913780</td>\n",
       "      <td>-15.192648</td>\n",
       "    </tr>\n",
       "  </tbody>\n",
       "</table>\n",
       "</div>"
      ],
      "text/plain": [
       "            tree        knn         rf         lm\n",
       "count   5.000000   5.000000   5.000000   5.000000\n",
       "mean  -39.638712 -73.237730 -45.581253 -29.276370\n",
       "std    25.866387  12.667782  19.538826  10.719814\n",
       "min   -69.637280 -86.248740 -73.819993 -43.295819\n",
       "25%   -62.114034 -81.582919 -50.850639 -32.822531\n",
       "50%   -37.136350 -76.728371 -48.966138 -32.337745\n",
       "75%   -17.515390 -67.221142 -29.355715 -22.733109\n",
       "max   -11.790508 -54.407479 -24.913780 -15.192648"
      ]
     },
     "execution_count": 15,
     "metadata": {},
     "output_type": "execute_result"
    }
   ],
   "source": [
    "df = pd.DataFrame([crossT,crossK,crossR,croosL],index=['tree','knn','rf','lm'])\n",
    "df.transpose().describe()"
   ]
  },
  {
   "cell_type": "markdown",
   "metadata": {},
   "source": [
    "**Train Teste**"
   ]
  },
  {
   "cell_type": "code",
   "execution_count": 16,
   "metadata": {},
   "outputs": [],
   "source": [
    "from sklearn.model_selection import train_test_split"
   ]
  },
  {
   "cell_type": "code",
   "execution_count": 17,
   "metadata": {},
   "outputs": [],
   "source": [
    "xTreino,xTeste,yTreino,yTeste = train_test_split(x,y)"
   ]
  },
  {
   "cell_type": "code",
   "execution_count": 18,
   "metadata": {},
   "outputs": [
    {
     "data": {
      "text/plain": [
       "LinearRegression(copy_X=True, fit_intercept=True, n_jobs=1, normalize=False)"
      ]
     },
     "execution_count": 18,
     "metadata": {},
     "output_type": "execute_result"
    }
   ],
   "source": [
    "knn.fit(xTreino,yTreino)\n",
    "tree.fit(xTreino,yTreino)\n",
    "rf.fit(xTreino,yTreino)\n",
    "lm.fit(xTreino,yTreino)"
   ]
  },
  {
   "cell_type": "code",
   "execution_count": 19,
   "metadata": {},
   "outputs": [],
   "source": [
    "preditosKnn = knn.predict(xTeste)\n",
    "preditosTree = tree.predict(xTeste)\n",
    "preditosRf = rf.predict(xTeste)\n",
    "preditosLm = lm.predict(xTeste)"
   ]
  },
  {
   "cell_type": "code",
   "execution_count": 20,
   "metadata": {},
   "outputs": [],
   "source": [
    "from sklearn.metrics import mean_absolute_error"
   ]
  },
  {
   "cell_type": "code",
   "execution_count": 21,
   "metadata": {},
   "outputs": [
    {
     "name": "stdout",
     "output_type": "stream",
     "text": [
      "knn: 0.2708783208818994\n",
      "tree: 0.14830175430716222\n",
      "RF: 0.16419028472695016\n",
      "LM: 0.17012774082792229\n"
     ]
    }
   ],
   "source": [
    "print('knn:',mean_absolute_error(preditosKnn,yTeste)/y.mean())\n",
    "print('tree:',mean_absolute_error(preditosTree,yTeste)/y.mean())\n",
    "print('RF:',mean_absolute_error(preditosRf,yTeste)/y.mean())\n",
    "print('LM:',mean_absolute_error(preditosLm,yTeste)/y.mean())"
   ]
  },
  {
   "cell_type": "markdown",
   "metadata": {},
   "source": [
    "**Utilizando get_dummies**"
   ]
  },
  {
   "cell_type": "code",
   "execution_count": 22,
   "metadata": {},
   "outputs": [],
   "source": [
    "from sklearn.preprocessing import OneHotEncoder"
   ]
  },
  {
   "cell_type": "code",
   "execution_count": 23,
   "metadata": {},
   "outputs": [],
   "source": [
    "bikes['season'] = bikes['season'].astype(str)\n",
    "bikes['dayofweek'] = bikes['season'].astype(str)\n",
    "bikes['weather'] = bikes['season'].astype(str)"
   ]
  },
  {
   "cell_type": "code",
   "execution_count": 24,
   "metadata": {},
   "outputs": [
    {
     "data": {
      "text/html": [
       "<div>\n",
       "<style scoped>\n",
       "    .dataframe tbody tr th:only-of-type {\n",
       "        vertical-align: middle;\n",
       "    }\n",
       "\n",
       "    .dataframe tbody tr th {\n",
       "        vertical-align: top;\n",
       "    }\n",
       "\n",
       "    .dataframe thead th {\n",
       "        text-align: right;\n",
       "    }\n",
       "</style>\n",
       "<table border=\"1\" class=\"dataframe\">\n",
       "  <thead>\n",
       "    <tr style=\"text-align: right;\">\n",
       "      <th></th>\n",
       "      <th>holiday</th>\n",
       "      <th>workingday</th>\n",
       "      <th>temp</th>\n",
       "      <th>atemp</th>\n",
       "      <th>humidity</th>\n",
       "      <th>windspeed</th>\n",
       "      <th>casual</th>\n",
       "      <th>registered</th>\n",
       "      <th>count</th>\n",
       "      <th>day</th>\n",
       "      <th>...</th>\n",
       "      <th>season_3</th>\n",
       "      <th>season_4</th>\n",
       "      <th>weather_1</th>\n",
       "      <th>weather_2</th>\n",
       "      <th>weather_3</th>\n",
       "      <th>weather_4</th>\n",
       "      <th>dayofweek_1</th>\n",
       "      <th>dayofweek_2</th>\n",
       "      <th>dayofweek_3</th>\n",
       "      <th>dayofweek_4</th>\n",
       "    </tr>\n",
       "    <tr>\n",
       "      <th>datetime</th>\n",
       "      <th></th>\n",
       "      <th></th>\n",
       "      <th></th>\n",
       "      <th></th>\n",
       "      <th></th>\n",
       "      <th></th>\n",
       "      <th></th>\n",
       "      <th></th>\n",
       "      <th></th>\n",
       "      <th></th>\n",
       "      <th></th>\n",
       "      <th></th>\n",
       "      <th></th>\n",
       "      <th></th>\n",
       "      <th></th>\n",
       "      <th></th>\n",
       "      <th></th>\n",
       "      <th></th>\n",
       "      <th></th>\n",
       "      <th></th>\n",
       "      <th></th>\n",
       "    </tr>\n",
       "  </thead>\n",
       "  <tbody>\n",
       "    <tr>\n",
       "      <th>2011-01-01 00:00:00</th>\n",
       "      <td>0</td>\n",
       "      <td>0</td>\n",
       "      <td>9.84</td>\n",
       "      <td>14.395</td>\n",
       "      <td>81</td>\n",
       "      <td>0.0</td>\n",
       "      <td>3</td>\n",
       "      <td>13</td>\n",
       "      <td>16</td>\n",
       "      <td>1</td>\n",
       "      <td>...</td>\n",
       "      <td>0</td>\n",
       "      <td>0</td>\n",
       "      <td>1</td>\n",
       "      <td>0</td>\n",
       "      <td>0</td>\n",
       "      <td>0</td>\n",
       "      <td>1</td>\n",
       "      <td>0</td>\n",
       "      <td>0</td>\n",
       "      <td>0</td>\n",
       "    </tr>\n",
       "    <tr>\n",
       "      <th>2011-01-01 01:00:00</th>\n",
       "      <td>0</td>\n",
       "      <td>0</td>\n",
       "      <td>9.02</td>\n",
       "      <td>13.635</td>\n",
       "      <td>80</td>\n",
       "      <td>0.0</td>\n",
       "      <td>8</td>\n",
       "      <td>32</td>\n",
       "      <td>40</td>\n",
       "      <td>1</td>\n",
       "      <td>...</td>\n",
       "      <td>0</td>\n",
       "      <td>0</td>\n",
       "      <td>1</td>\n",
       "      <td>0</td>\n",
       "      <td>0</td>\n",
       "      <td>0</td>\n",
       "      <td>1</td>\n",
       "      <td>0</td>\n",
       "      <td>0</td>\n",
       "      <td>0</td>\n",
       "    </tr>\n",
       "    <tr>\n",
       "      <th>2011-01-01 02:00:00</th>\n",
       "      <td>0</td>\n",
       "      <td>0</td>\n",
       "      <td>9.02</td>\n",
       "      <td>13.635</td>\n",
       "      <td>80</td>\n",
       "      <td>0.0</td>\n",
       "      <td>5</td>\n",
       "      <td>27</td>\n",
       "      <td>32</td>\n",
       "      <td>1</td>\n",
       "      <td>...</td>\n",
       "      <td>0</td>\n",
       "      <td>0</td>\n",
       "      <td>1</td>\n",
       "      <td>0</td>\n",
       "      <td>0</td>\n",
       "      <td>0</td>\n",
       "      <td>1</td>\n",
       "      <td>0</td>\n",
       "      <td>0</td>\n",
       "      <td>0</td>\n",
       "    </tr>\n",
       "  </tbody>\n",
       "</table>\n",
       "<p>3 rows × 24 columns</p>\n",
       "</div>"
      ],
      "text/plain": [
       "                     holiday  workingday  temp   atemp  humidity  windspeed  \\\n",
       "datetime                                                                      \n",
       "2011-01-01 00:00:00        0           0  9.84  14.395        81        0.0   \n",
       "2011-01-01 01:00:00        0           0  9.02  13.635        80        0.0   \n",
       "2011-01-01 02:00:00        0           0  9.02  13.635        80        0.0   \n",
       "\n",
       "                     casual  registered  count  day     ...       season_3  \\\n",
       "datetime                                                ...                  \n",
       "2011-01-01 00:00:00       3          13     16    1     ...              0   \n",
       "2011-01-01 01:00:00       8          32     40    1     ...              0   \n",
       "2011-01-01 02:00:00       5          27     32    1     ...              0   \n",
       "\n",
       "                     season_4  weather_1  weather_2  weather_3  weather_4  \\\n",
       "datetime                                                                    \n",
       "2011-01-01 00:00:00         0          1          0          0          0   \n",
       "2011-01-01 01:00:00         0          1          0          0          0   \n",
       "2011-01-01 02:00:00         0          1          0          0          0   \n",
       "\n",
       "                     dayofweek_1  dayofweek_2  dayofweek_3  dayofweek_4  \n",
       "datetime                                                                 \n",
       "2011-01-01 00:00:00            1            0            0            0  \n",
       "2011-01-01 01:00:00            1            0            0            0  \n",
       "2011-01-01 02:00:00            1            0            0            0  \n",
       "\n",
       "[3 rows x 24 columns]"
      ]
     },
     "execution_count": 24,
     "metadata": {},
     "output_type": "execute_result"
    }
   ],
   "source": [
    "bikesDummies = pd.get_dummies(bikes)\n",
    "bikesDummies.head(3)"
   ]
  },
  {
   "cell_type": "code",
   "execution_count": 25,
   "metadata": {},
   "outputs": [],
   "source": [
    "grupoDummies = bikes.groupby(pd.Grouper(freq='d'))\n",
    "mediaMensal = grupoDummies.mean().dropna()"
   ]
  },
  {
   "cell_type": "code",
   "execution_count": 26,
   "metadata": {},
   "outputs": [],
   "source": [
    "y = mediaMensal['count']\n",
    "x = mediaMensal.drop(['count','casual','registered'],axis=1)"
   ]
  },
  {
   "cell_type": "code",
   "execution_count": 27,
   "metadata": {},
   "outputs": [],
   "source": [
    "tree = DecisionTreeRegressor()\n",
    "knn = KNeighborsRegressor(weights='distance')\n",
    "rf = RandomForestRegressor()\n",
    "lm = LinearRegression()"
   ]
  },
  {
   "cell_type": "code",
   "execution_count": 28,
   "metadata": {},
   "outputs": [],
   "source": [
    "crossT = cross_val_score(tree,X=x,y=y,cv=5,scoring='neg_mean_absolute_error')\n",
    "crossK = cross_val_score(knn,X=x,y=y,cv=5,scoring='neg_mean_absolute_error')\n",
    "crossR = cross_val_score(rf,X=x,y=y,cv=5,scoring='neg_mean_absolute_error')\n",
    "croosL = cross_val_score(lm,X=x,y=y,cv=5,scoring='neg_mean_absolute_error')"
   ]
  },
  {
   "cell_type": "code",
   "execution_count": 29,
   "metadata": {},
   "outputs": [
    {
     "data": {
      "text/html": [
       "<div>\n",
       "<style scoped>\n",
       "    .dataframe tbody tr th:only-of-type {\n",
       "        vertical-align: middle;\n",
       "    }\n",
       "\n",
       "    .dataframe tbody tr th {\n",
       "        vertical-align: top;\n",
       "    }\n",
       "\n",
       "    .dataframe thead th {\n",
       "        text-align: right;\n",
       "    }\n",
       "</style>\n",
       "<table border=\"1\" class=\"dataframe\">\n",
       "  <thead>\n",
       "    <tr style=\"text-align: right;\">\n",
       "      <th></th>\n",
       "      <th>tree</th>\n",
       "      <th>knn</th>\n",
       "      <th>rf</th>\n",
       "      <th>lm</th>\n",
       "    </tr>\n",
       "  </thead>\n",
       "  <tbody>\n",
       "    <tr>\n",
       "      <th>count</th>\n",
       "      <td>5.000000</td>\n",
       "      <td>5.000000</td>\n",
       "      <td>5.000000</td>\n",
       "      <td>5.000000</td>\n",
       "    </tr>\n",
       "    <tr>\n",
       "      <th>mean</th>\n",
       "      <td>-43.288640</td>\n",
       "      <td>-70.666623</td>\n",
       "      <td>-39.668266</td>\n",
       "      <td>-30.009281</td>\n",
       "    </tr>\n",
       "    <tr>\n",
       "      <th>std</th>\n",
       "      <td>12.348033</td>\n",
       "      <td>10.412529</td>\n",
       "      <td>14.354542</td>\n",
       "      <td>6.385316</td>\n",
       "    </tr>\n",
       "    <tr>\n",
       "      <th>min</th>\n",
       "      <td>-58.289314</td>\n",
       "      <td>-80.829665</td>\n",
       "      <td>-53.705733</td>\n",
       "      <td>-39.941303</td>\n",
       "    </tr>\n",
       "    <tr>\n",
       "      <th>25%</th>\n",
       "      <td>-48.058071</td>\n",
       "      <td>-77.572148</td>\n",
       "      <td>-52.961707</td>\n",
       "      <td>-30.775016</td>\n",
       "    </tr>\n",
       "    <tr>\n",
       "      <th>50%</th>\n",
       "      <td>-47.952381</td>\n",
       "      <td>-74.612791</td>\n",
       "      <td>-40.928719</td>\n",
       "      <td>-30.342492</td>\n",
       "    </tr>\n",
       "    <tr>\n",
       "      <th>75%</th>\n",
       "      <td>-35.647257</td>\n",
       "      <td>-64.972133</td>\n",
       "      <td>-29.851630</td>\n",
       "      <td>-25.699094</td>\n",
       "    </tr>\n",
       "    <tr>\n",
       "      <th>max</th>\n",
       "      <td>-26.496178</td>\n",
       "      <td>-55.346379</td>\n",
       "      <td>-20.893540</td>\n",
       "      <td>-23.288501</td>\n",
       "    </tr>\n",
       "  </tbody>\n",
       "</table>\n",
       "</div>"
      ],
      "text/plain": [
       "            tree        knn         rf         lm\n",
       "count   5.000000   5.000000   5.000000   5.000000\n",
       "mean  -43.288640 -70.666623 -39.668266 -30.009281\n",
       "std    12.348033  10.412529  14.354542   6.385316\n",
       "min   -58.289314 -80.829665 -53.705733 -39.941303\n",
       "25%   -48.058071 -77.572148 -52.961707 -30.775016\n",
       "50%   -47.952381 -74.612791 -40.928719 -30.342492\n",
       "75%   -35.647257 -64.972133 -29.851630 -25.699094\n",
       "max   -26.496178 -55.346379 -20.893540 -23.288501"
      ]
     },
     "execution_count": 29,
     "metadata": {},
     "output_type": "execute_result"
    }
   ],
   "source": [
    "df = pd.DataFrame([crossT,crossK,crossR,croosL],index=['tree','knn','rf','lm'])\n",
    "df.transpose().describe()"
   ]
  },
  {
   "cell_type": "code",
   "execution_count": 30,
   "metadata": {},
   "outputs": [
    {
     "data": {
      "text/plain": [
       "-0.15709812052843306"
      ]
     },
     "execution_count": 30,
     "metadata": {},
     "output_type": "execute_result"
    }
   ],
   "source": [
    "croosL.mean()/y.mean()"
   ]
  },
  {
   "cell_type": "markdown",
   "metadata": {},
   "source": [
    "**Sem agrupamento**"
   ]
  },
  {
   "cell_type": "code",
   "execution_count": 31,
   "metadata": {},
   "outputs": [],
   "source": [
    "y = bikes['count']\n",
    "x = bikes.drop(['count','casual','registered'],axis=1)"
   ]
  },
  {
   "cell_type": "code",
   "execution_count": 32,
   "metadata": {},
   "outputs": [],
   "source": [
    "tree = DecisionTreeRegressor()\n",
    "knn = KNeighborsRegressor(weights='distance')\n",
    "rf = RandomForestRegressor()\n",
    "lm = LinearRegression()\n",
    "lm = LinearRegression()"
   ]
  },
  {
   "cell_type": "code",
   "execution_count": 33,
   "metadata": {},
   "outputs": [],
   "source": [
    "crossT = cross_val_score(tree,X=x,y=y,cv=5,scoring='neg_mean_absolute_error')\n",
    "crossK = cross_val_score(knn,X=x,y=y,cv=5,scoring='neg_mean_absolute_error')\n",
    "crossR = cross_val_score(rf,X=x,y=y,cv=5,scoring='neg_mean_absolute_error')\n",
    "croosL = cross_val_score(lm,X=x,y=y,cv=5,scoring='neg_mean_absolute_error')"
   ]
  },
  {
   "cell_type": "code",
   "execution_count": 34,
   "metadata": {},
   "outputs": [
    {
     "data": {
      "text/html": [
       "<div>\n",
       "<style scoped>\n",
       "    .dataframe tbody tr th:only-of-type {\n",
       "        vertical-align: middle;\n",
       "    }\n",
       "\n",
       "    .dataframe tbody tr th {\n",
       "        vertical-align: top;\n",
       "    }\n",
       "\n",
       "    .dataframe thead th {\n",
       "        text-align: right;\n",
       "    }\n",
       "</style>\n",
       "<table border=\"1\" class=\"dataframe\">\n",
       "  <thead>\n",
       "    <tr style=\"text-align: right;\">\n",
       "      <th></th>\n",
       "      <th>tree</th>\n",
       "      <th>knn</th>\n",
       "      <th>rf</th>\n",
       "      <th>lm</th>\n",
       "    </tr>\n",
       "  </thead>\n",
       "  <tbody>\n",
       "    <tr>\n",
       "      <th>count</th>\n",
       "      <td>5.000000</td>\n",
       "      <td>5.000000</td>\n",
       "      <td>5.000000</td>\n",
       "      <td>5.000000</td>\n",
       "    </tr>\n",
       "    <tr>\n",
       "      <th>mean</th>\n",
       "      <td>-157.012865</td>\n",
       "      <td>-135.404458</td>\n",
       "      <td>-130.463854</td>\n",
       "      <td>-117.968458</td>\n",
       "    </tr>\n",
       "    <tr>\n",
       "      <th>std</th>\n",
       "      <td>32.325326</td>\n",
       "      <td>27.225127</td>\n",
       "      <td>28.501681</td>\n",
       "      <td>34.489293</td>\n",
       "    </tr>\n",
       "    <tr>\n",
       "      <th>min</th>\n",
       "      <td>-195.188601</td>\n",
       "      <td>-160.809406</td>\n",
       "      <td>-158.440289</td>\n",
       "      <td>-155.997203</td>\n",
       "    </tr>\n",
       "    <tr>\n",
       "      <th>25%</th>\n",
       "      <td>-184.904762</td>\n",
       "      <td>-159.476398</td>\n",
       "      <td>-158.341371</td>\n",
       "      <td>-150.324594</td>\n",
       "    </tr>\n",
       "    <tr>\n",
       "      <th>50%</th>\n",
       "      <td>-153.036442</td>\n",
       "      <td>-142.674232</td>\n",
       "      <td>-132.200547</td>\n",
       "      <td>-113.749380</td>\n",
       "    </tr>\n",
       "    <tr>\n",
       "      <th>75%</th>\n",
       "      <td>-126.634742</td>\n",
       "      <td>-113.236726</td>\n",
       "      <td>-105.422801</td>\n",
       "      <td>-90.279203</td>\n",
       "    </tr>\n",
       "    <tr>\n",
       "      <th>max</th>\n",
       "      <td>-125.299778</td>\n",
       "      <td>-100.825528</td>\n",
       "      <td>-97.914261</td>\n",
       "      <td>-79.491908</td>\n",
       "    </tr>\n",
       "  </tbody>\n",
       "</table>\n",
       "</div>"
      ],
      "text/plain": [
       "             tree         knn          rf          lm\n",
       "count    5.000000    5.000000    5.000000    5.000000\n",
       "mean  -157.012865 -135.404458 -130.463854 -117.968458\n",
       "std     32.325326   27.225127   28.501681   34.489293\n",
       "min   -195.188601 -160.809406 -158.440289 -155.997203\n",
       "25%   -184.904762 -159.476398 -158.341371 -150.324594\n",
       "50%   -153.036442 -142.674232 -132.200547 -113.749380\n",
       "75%   -126.634742 -113.236726 -105.422801  -90.279203\n",
       "max   -125.299778 -100.825528  -97.914261  -79.491908"
      ]
     },
     "execution_count": 34,
     "metadata": {},
     "output_type": "execute_result"
    }
   ],
   "source": [
    "df = pd.DataFrame([crossT,crossK,crossR,croosL],index=['tree','knn','rf','lm'])\n",
    "df.transpose().describe()"
   ]
  },
  {
   "cell_type": "markdown",
   "metadata": {},
   "source": [
    "**SemAgrupamento Train**"
   ]
  },
  {
   "cell_type": "code",
   "execution_count": 35,
   "metadata": {},
   "outputs": [],
   "source": [
    "xTreino,xTeste,yTreino,yTeste = train_test_split(x,y)"
   ]
  },
  {
   "cell_type": "code",
   "execution_count": 36,
   "metadata": {},
   "outputs": [
    {
     "data": {
      "text/plain": [
       "LinearRegression(copy_X=True, fit_intercept=True, n_jobs=1, normalize=False)"
      ]
     },
     "execution_count": 36,
     "metadata": {},
     "output_type": "execute_result"
    }
   ],
   "source": [
    "knn.fit(xTreino,yTreino)\n",
    "tree.fit(xTreino,yTreino)\n",
    "rf.fit(xTreino,yTreino)\n",
    "lm.fit(xTreino,yTreino)"
   ]
  },
  {
   "cell_type": "code",
   "execution_count": 37,
   "metadata": {},
   "outputs": [],
   "source": [
    "preditosKnn = knn.predict(xTeste)\n",
    "preditosTree = tree.predict(xTeste)\n",
    "preditosRf = rf.predict(xTeste)\n",
    "preditosLm = lm.predict(xTeste)"
   ]
  },
  {
   "cell_type": "code",
   "execution_count": 38,
   "metadata": {},
   "outputs": [
    {
     "name": "stdout",
     "output_type": "stream",
     "text": [
      "knn: 0.5793029789730998\n",
      "tree: 0.6336842388264103\n",
      "RF: 0.5233261066795631\n",
      "LM: 0.5976413802796544\n"
     ]
    }
   ],
   "source": [
    "print('knn:',mean_absolute_error(preditosKnn,yTeste)/y.mean())\n",
    "print('tree:',mean_absolute_error(preditosTree,yTeste)/y.mean())\n",
    "print('RF:',mean_absolute_error(preditosRf,yTeste)/y.mean())\n",
    "print('LM:',mean_absolute_error(preditosLm,yTeste)/y.mean())"
   ]
  },
  {
   "cell_type": "markdown",
   "metadata": {},
   "source": [
    "## Graficos"
   ]
  },
  {
   "cell_type": "markdown",
   "metadata": {},
   "source": [
    "**Grafico de error**"
   ]
  },
  {
   "cell_type": "code",
   "execution_count": 39,
   "metadata": {},
   "outputs": [
    {
     "data": {
      "text/plain": [
       "<matplotlib.collections.PathCollection at 0x2641a87ce48>"
      ]
     },
     "execution_count": 39,
     "metadata": {},
     "output_type": "execute_result"
    },
    {
     "data": {
      "image/png": "[encoded data removed]",
      "text/plain": [
       "<Figure size 432x288 with 1 Axes>"
      ]
     },
     "metadata": {
      "needs_background": "light"
     },
     "output_type": "display_data"
    }
   ],
   "source": [
    "plt.scatter(x=yTeste,y=preditosLm)"
   ]
  },
  {
   "cell_type": "code",
   "execution_count": 40,
   "metadata": {},
   "outputs": [
    {
     "data": {
      "text/plain": [
       "<matplotlib.collections.LineCollection at 0x2641ae80320>"
      ]
     },
     "execution_count": 40,
     "metadata": {},
     "output_type": "execute_result"
    },
    {
     "data": {
      "image/png": "[encoded data removed]",
      "text/plain": [
       "<Figure size 432x288 with 1 Axes>"
      ]
     },
     "metadata": {
      "needs_background": "light"
     },
     "output_type": "display_data"
    }
   ],
   "source": [
    "plt.scatter(x=preditosLm, y= (preditosLm - yTeste),c='green')\n",
    "plt.hlines(y=0,xmin=preditosLm.min(),xmax=yTeste.max())"
   ]
  },
  {
   "cell_type": "markdown",
   "metadata": {},
   "source": [
    "**Polinimial regression**"
   ]
  },
  {
   "cell_type": "code",
   "execution_count": 41,
   "metadata": {},
   "outputs": [],
   "source": [
    "from sklearn.preprocessing import PolynomialFeatures"
   ]
  },
  {
   "cell_type": "code",
   "execution_count": 42,
   "metadata": {},
   "outputs": [],
   "source": [
    "poly = PolynomialFeatures(degree=3)\n",
    "poly.fit(x)\n",
    "xTreino_poly = poly.transform(xTreino)\n",
    "xTeste_poly = poly.fit_transform(xTeste)"
   ]
  },
  {
   "cell_type": "code",
   "execution_count": 43,
   "metadata": {},
   "outputs": [
    {
     "data": {
      "text/plain": [
       "LinearRegression(copy_X=True, fit_intercept=True, n_jobs=1, normalize=False)"
      ]
     },
     "execution_count": 43,
     "metadata": {},
     "output_type": "execute_result"
    }
   ],
   "source": [
    "lm.fit(xTreino_poly,yTreino)"
   ]
  },
  {
   "cell_type": "code",
   "execution_count": 44,
   "metadata": {},
   "outputs": [
    {
     "name": "stdout",
     "output_type": "stream",
     "text": [
      "LM: 0.5519564965399307\n"
     ]
    }
   ],
   "source": [
    "preditosLm = lm.predict(xTeste_poly)\n",
    "print('LM:',mean_absolute_error(preditosLm,yTeste)/y.mean())"
   ]
  },
  {
   "cell_type": "code",
   "execution_count": 45,
   "metadata": {},
   "outputs": [
    {
     "data": {
      "text/plain": [
       "<matplotlib.collections.PathCollection at 0x2641d38d2e8>"
      ]
     },
     "execution_count": 45,
     "metadata": {},
     "output_type": "execute_result"
    },
    {
     "data": {
      "image/png": "[encoded data removed]",
      "text/plain": [
       "<Figure size 432x288 with 1 Axes>"
      ]
     },
     "metadata": {
      "needs_background": "light"
     },
     "output_type": "display_data"
    }
   ],
   "source": [
    "plt.scatter(x=yTeste,y=preditosLm)"
   ]
  },
  {
   "cell_type": "markdown",
   "metadata": {},
   "source": [
    "**Utilizando o StatsModel**"
   ]
  },
  {
   "cell_type": "code",
   "execution_count": 46,
   "metadata": {},
   "outputs": [],
   "source": [
    "xdummies = pd.get_dummies(x)"
   ]
  },
  {
   "cell_type": "code",
   "execution_count": 47,
   "metadata": {},
   "outputs": [],
   "source": [
    "import statsmodels.api as sm\n",
    "#X_inter = sm.add_constant(X) # adiciona uma coluna constante igual a 1 na matriz X,\n",
    "# de modo que o termo constante da regressão é retornado.\n",
    "modelo = sm.OLS(y,xdummies).fit()"
   ]
  },
  {
   "cell_type": "code",
   "execution_count": 48,
   "metadata": {},
   "outputs": [
    {
     "data": {
      "text/html": [
       "<table class=\"simpletable\">\n",
       "<caption>OLS Regression Results</caption>\n",
       "<tr>\n",
       "  <th>Dep. Variable:</th>          <td>count</td>      <th>  R-squared:         </th> <td>   0.322</td> \n",
       "</tr>\n",
       "<tr>\n",
       "  <th>Model:</th>                   <td>OLS</td>       <th>  Adj. R-squared:    </th> <td>   0.321</td> \n",
       "</tr>\n",
       "<tr>\n",
       "  <th>Method:</th>             <td>Least Squares</td>  <th>  F-statistic:       </th> <td>   429.7</td> \n",
       "</tr>\n",
       "<tr>\n",
       "  <th>Date:</th>             <td>Tue, 19 Feb 2019</td> <th>  Prob (F-statistic):</th>  <td>  0.00</td>  \n",
       "</tr>\n",
       "<tr>\n",
       "  <th>Time:</th>                 <td>18:25:13</td>     <th>  Log-Likelihood:    </th> <td> -69933.</td> \n",
       "</tr>\n",
       "<tr>\n",
       "  <th>No. Observations:</th>      <td> 10886</td>      <th>  AIC:               </th> <td>1.399e+05</td>\n",
       "</tr>\n",
       "<tr>\n",
       "  <th>Df Residuals:</th>          <td> 10873</td>      <th>  BIC:               </th> <td>1.400e+05</td>\n",
       "</tr>\n",
       "<tr>\n",
       "  <th>Df Model:</th>              <td>    12</td>      <th>                     </th>     <td> </td>    \n",
       "</tr>\n",
       "<tr>\n",
       "  <th>Covariance Type:</th>      <td>nonrobust</td>    <th>                     </th>     <td> </td>    \n",
       "</tr>\n",
       "</table>\n",
       "<table class=\"simpletable\">\n",
       "<tr>\n",
       "       <td></td>          <th>coef</th>     <th>std err</th>      <th>t</th>      <th>P>|t|</th>  <th>[0.025</th>    <th>0.975]</th>  \n",
       "</tr>\n",
       "<tr>\n",
       "  <th>holiday</th>     <td>   -5.3344</td> <td>    8.944</td> <td>   -0.596</td> <td> 0.551</td> <td>  -22.866</td> <td>   12.197</td>\n",
       "</tr>\n",
       "<tr>\n",
       "  <th>workingday</th>  <td>   -2.1359</td> <td>    3.177</td> <td>   -0.672</td> <td> 0.501</td> <td>   -8.364</td> <td>    4.092</td>\n",
       "</tr>\n",
       "<tr>\n",
       "  <th>temp</th>        <td>    6.5865</td> <td>    1.167</td> <td>    5.643</td> <td> 0.000</td> <td>    4.298</td> <td>    8.874</td>\n",
       "</tr>\n",
       "<tr>\n",
       "  <th>atemp</th>       <td>    3.3760</td> <td>    1.024</td> <td>    3.297</td> <td> 0.001</td> <td>    1.369</td> <td>    5.383</td>\n",
       "</tr>\n",
       "<tr>\n",
       "  <th>humidity</th>    <td>   -2.6768</td> <td>    0.082</td> <td>  -32.689</td> <td> 0.000</td> <td>   -2.837</td> <td>   -2.516</td>\n",
       "</tr>\n",
       "<tr>\n",
       "  <th>windspeed</th>   <td>    0.8129</td> <td>    0.191</td> <td>    4.260</td> <td> 0.000</td> <td>    0.439</td> <td>    1.187</td>\n",
       "</tr>\n",
       "<tr>\n",
       "  <th>day</th>         <td>    0.2807</td> <td>    0.262</td> <td>    1.073</td> <td> 0.283</td> <td>   -0.232</td> <td>    0.793</td>\n",
       "</tr>\n",
       "<tr>\n",
       "  <th>month</th>       <td>   10.1739</td> <td>    1.775</td> <td>    5.733</td> <td> 0.000</td> <td>    6.695</td> <td>   13.653</td>\n",
       "</tr>\n",
       "<tr>\n",
       "  <th>year</th>        <td>   76.9517</td> <td>    2.886</td> <td>   26.666</td> <td> 0.000</td> <td>   71.295</td> <td>   82.608</td>\n",
       "</tr>\n",
       "<tr>\n",
       "  <th>season_1</th>    <td>-5.156e+04</td> <td> 1934.983</td> <td>  -26.648</td> <td> 0.000</td> <td>-5.54e+04</td> <td>-4.78e+04</td>\n",
       "</tr>\n",
       "<tr>\n",
       "  <th>season_2</th>    <td>-5.157e+04</td> <td> 1934.886</td> <td>  -26.653</td> <td> 0.000</td> <td>-5.54e+04</td> <td>-4.78e+04</td>\n",
       "</tr>\n",
       "<tr>\n",
       "  <th>season_3</th>    <td>-5.159e+04</td> <td> 1934.829</td> <td>  -26.664</td> <td> 0.000</td> <td>-5.54e+04</td> <td>-4.78e+04</td>\n",
       "</tr>\n",
       "<tr>\n",
       "  <th>season_4</th>    <td>-5.157e+04</td> <td> 1934.955</td> <td>  -26.652</td> <td> 0.000</td> <td>-5.54e+04</td> <td>-4.78e+04</td>\n",
       "</tr>\n",
       "<tr>\n",
       "  <th>weather_1</th>   <td>-5.156e+04</td> <td> 1934.983</td> <td>  -26.648</td> <td> 0.000</td> <td>-5.54e+04</td> <td>-4.78e+04</td>\n",
       "</tr>\n",
       "<tr>\n",
       "  <th>weather_2</th>   <td>-5.157e+04</td> <td> 1934.886</td> <td>  -26.653</td> <td> 0.000</td> <td>-5.54e+04</td> <td>-4.78e+04</td>\n",
       "</tr>\n",
       "<tr>\n",
       "  <th>weather_3</th>   <td>-5.159e+04</td> <td> 1934.829</td> <td>  -26.664</td> <td> 0.000</td> <td>-5.54e+04</td> <td>-4.78e+04</td>\n",
       "</tr>\n",
       "<tr>\n",
       "  <th>weather_4</th>   <td>-5.157e+04</td> <td> 1934.955</td> <td>  -26.652</td> <td> 0.000</td> <td>-5.54e+04</td> <td>-4.78e+04</td>\n",
       "</tr>\n",
       "<tr>\n",
       "  <th>dayofweek_1</th> <td>-5.156e+04</td> <td> 1934.983</td> <td>  -26.648</td> <td> 0.000</td> <td>-5.54e+04</td> <td>-4.78e+04</td>\n",
       "</tr>\n",
       "<tr>\n",
       "  <th>dayofweek_2</th> <td>-5.157e+04</td> <td> 1934.886</td> <td>  -26.653</td> <td> 0.000</td> <td>-5.54e+04</td> <td>-4.78e+04</td>\n",
       "</tr>\n",
       "<tr>\n",
       "  <th>dayofweek_3</th> <td>-5.159e+04</td> <td> 1934.829</td> <td>  -26.664</td> <td> 0.000</td> <td>-5.54e+04</td> <td>-4.78e+04</td>\n",
       "</tr>\n",
       "<tr>\n",
       "  <th>dayofweek_4</th> <td>-5.157e+04</td> <td> 1934.955</td> <td>  -26.652</td> <td> 0.000</td> <td>-5.54e+04</td> <td>-4.78e+04</td>\n",
       "</tr>\n",
       "</table>\n",
       "<table class=\"simpletable\">\n",
       "<tr>\n",
       "  <th>Omnibus:</th>       <td>1647.814</td> <th>  Durbin-Watson:     </th> <td>   0.469</td>\n",
       "</tr>\n",
       "<tr>\n",
       "  <th>Prob(Omnibus):</th>  <td> 0.000</td>  <th>  Jarque-Bera (JB):  </th> <td>2744.790</td>\n",
       "</tr>\n",
       "<tr>\n",
       "  <th>Skew:</th>           <td> 1.016</td>  <th>  Prob(JB):          </th> <td>    0.00</td>\n",
       "</tr>\n",
       "<tr>\n",
       "  <th>Kurtosis:</th>       <td> 4.387</td>  <th>  Cond. No.          </th> <td>4.94e+20</td>\n",
       "</tr>\n",
       "</table><br/><br/>Warnings:<br/>[1] Standard Errors assume that the covariance matrix of the errors is correctly specified.<br/>[2] The smallest eigenvalue is 1.81e-31. This might indicate that there are<br/>strong multicollinearity problems or that the design matrix is singular."
      ],
      "text/plain": [
       "<class 'statsmodels.iolib.summary.Summary'>\n",
       "\"\"\"\n",
       "                            OLS Regression Results                            \n",
       "==============================================================================\n",
       "Dep. Variable:                  count   R-squared:                       0.322\n",
       "Model:                            OLS   Adj. R-squared:                  0.321\n",
       "Method:                 Least Squares   F-statistic:                     429.7\n",
       "Date:                Tue, 19 Feb 2019   Prob (F-statistic):               0.00\n",
       "Time:                        18:25:13   Log-Likelihood:                -69933.\n",
       "No. Observations:               10886   AIC:                         1.399e+05\n",
       "Df Residuals:                   10873   BIC:                         1.400e+05\n",
       "Df Model:                          12                                         \n",
       "Covariance Type:            nonrobust                                         \n",
       "===============================================================================\n",
       "                  coef    std err          t      P>|t|      [0.025      0.975]\n",
       "-------------------------------------------------------------------------------\n",
       "holiday        -5.3344      8.944     -0.596      0.551     -22.866      12.197\n",
       "workingday     -2.1359      3.177     -0.672      0.501      -8.364       4.092\n",
       "temp            6.5865      1.167      5.643      0.000       4.298       8.874\n",
       "atemp           3.3760      1.024      3.297      0.001       1.369       5.383\n",
       "humidity       -2.6768      0.082    -32.689      0.000      -2.837      -2.516\n",
       "windspeed       0.8129      0.191      4.260      0.000       0.439       1.187\n",
       "day             0.2807      0.262      1.073      0.283      -0.232       0.793\n",
       "month          10.1739      1.775      5.733      0.000       6.695      13.653\n",
       "year           76.9517      2.886     26.666      0.000      71.295      82.608\n",
       "season_1    -5.156e+04   1934.983    -26.648      0.000   -5.54e+04   -4.78e+04\n",
       "season_2    -5.157e+04   1934.886    -26.653      0.000   -5.54e+04   -4.78e+04\n",
       "season_3    -5.159e+04   1934.829    -26.664      0.000   -5.54e+04   -4.78e+04\n",
       "season_4    -5.157e+04   1934.955    -26.652      0.000   -5.54e+04   -4.78e+04\n",
       "weather_1   -5.156e+04   1934.983    -26.648      0.000   -5.54e+04   -4.78e+04\n",
       "weather_2   -5.157e+04   1934.886    -26.653      0.000   -5.54e+04   -4.78e+04\n",
       "weather_3   -5.159e+04   1934.829    -26.664      0.000   -5.54e+04   -4.78e+04\n",
       "weather_4   -5.157e+04   1934.955    -26.652      0.000   -5.54e+04   -4.78e+04\n",
       "dayofweek_1 -5.156e+04   1934.983    -26.648      0.000   -5.54e+04   -4.78e+04\n",
       "dayofweek_2 -5.157e+04   1934.886    -26.653      0.000   -5.54e+04   -4.78e+04\n",
       "dayofweek_3 -5.159e+04   1934.829    -26.664      0.000   -5.54e+04   -4.78e+04\n",
       "dayofweek_4 -5.157e+04   1934.955    -26.652      0.000   -5.54e+04   -4.78e+04\n",
       "==============================================================================\n",
       "Omnibus:                     1647.814   Durbin-Watson:                   0.469\n",
       "Prob(Omnibus):                  0.000   Jarque-Bera (JB):             2744.790\n",
       "Skew:                           1.016   Prob(JB):                         0.00\n",
       "Kurtosis:                       4.387   Cond. No.                     4.94e+20\n",
       "==============================================================================\n",
       "\n",
       "Warnings:\n",
       "[1] Standard Errors assume that the covariance matrix of the errors is correctly specified.\n",
       "[2] The smallest eigenvalue is 1.81e-31. This might indicate that there are\n",
       "strong multicollinearity problems or that the design matrix is singular.\n",
       "\"\"\""
      ]
     },
     "execution_count": 48,
     "metadata": {},
     "output_type": "execute_result"
    }
   ],
   "source": [
    "modelo.summary()"
   ]
  },
  {
   "cell_type": "markdown",
   "metadata": {},
   "source": [
    "## Auto Regressão"
   ]
  },
  {
   "cell_type": "code",
   "execution_count": 49,
   "metadata": {},
   "outputs": [
    {
     "name": "stderr",
     "output_type": "stream",
     "text": [
      "C:\\Users\\vinic\\AppData\\Local\\Continuum\\anaconda3\\lib\\site-packages\\ipykernel_launcher.py:3: SettingWithCopyWarning: \n",
      "A value is trying to be set on a copy of a slice from a DataFrame.\n",
      "Try using .loc[row_indexer,col_indexer] = value instead\n",
      "\n",
      "See the caveats in the documentation: http://pandas.pydata.org/pandas-docs/stable/indexing.html#indexing-view-versus-copy\n",
      "  This is separate from the ipykernel package so we can avoid doing imports until\n",
      "C:\\Users\\vinic\\AppData\\Local\\Continuum\\anaconda3\\lib\\site-packages\\ipykernel_launcher.py:4: SettingWithCopyWarning: \n",
      "A value is trying to be set on a copy of a slice from a DataFrame.\n",
      "Try using .loc[row_indexer,col_indexer] = value instead\n",
      "\n",
      "See the caveats in the documentation: http://pandas.pydata.org/pandas-docs/stable/indexing.html#indexing-view-versus-copy\n",
      "  after removing the cwd from sys.path.\n",
      "C:\\Users\\vinic\\AppData\\Local\\Continuum\\anaconda3\\lib\\site-packages\\ipykernel_launcher.py:5: SettingWithCopyWarning: \n",
      "A value is trying to be set on a copy of a slice from a DataFrame.\n",
      "Try using .loc[row_indexer,col_indexer] = value instead\n",
      "\n",
      "See the caveats in the documentation: http://pandas.pydata.org/pandas-docs/stable/indexing.html#indexing-view-versus-copy\n",
      "  \"\"\"\n"
     ]
    }
   ],
   "source": [
    "bikes2 = bikes[['count']]\n",
    "bikes2.columns=['count']\n",
    "bikes2['Shift_1'] = bikes[['count']].shift(1)\n",
    "bikes2['Shift_24'] = bikes[['count']].shift(24)\n",
    "bikes2['Shift_168'] = bikes[['count']].shift(128)"
   ]
  },
  {
   "cell_type": "code",
   "execution_count": 50,
   "metadata": {},
   "outputs": [
    {
     "data": {
      "text/html": [
       "<div>\n",
       "<style scoped>\n",
       "    .dataframe tbody tr th:only-of-type {\n",
       "        vertical-align: middle;\n",
       "    }\n",
       "\n",
       "    .dataframe tbody tr th {\n",
       "        vertical-align: top;\n",
       "    }\n",
       "\n",
       "    .dataframe thead th {\n",
       "        text-align: right;\n",
       "    }\n",
       "</style>\n",
       "<table border=\"1\" class=\"dataframe\">\n",
       "  <thead>\n",
       "    <tr style=\"text-align: right;\">\n",
       "      <th></th>\n",
       "      <th>count</th>\n",
       "      <th>Shift_1</th>\n",
       "      <th>Shift_24</th>\n",
       "      <th>Shift_168</th>\n",
       "    </tr>\n",
       "    <tr>\n",
       "      <th>datetime</th>\n",
       "      <th></th>\n",
       "      <th></th>\n",
       "      <th></th>\n",
       "      <th></th>\n",
       "    </tr>\n",
       "  </thead>\n",
       "  <tbody>\n",
       "    <tr>\n",
       "      <th>2011-01-01 00:00:00</th>\n",
       "      <td>16</td>\n",
       "      <td>NaN</td>\n",
       "      <td>NaN</td>\n",
       "      <td>NaN</td>\n",
       "    </tr>\n",
       "    <tr>\n",
       "      <th>2011-01-01 01:00:00</th>\n",
       "      <td>40</td>\n",
       "      <td>16.0</td>\n",
       "      <td>NaN</td>\n",
       "      <td>NaN</td>\n",
       "    </tr>\n",
       "    <tr>\n",
       "      <th>2011-01-01 02:00:00</th>\n",
       "      <td>32</td>\n",
       "      <td>40.0</td>\n",
       "      <td>NaN</td>\n",
       "      <td>NaN</td>\n",
       "    </tr>\n",
       "    <tr>\n",
       "      <th>2011-01-01 03:00:00</th>\n",
       "      <td>13</td>\n",
       "      <td>32.0</td>\n",
       "      <td>NaN</td>\n",
       "      <td>NaN</td>\n",
       "    </tr>\n",
       "    <tr>\n",
       "      <th>2011-01-01 04:00:00</th>\n",
       "      <td>1</td>\n",
       "      <td>13.0</td>\n",
       "      <td>NaN</td>\n",
       "      <td>NaN</td>\n",
       "    </tr>\n",
       "  </tbody>\n",
       "</table>\n",
       "</div>"
      ],
      "text/plain": [
       "                     count  Shift_1  Shift_24  Shift_168\n",
       "datetime                                                \n",
       "2011-01-01 00:00:00     16      NaN       NaN        NaN\n",
       "2011-01-01 01:00:00     40     16.0       NaN        NaN\n",
       "2011-01-01 02:00:00     32     40.0       NaN        NaN\n",
       "2011-01-01 03:00:00     13     32.0       NaN        NaN\n",
       "2011-01-01 04:00:00      1     13.0       NaN        NaN"
      ]
     },
     "execution_count": 50,
     "metadata": {},
     "output_type": "execute_result"
    }
   ],
   "source": [
    "bikes2.head()"
   ]
  },
  {
   "cell_type": "code",
   "execution_count": 51,
   "metadata": {},
   "outputs": [
    {
     "data": {
      "text/plain": [
       "<matplotlib.axes._subplots.AxesSubplot at 0x26421320550>"
      ]
     },
     "execution_count": 51,
     "metadata": {},
     "output_type": "execute_result"
    },
    {
     "data": {
      "image/png": "[encoded data removed]",
      "text/plain": [
       "<Figure size 432x288 with 1 Axes>"
      ]
     },
     "metadata": {
      "needs_background": "light"
     },
     "output_type": "display_data"
    }
   ],
   "source": [
    "pd.plotting.autocorrelation_plot(bikes['2011-01']['count'])"
   ]
  },
  {
   "cell_type": "markdown",
   "metadata": {},
   "source": [
    "**Diario**"
   ]
  },
  {
   "cell_type": "code",
   "execution_count": 52,
   "metadata": {},
   "outputs": [],
   "source": [
    "bikesGroup = bikes.groupby(pd.Grouper(freq='d')).mean()"
   ]
  },
  {
   "cell_type": "code",
   "execution_count": 53,
   "metadata": {},
   "outputs": [
    {
     "name": "stderr",
     "output_type": "stream",
     "text": [
      "C:\\Users\\vinic\\AppData\\Local\\Continuum\\anaconda3\\lib\\site-packages\\ipykernel_launcher.py:3: SettingWithCopyWarning: \n",
      "A value is trying to be set on a copy of a slice from a DataFrame.\n",
      "Try using .loc[row_indexer,col_indexer] = value instead\n",
      "\n",
      "See the caveats in the documentation: http://pandas.pydata.org/pandas-docs/stable/indexing.html#indexing-view-versus-copy\n",
      "  This is separate from the ipykernel package so we can avoid doing imports until\n",
      "C:\\Users\\vinic\\AppData\\Local\\Continuum\\anaconda3\\lib\\site-packages\\ipykernel_launcher.py:4: SettingWithCopyWarning: \n",
      "A value is trying to be set on a copy of a slice from a DataFrame.\n",
      "Try using .loc[row_indexer,col_indexer] = value instead\n",
      "\n",
      "See the caveats in the documentation: http://pandas.pydata.org/pandas-docs/stable/indexing.html#indexing-view-versus-copy\n",
      "  after removing the cwd from sys.path.\n",
      "C:\\Users\\vinic\\AppData\\Local\\Continuum\\anaconda3\\lib\\site-packages\\ipykernel_launcher.py:5: SettingWithCopyWarning: \n",
      "A value is trying to be set on a copy of a slice from a DataFrame.\n",
      "Try using .loc[row_indexer,col_indexer] = value instead\n",
      "\n",
      "See the caveats in the documentation: http://pandas.pydata.org/pandas-docs/stable/indexing.html#indexing-view-versus-copy\n",
      "  \"\"\"\n",
      "C:\\Users\\vinic\\AppData\\Local\\Continuum\\anaconda3\\lib\\site-packages\\ipykernel_launcher.py:6: SettingWithCopyWarning: \n",
      "A value is trying to be set on a copy of a slice from a DataFrame.\n",
      "Try using .loc[row_indexer,col_indexer] = value instead\n",
      "\n",
      "See the caveats in the documentation: http://pandas.pydata.org/pandas-docs/stable/indexing.html#indexing-view-versus-copy\n",
      "  \n"
     ]
    }
   ],
   "source": [
    "bikesGroup2 = bikesGroup[['count']]\n",
    "bikesGroup2.columns=['count']\n",
    "bikesGroup2['Shift_1'] = bikesGroup['count'].shift(1)\n",
    "bikesGroup2['Shift_7'] = bikesGroup['count'].shift(7)\n",
    "bikesGroup2['Shift_30'] = bikesGroup['count'].shift(30)\n",
    "bikesGroup2['Shift_365'] = bikesGroup['count'].shift(300)"
   ]
  },
  {
   "cell_type": "code",
   "execution_count": 54,
   "metadata": {},
   "outputs": [],
   "source": [
    "# pd.plotting.autocorrelation_plot(vendas['count'].dropna())"
   ]
  },
  {
   "cell_type": "code",
   "execution_count": 55,
   "metadata": {},
   "outputs": [
    {
     "data": {
      "text/html": [
       "<div>\n",
       "<style scoped>\n",
       "    .dataframe tbody tr th:only-of-type {\n",
       "        vertical-align: middle;\n",
       "    }\n",
       "\n",
       "    .dataframe tbody tr th {\n",
       "        vertical-align: top;\n",
       "    }\n",
       "\n",
       "    .dataframe thead th {\n",
       "        text-align: right;\n",
       "    }\n",
       "</style>\n",
       "<table border=\"1\" class=\"dataframe\">\n",
       "  <thead>\n",
       "    <tr style=\"text-align: right;\">\n",
       "      <th></th>\n",
       "      <th>count</th>\n",
       "      <th>Shift_1</th>\n",
       "      <th>Shift_7</th>\n",
       "      <th>Shift_30</th>\n",
       "      <th>Shift_365</th>\n",
       "    </tr>\n",
       "  </thead>\n",
       "  <tbody>\n",
       "    <tr>\n",
       "      <th>count</th>\n",
       "      <td>1.000000</td>\n",
       "      <td>0.803296</td>\n",
       "      <td>0.752931</td>\n",
       "      <td>0.623249</td>\n",
       "      <td>0.463408</td>\n",
       "    </tr>\n",
       "    <tr>\n",
       "      <th>Shift_1</th>\n",
       "      <td>0.803296</td>\n",
       "      <td>1.000000</td>\n",
       "      <td>0.712880</td>\n",
       "      <td>0.663889</td>\n",
       "      <td>0.470196</td>\n",
       "    </tr>\n",
       "    <tr>\n",
       "      <th>Shift_7</th>\n",
       "      <td>0.752931</td>\n",
       "      <td>0.712880</td>\n",
       "      <td>1.000000</td>\n",
       "      <td>0.658950</td>\n",
       "      <td>0.492355</td>\n",
       "    </tr>\n",
       "    <tr>\n",
       "      <th>Shift_30</th>\n",
       "      <td>0.623249</td>\n",
       "      <td>0.663889</td>\n",
       "      <td>0.658950</td>\n",
       "      <td>1.000000</td>\n",
       "      <td>0.351849</td>\n",
       "    </tr>\n",
       "    <tr>\n",
       "      <th>Shift_365</th>\n",
       "      <td>0.463408</td>\n",
       "      <td>0.470196</td>\n",
       "      <td>0.492355</td>\n",
       "      <td>0.351849</td>\n",
       "      <td>1.000000</td>\n",
       "    </tr>\n",
       "  </tbody>\n",
       "</table>\n",
       "</div>"
      ],
      "text/plain": [
       "              count   Shift_1   Shift_7  Shift_30  Shift_365\n",
       "count      1.000000  0.803296  0.752931  0.623249   0.463408\n",
       "Shift_1    0.803296  1.000000  0.712880  0.663889   0.470196\n",
       "Shift_7    0.752931  0.712880  1.000000  0.658950   0.492355\n",
       "Shift_30   0.623249  0.663889  0.658950  1.000000   0.351849\n",
       "Shift_365  0.463408  0.470196  0.492355  0.351849   1.000000"
      ]
     },
     "execution_count": 55,
     "metadata": {},
     "output_type": "execute_result"
    }
   ],
   "source": [
    "bikesGroup2.dropna().corr()"
   ]
  },
  {
   "cell_type": "code",
   "execution_count": 56,
   "metadata": {},
   "outputs": [],
   "source": [
    "from statsmodels.graphics.tsaplots import plot_acf"
   ]
  },
  {
   "cell_type": "code",
   "execution_count": 57,
   "metadata": {},
   "outputs": [
    {
     "data": {
      "image/png": "[encoded data removed]",
      "text/plain": [
       "<Figure size 432x288 with 1 Axes>"
      ]
     },
     "execution_count": 57,
     "metadata": {},
     "output_type": "execute_result"
    },
    {
     "data": {
      "image/png": "[encoded data removed]",
      "text/plain": [
       "<Figure size 432x288 with 1 Axes>"
      ]
     },
     "metadata": {
      "needs_background": "light"
     },
     "output_type": "display_data"
    }
   ],
   "source": [
    "atraso = np.arange(1,400,10)\n",
    "plot_acf(bikes['count'],lags=atraso,use_vlines=True,alpha=0.80)"
   ]
  },
  {
   "cell_type": "markdown",
   "metadata": {},
   "source": [
    "## AutoRegressão"
   ]
  },
  {
   "cell_type": "code",
   "execution_count": 58,
   "metadata": {},
   "outputs": [],
   "source": [
    "from statsmodels.tsa.ar_model import AR"
   ]
  },
  {
   "cell_type": "code",
   "execution_count": 59,
   "metadata": {},
   "outputs": [],
   "source": [
    "vendas = pd.read_csv('salesFacts.csv',sep='\\t')"
   ]
  },
  {
   "cell_type": "code",
   "execution_count": 60,
   "metadata": {},
   "outputs": [
    {
     "data": {
      "text/html": [
       "<div>\n",
       "<style scoped>\n",
       "    .dataframe tbody tr th:only-of-type {\n",
       "        vertical-align: middle;\n",
       "    }\n",
       "\n",
       "    .dataframe tbody tr th {\n",
       "        vertical-align: top;\n",
       "    }\n",
       "\n",
       "    .dataframe thead th {\n",
       "        text-align: right;\n",
       "    }\n",
       "</style>\n",
       "<table border=\"1\" class=\"dataframe\">\n",
       "  <thead>\n",
       "    <tr style=\"text-align: right;\">\n",
       "      <th></th>\n",
       "      <th>ProductID</th>\n",
       "      <th>Date</th>\n",
       "      <th>Zip</th>\n",
       "      <th>Units</th>\n",
       "      <th>Revenue</th>\n",
       "    </tr>\n",
       "  </thead>\n",
       "  <tbody>\n",
       "    <tr>\n",
       "      <th>0</th>\n",
       "      <td>88</td>\n",
       "      <td>15/02/2000 12:00:00 AM</td>\n",
       "      <td>95605</td>\n",
       "      <td>92</td>\n",
       "      <td>$926,780.40</td>\n",
       "    </tr>\n",
       "    <tr>\n",
       "      <th>1</th>\n",
       "      <td>2263</td>\n",
       "      <td>12/11/2008 12:00:00 AM</td>\n",
       "      <td>33178</td>\n",
       "      <td>44</td>\n",
       "      <td>$177,380.28</td>\n",
       "    </tr>\n",
       "    <tr>\n",
       "      <th>2</th>\n",
       "      <td>2262</td>\n",
       "      <td>12/11/2008 12:00:00 AM</td>\n",
       "      <td>33178</td>\n",
       "      <td>44</td>\n",
       "      <td>$177,380.28</td>\n",
       "    </tr>\n",
       "    <tr>\n",
       "      <th>3</th>\n",
       "      <td>764</td>\n",
       "      <td>27/07/2004 12:00:00 AM</td>\n",
       "      <td>27522</td>\n",
       "      <td>40</td>\n",
       "      <td>$146,134.80</td>\n",
       "    </tr>\n",
       "    <tr>\n",
       "      <th>4</th>\n",
       "      <td>763</td>\n",
       "      <td>27/07/2004 12:00:00 AM</td>\n",
       "      <td>27522</td>\n",
       "      <td>40</td>\n",
       "      <td>$146,134.80</td>\n",
       "    </tr>\n",
       "  </tbody>\n",
       "</table>\n",
       "</div>"
      ],
      "text/plain": [
       "   ProductID                    Date    Zip  Units      Revenue\n",
       "0         88  15/02/2000 12:00:00 AM  95605     92  $926,780.40\n",
       "1       2263  12/11/2008 12:00:00 AM  33178     44  $177,380.28\n",
       "2       2262  12/11/2008 12:00:00 AM  33178     44  $177,380.28\n",
       "3        764  27/07/2004 12:00:00 AM  27522     40  $146,134.80\n",
       "4        763  27/07/2004 12:00:00 AM  27522     40  $146,134.80"
      ]
     },
     "execution_count": 60,
     "metadata": {},
     "output_type": "execute_result"
    }
   ],
   "source": [
    "vendas.head()"
   ]
  },
  {
   "cell_type": "code",
   "execution_count": 61,
   "metadata": {},
   "outputs": [],
   "source": [
    "vendas.index = pd.to_datetime(vendas['Date'],format='%d/%m/%Y %H:%M:%S %p')"
   ]
  },
  {
   "cell_type": "code",
   "execution_count": 62,
   "metadata": {},
   "outputs": [],
   "source": [
    "def tratRev(valor):\n",
    "    if type(valor) == str:\n",
    "        valor = valor[1:].replace(',','')\n",
    "        return float(valor)\n",
    "vendas.Revenue = vendas.Revenue.apply(tratRev) "
   ]
  },
  {
   "cell_type": "code",
   "execution_count": 63,
   "metadata": {},
   "outputs": [
    {
     "data": {
      "text/plain": [
       "604     14355\n",
       "792     12961\n",
       "791     12961\n",
       "2332    12715\n",
       "2045    12407\n",
       "Name: ProductID, dtype: int64"
      ]
     },
     "execution_count": 63,
     "metadata": {},
     "output_type": "execute_result"
    }
   ],
   "source": [
    "vendas.ProductID.value_counts()[:5] "
   ]
  },
  {
   "cell_type": "code",
   "execution_count": 64,
   "metadata": {},
   "outputs": [],
   "source": [
    "principal = vendas[vendas['ProductID'] == 604]\n",
    "dados = principal.groupby(pd.Grouper(freq='d')).mean()"
   ]
  },
  {
   "cell_type": "code",
   "execution_count": 65,
   "metadata": {},
   "outputs": [],
   "source": [
    "Valores = dados['Revenue'].dropna().values"
   ]
  },
  {
   "cell_type": "code",
   "execution_count": 66,
   "metadata": {},
   "outputs": [
    {
     "data": {
      "text/plain": [
       "1119"
      ]
     },
     "execution_count": 66,
     "metadata": {},
     "output_type": "execute_result"
    }
   ],
   "source": [
    "Val_treino = Valores[:int(len(Valores)*0.33)]\n",
    "len(Val_treino)"
   ]
  },
  {
   "cell_type": "code",
   "execution_count": 67,
   "metadata": {},
   "outputs": [],
   "source": [
    "Val_teste = Valores[int(len(Valores)*0.33):]"
   ]
  },
  {
   "cell_type": "code",
   "execution_count": 68,
   "metadata": {},
   "outputs": [],
   "source": [
    "modelo = AR(Val_treino)\n",
    "modelo_fit = modelo.fit()"
   ]
  },
  {
   "cell_type": "code",
   "execution_count": 69,
   "metadata": {},
   "outputs": [
    {
     "data": {
      "text/plain": [
       "array([6056.87136356, 6056.4149889 , 6597.63852497, ..., 5901.01148254,\n",
       "       5901.01148254, 5901.01148254])"
      ]
     },
     "execution_count": 69,
     "metadata": {},
     "output_type": "execute_result"
    }
   ],
   "source": [
    "previsao = modelo_fit.predict(start=len(Val_treino),end=len(Val_treino)+len(Val_teste)-1)\n",
    "previsao"
   ]
  },
  {
   "cell_type": "code",
   "execution_count": 70,
   "metadata": {},
   "outputs": [
    {
     "data": {
      "text/plain": [
       "0.06997299211946142"
      ]
     },
     "execution_count": 70,
     "metadata": {},
     "output_type": "execute_result"
    }
   ],
   "source": [
    "mean_absolute_error(previsao,Val_teste)/Valores.mean()"
   ]
  },
  {
   "cell_type": "code",
   "execution_count": 81,
   "metadata": {},
   "outputs": [
    {
     "name": "stdout",
     "output_type": "stream",
     "text": [
      "Collecting pyramid\n",
      "  Downloading https://files.pythonhosted.org/packages/85/32/f3bafeda54a1c6885ba289cb33a9d446ee3480eb7819e0a95965e56d26b0/pyramid-1.10.2-py2.py3-none-any.whl (325kB)\n",
      "Collecting plaster-pastedeploy (from pyramid)\n",
      "  Downloading https://files.pythonhosted.org/packages/d9/e2/de7cd499923dbf6aacc9b243f262817bfea3ffbbd4dcc5847e1aaec817a7/plaster_pastedeploy-0.6-py2.py3-none-any.whl\n",
      "Collecting webob>=1.8.3 (from pyramid)\n",
      "  Downloading https://files.pythonhosted.org/packages/06/e1/4acd2b4327fceb4c6446bdbca515f807ab83188526fd654940c00bcf8cc3/WebOb-1.8.5-py2.py3-none-any.whl (113kB)\n",
      "Requirement already satisfied: setuptools in c:\\users\\vinic\\appdata\\local\\continuum\\anaconda3\\lib\\site-packages (from pyramid) (40.8.0)\n",
      "Requirement already satisfied: zope.interface>=3.8.0 in c:\\users\\vinic\\appdata\\local\\continuum\\anaconda3\\lib\\site-packages (from pyramid) (4.5.0)\n",
      "Collecting plaster (from pyramid)\n",
      "  Downloading https://files.pythonhosted.org/packages/61/29/3ac8a5d03b2d9e6b876385066676472ba4acf93677acfc7360b035503d49/plaster-1.0-py2.py3-none-any.whl\n",
      "Collecting zope.deprecation>=3.5.0 (from pyramid)\n",
      "  Downloading https://files.pythonhosted.org/packages/f9/26/b935bbf9d27e898b87d80e7873a0200cebf239253d0afe7a59f82fe90fff/zope.deprecation-4.4.0-py2.py3-none-any.whl\n",
      "Collecting hupper (from pyramid)\n",
      "  Downloading https://files.pythonhosted.org/packages/14/c8/98cd90c0dc5fb7d6448e9a3fc121c80d8d9cbb1d4ea4edd2daf6d6b2d39c/hupper-1.5-py2.py3-none-any.whl\n",
      "Collecting venusian>=1.0 (from pyramid)\n",
      "  Downloading https://files.pythonhosted.org/packages/21/80/8e2ac4aef69e927754277d29636b65eceb4767e9da90a2c3046c4176184a/venusian-1.2.0-py2.py3-none-any.whl\n",
      "Collecting translationstring>=0.4 (from pyramid)\n",
      "  Downloading https://files.pythonhosted.org/packages/26/e7/9dcf5bcd32b3ad16db542845ad129c06927821ded434ae88f458e6190626/translationstring-1.3-py2.py3-none-any.whl\n",
      "Collecting PasteDeploy>=1.5.0 (from plaster-pastedeploy->pyramid)\n",
      "  Downloading https://files.pythonhosted.org/packages/67/0c/faa9971b2e5e048b3b30008d04c72e4d5f63b42f48937c169acce2c5e70a/PasteDeploy-2.0.1-py2.py3-none-any.whl\n",
      "Installing collected packages: PasteDeploy, plaster, plaster-pastedeploy, webob, zope.deprecation, hupper, venusian, translationstring, pyramid\n",
      "Successfully installed PasteDeploy-2.0.1 hupper-1.5 plaster-1.0 plaster-pastedeploy-0.6 pyramid-1.10.2 translationstring-1.3 venusian-1.2.0 webob-1.8.5 zope.deprecation-4.4.0\n"
     ]
    }
   ],
   "source": [
    "!pip install pyramid"
   ]
  },
  {
   "cell_type": "code",
   "execution_count": 82,
   "metadata": {},
   "outputs": [
    {
     "ename": "ModuleNotFoundError",
     "evalue": "No module named 'pyramid.arima'",
     "output_type": "error",
     "traceback": [
      "\u001b[1;31m---------------------------------------------------------------------------\u001b[0m",
      "\u001b[1;31mModuleNotFoundError\u001b[0m                       Traceback (most recent call last)",
      "\u001b[1;32m<ipython-input-82-8661379370d5>\u001b[0m in \u001b[0;36m<module>\u001b[1;34m()\u001b[0m\n\u001b[1;32m----> 1\u001b[1;33m \u001b[1;32mfrom\u001b[0m \u001b[0mpyramid\u001b[0m\u001b[1;33m.\u001b[0m\u001b[0marima\u001b[0m \u001b[1;32mimport\u001b[0m \u001b[0mauto_arima\u001b[0m\u001b[1;33m\u001b[0m\u001b[0m\n\u001b[0m\u001b[0;32m      2\u001b[0m stepwise_model = auto_arima(data, start_p=1, start_q=1,\n\u001b[0;32m      3\u001b[0m                            \u001b[0mmax_p\u001b[0m\u001b[1;33m=\u001b[0m\u001b[1;36m3\u001b[0m\u001b[1;33m,\u001b[0m \u001b[0mmax_q\u001b[0m\u001b[1;33m=\u001b[0m\u001b[1;36m3\u001b[0m\u001b[1;33m,\u001b[0m \u001b[0mm\u001b[0m\u001b[1;33m=\u001b[0m\u001b[1;36m12\u001b[0m\u001b[1;33m,\u001b[0m\u001b[1;33m\u001b[0m\u001b[0m\n\u001b[0;32m      4\u001b[0m                            \u001b[0mstart_P\u001b[0m\u001b[1;33m=\u001b[0m\u001b[1;36m0\u001b[0m\u001b[1;33m,\u001b[0m \u001b[0mseasonal\u001b[0m\u001b[1;33m=\u001b[0m\u001b[1;32mTrue\u001b[0m\u001b[1;33m,\u001b[0m\u001b[1;33m\u001b[0m\u001b[0m\n\u001b[0;32m      5\u001b[0m                            \u001b[0md\u001b[0m\u001b[1;33m=\u001b[0m\u001b[1;36m1\u001b[0m\u001b[1;33m,\u001b[0m \u001b[0mD\u001b[0m\u001b[1;33m=\u001b[0m\u001b[1;36m1\u001b[0m\u001b[1;33m,\u001b[0m \u001b[0mtrace\u001b[0m\u001b[1;33m=\u001b[0m\u001b[1;32mTrue\u001b[0m\u001b[1;33m,\u001b[0m\u001b[1;33m\u001b[0m\u001b[0m\n",
      "\u001b[1;31mModuleNotFoundError\u001b[0m: No module named 'pyramid.arima'"
     ]
    }
   ],
   "source": [
    "\n",
    "stepwise_model = auto_arima(data, start_p=1, start_q=1,\n",
    "                           max_p=3, max_q=3, m=12,\n",
    "                           start_P=0, seasonal=True,\n",
    "                           d=1, D=1, trace=True,\n",
    "                           error_action='ignore',  \n",
    "                           suppress_warnings=True, \n",
    "                           stepwise=True)"
   ]
  },
  {
   "cell_type": "code",
   "execution_count": null,
   "metadata": {},
   "outputs": [],
   "source": [
    "stepwise_model.fit(t)"
   ]
  },
  {
   "cell_type": "code",
   "execution_count": 74,
   "metadata": {},
   "outputs": [],
   "source": [
    "from statsmodels.tsa.arima_model import ARIMA"
   ]
  },
  {
   "cell_type": "code",
   "execution_count": 79,
   "metadata": {},
   "outputs": [
    {
     "name": "stderr",
     "output_type": "stream",
     "text": [
      "C:\\Users\\vinic\\AppData\\Local\\Continuum\\anaconda3\\lib\\site-packages\\scipy\\signal\\signaltools.py:1341: FutureWarning:\n",
      "\n",
      "Using a non-tuple sequence for multidimensional indexing is deprecated; use `arr[tuple(seq)]` instead of `arr[seq]`. In the future this will be interpreted as an array index, `arr[np.array(seq)]`, which will result either in an error or a different result.\n",
      "\n",
      "C:\\Users\\vinic\\AppData\\Local\\Continuum\\anaconda3\\lib\\site-packages\\scipy\\signal\\signaltools.py:1344: FutureWarning:\n",
      "\n",
      "Using a non-tuple sequence for multidimensional indexing is deprecated; use `arr[tuple(seq)]` instead of `arr[seq]`. In the future this will be interpreted as an array index, `arr[np.array(seq)]`, which will result either in an error or a different result.\n",
      "\n",
      "C:\\Users\\vinic\\AppData\\Local\\Continuum\\anaconda3\\lib\\site-packages\\scipy\\signal\\signaltools.py:1350: FutureWarning:\n",
      "\n",
      "Using a non-tuple sequence for multidimensional indexing is deprecated; use `arr[tuple(seq)]` instead of `arr[seq]`. In the future this will be interpreted as an array index, `arr[np.array(seq)]`, which will result either in an error or a different result.\n",
      "\n"
     ]
    }
   ],
   "source": [
    "\n",
    "\n",
    "modelo = ARIMA(Val_treino,order=(5,1,0))\n",
    "modelo_fit = modelo.fit()"
   ]
  },
  {
   "cell_type": "code",
   "execution_count": 80,
   "metadata": {},
   "outputs": [
    {
     "data": {
      "text/plain": [
       "1.023523732634424"
      ]
     },
     "execution_count": 80,
     "metadata": {},
     "output_type": "execute_result"
    }
   ],
   "source": [
    "previsao = modelo_fit.predict(start=len(Val_treino),end=len(Val_treino)+len(Val_teste)-1)\n",
    "mean_absolute_error(previsao,Val_teste)/Valores.mean()"
   ]
  },
  {
   "cell_type": "code",
   "execution_count": null,
   "metadata": {},
   "outputs": [],
   "source": []
  },
  {
   "cell_type": "markdown",
   "metadata": {},
   "source": [
    "### Candlestick"
   ]
  },
  {
   "cell_type": "markdown",
   "metadata": {},
   "source": [
    "**link:** https://plot.ly/python/candlestick-charts/"
   ]
  },
  {
   "cell_type": "code",
   "execution_count": 71,
   "metadata": {},
   "outputs": [],
   "source": [
    "import plotly.graph_objs as go\n",
    "import plotly.offline as pyOff\n",
    "import plotly.plotly as py\n",
    "import plotly\n",
    "%matplotlib inline"
   ]
  },
  {
   "cell_type": "code",
   "execution_count": 72,
   "metadata": {},
   "outputs": [],
   "source": [
    "import pandas_datareader as pdr\n",
    "import fix_yahoo_finance"
   ]
  },
  {
   "cell_type": "code",
   "execution_count": 73,
   "metadata": {},
   "outputs": [
    {
     "data": {
      "text/html": [
       "<iframe id=\"igraph\" scrolling=\"no\" style=\"border:none;\" seamless=\"seamless\" src=\"https://plot.ly/~viniciusmdea/18.embed\" height=\"525px\" width=\"100%\"></iframe>"
      ],
      "text/plain": [
       "<plotly.tools.PlotlyDisplay object>"
      ]
     },
     "execution_count": 73,
     "metadata": {},
     "output_type": "execute_result"
    }
   ],
   "source": [
    "vale = pdr.get_data_yahoo('VALE')\n",
    "dados = go.Candlestick(x=vale.index,                \n",
    "                        open=vale['Open'],\n",
    "                        high=vale['High'],\n",
    "                        low=vale['Low'],\n",
    "                        close=vale['Close'])\n",
    "\n",
    "data=[dados]\n",
    "py.iplot(data, filename='simple_candlestick')"
   ]
  },
  {
   "cell_type": "markdown",
   "metadata": {},
   "source": [
    "**Arima:** Facebook tem uma lib "
   ]
  },
  {
   "cell_type": "raw",
   "metadata": {},
   "source": []
  },
  {
   "cell_type": "code",
   "execution_count": null,
   "metadata": {},
   "outputs": [],
   "source": []
  }
 ],
 "metadata": {
  "kernelspec": {
   "display_name": "Python 3",
   "language": "python",
   "name": "python3"
  },
  "language_info": {
   "codemirror_mode": {
    "name": "ipython",
    "version": 3
   },
   "file_extension": ".py",
   "mimetype": "text/x-python",
   "name": "python",
   "nbconvert_exporter": "python",
   "pygments_lexer": "ipython3",
   "version": "3.7.0"
  }
 },
 "nbformat": 4,
 "nbformat_minor": 2
}
