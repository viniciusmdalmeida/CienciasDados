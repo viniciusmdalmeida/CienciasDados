{
 "cells": [
  {
   "cell_type": "code",
   "execution_count": 1,
   "metadata": {},
   "outputs": [],
   "source": [
    "import pandas as pd\n",
    "import numpy as np\n",
    "import seaborn as sns\n",
    "import matplotlib.pyplot as plt\n",
    "%matplotlib inline"
   ]
  },
  {
   "cell_type": "code",
   "execution_count": 2,
   "metadata": {},
   "outputs": [],
   "source": [
    "dados = pd.read_csv('RestaurantesCafeteriaseBares201804.csv',delimiter=';',encoding='latin-1')"
   ]
  },
  {
   "cell_type": "code",
   "execution_count": 3,
   "metadata": {},
   "outputs": [
    {
     "name": "stdout",
     "output_type": "stream",
     "text": [
      "<class 'pandas.core.frame.DataFrame'>\n",
      "RangeIndex: 2566 entries, 0 to 2565\n",
      "Data columns (total 25 columns):\n",
      "Razão Social                       2566 non-null object\n",
      "Nome Fantasia                      2566 non-null object\n",
      "CNPJ                               2566 non-null object\n",
      "Porte                              2566 non-null object\n",
      "Data de Inicio da Operação         2566 non-null object\n",
      "Situação                           2566 non-null object\n",
      "Atividade                          2566 non-null object\n",
      "CEP                                2566 non-null object\n",
      "UF                                 2566 non-null object\n",
      "Localidade                         2566 non-null object\n",
      "Bairro                             2566 non-null object\n",
      "Logradouro                         2558 non-null object\n",
      "Complemento                        1979 non-null object\n",
      "Telefone                           2566 non-null object\n",
      "Email Institucional                2566 non-null object\n",
      "Email Comercial                    2566 non-null object\n",
      "Site                               2557 non-null object\n",
      "Data de Geração do Certificado     2566 non-null object\n",
      "Data de Validade do Certificado    2566 non-null object\n",
      "Código do Certificado              2566 non-null object\n",
      "CNAE                               2566 non-null object\n",
      "Tipo de Atividade                  2566 non-null object\n",
      "Natureza Jurídica                  2566 non-null object\n",
      "Línguas                            2566 non-null object\n",
      "Especialidades                     2566 non-null object\n",
      "dtypes: object(25)\n",
      "memory usage: 501.2+ KB\n"
     ]
    }
   ],
   "source": [
    "dados.info()"
   ]
  },
  {
   "cell_type": "code",
   "execution_count": 5,
   "metadata": {},
   "outputs": [
    {
     "data": {
      "image/png": "[encoded data removed]",
      "text/plain": [
       "<Figure size 432x288 with 1 Axes>"
      ]
     },
     "metadata": {
      "needs_background": "light"
     },
     "output_type": "display_data"
    }
   ],
   "source": [
    "sns.countplot(dados['Porte']);"
   ]
  },
  {
   "cell_type": "code",
   "execution_count": 7,
   "metadata": {},
   "outputs": [
    {
     "data": {
      "text/plain": [
       "Brasileira                                      1164\n",
       "Cozinha regional                                 411\n",
       " -                                               213\n",
       "Brasileira|Cozinha regional                      145\n",
       "Italiana                                         115\n",
       "Cozinha regional|Brasileira                       85\n",
       "Japonesa                                          34\n",
       "Americana                                         31\n",
       "Alemã                                             28\n",
       "Portuguesa                                        27\n",
       "Brasileira|Italiana                               27\n",
       "Americana|Brasileira                              13\n",
       "Brasileira|Cozinha regional|Italiana              12\n",
       "Francesa                                          12\n",
       "Alemã|Italiana|Brasileira                         10\n",
       "Brasileira|Cozinha regional|Portuguesa             8\n",
       "Alemã|Brasileira                                   8\n",
       "Italiana|Brasileira                                7\n",
       "Brasileira|Americana                               7\n",
       "Cozinha regional|Brasileira|Italiana               6\n",
       "Chinesa                                            6\n",
       "Brasileira|Francesa                                5\n",
       "Brasileira|Japonesa                                5\n",
       "Cozinha regional|Italiana                          4\n",
       "Italiana|Cozinha regional                          4\n",
       "Árabe                                              4\n",
       "Brasileira|Italiana|Cozinha regional               4\n",
       "Alemã|Brasileira|Italiana                          4\n",
       "Brasileira|Espanhola                               4\n",
       "Italiana|Cozinha regional|Brasileira               3\n",
       "                                                ... \n",
       "Cozinha regional|Francesa|Italiana                 1\n",
       "Alemã|Italiana                                     1\n",
       "Americana|Alemã|Brasileira                         1\n",
       "Argentina|Brasileira                               1\n",
       "Americana|Alemã                                    1\n",
       "Americana|Mexicana                                 1\n",
       "Mexicana|Americana|Cozinha regional                1\n",
       "Cozinha regional|Portuguesa|Árabe                  1\n",
       "Brasileira|Chinesa|Italiana|Japonesa               1\n",
       "Brasileira|Alemã|Portuguesa                        1\n",
       "Italiana|Brasileira|Espanhola                      1\n",
       "Americana|Cozinha regional|Brasileira              1\n",
       "Brasileira|Brasileira|Cozinha regional             1\n",
       "Alemã|Cozinha regional|Italiana                    1\n",
       "Americana|Cozinha regional                         1\n",
       "Brasileira|Cozinha regional|Mexicana               1\n",
       "Brasileira|Japonesa|Árabe                          1\n",
       "Japonesa|Asiática                                  1\n",
       "Brasileira|Cozinha regional|Francesa               1\n",
       "Alemã|Brasileira|Mexicana                          1\n",
       "Brasileira|Chinesa|Japonesa                        1\n",
       "Italiana|Alemã|Mexicana                            1\n",
       "Americana|Árabe|Mexicana                           1\n",
       "Brasileira|Italiana|Espanhola                      1\n",
       "Cozinha regional|Alemã                             1\n",
       "Brasileira|Mexicana                                1\n",
       "Brasileira|Argentina|Cozinha regional              1\n",
       "Japonesa|Brasileira                                1\n",
       "Cozinha regional|Brasileira|Cozinha regional       1\n",
       "Alemã|Portuguesa|Italiana                          1\n",
       "Name: Especialidades, Length: 151, dtype: int64"
      ]
     },
     "execution_count": 7,
     "metadata": {},
     "output_type": "execute_result"
    }
   ],
   "source": [
    "dados['Especialidades'].value_counts()"
   ]
  },
  {
   "cell_type": "code",
   "execution_count": null,
   "metadata": {},
   "outputs": [],
   "source": []
  }
 ],
 "metadata": {
  "kernelspec": {
   "display_name": "Python 3",
   "language": "python",
   "name": "python3"
  },
  "language_info": {
   "codemirror_mode": {
    "name": "ipython",
    "version": 3
   },
   "file_extension": ".py",
   "mimetype": "text/x-python",
   "name": "python",
   "nbconvert_exporter": "python",
   "pygments_lexer": "ipython3",
   "version": "3.7.0"
  }
 },
 "nbformat": 4,
 "nbformat_minor": 2
}
