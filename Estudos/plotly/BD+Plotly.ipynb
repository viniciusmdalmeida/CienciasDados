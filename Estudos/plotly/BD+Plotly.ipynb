{
 "cells": [
  {
   "cell_type": "code",
   "execution_count": 3,
   "metadata": {},
   "outputs": [],
   "source": [
    "import pyodbc\n",
    "import pandas as pd\n",
    "import seaborn as sns\n",
    "%matplotlib inline\n",
    "\n",
    "class conexaoLets():\n",
    "    #Acesso a banco\n",
    "    server = 'lcdb2.ckgqx1capvu4.sa-east-1.rds.amazonaws.com'\n",
    "    database = 'lcdb2'\n",
    "    username = 'rdslcuser'\n",
    "    password = 'programacao1234'\n",
    "    driver= '{ODBC Driver 17 for SQL Server}'    \n",
    "    \n",
    "    def __init__(self,callback)\n",
    "    \n",
    "    def __enter__(self):\n",
    "        conexao = pyodbc.connect('DRIVER='+driver+';SERVER='+server+\n",
    "                      ';PORT=1433;DATABASE='+database+\n",
    "                      ';UID='+username+';PWD='+ password)\n",
    "        cursor = conexao.cursor()\n",
    "    \n",
    "    def __exit__(self, type, value, traceback):\n",
    "        \n",
    "        return isinstance(value, E)\n",
    "\n"
   ]
  },
  {
   "cell_type": "code",
   "execution_count": null,
   "metadata": {},
   "outputs": [],
   "source": []
  },
  {
   "cell_type": "code",
   "execution_count": null,
   "metadata": {},
   "outputs": [],
   "source": []
  }
 ],
 "metadata": {
  "kernelspec": {
   "display_name": "Python 3",
   "language": "python",
   "name": "python3"
  },
  "language_info": {
   "codemirror_mode": {
    "name": "ipython",
    "version": 3
   },
   "file_extension": ".py",
   "mimetype": "text/x-python",
   "name": "python",
   "nbconvert_exporter": "python",
   "pygments_lexer": "ipython3",
   "version": "3.7.0"
  }
 },
 "nbformat": 4,
 "nbformat_minor": 2
}
