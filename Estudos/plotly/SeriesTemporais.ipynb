{
 "cells": [
  {
   "cell_type": "code",
   "execution_count": 19,
   "metadata": {},
   "outputs": [],
   "source": [
    "import plotly.plotly as py\n",
    "import plotly.graph_objs as go\n",
    "\n",
    "import pandas as pd\n",
    "from datetime import datetime\n",
    "\n",
    "import pandas_datareader as pdr\n",
    "import fix_yahoo_finance\n",
    "\n",
    "pbr = pdr.get_data_yahoo(\"PBR\")\n",
    "vale = pdr.get_data_yahoo(\"VALE\")"
   ]
  },
  {
   "cell_type": "code",
   "execution_count": 14,
   "metadata": {},
   "outputs": [
    {
     "data": {
      "text/html": [
       "<div>\n",
       "<style scoped>\n",
       "    .dataframe tbody tr th:only-of-type {\n",
       "        vertical-align: middle;\n",
       "    }\n",
       "\n",
       "    .dataframe tbody tr th {\n",
       "        vertical-align: top;\n",
       "    }\n",
       "\n",
       "    .dataframe thead th {\n",
       "        text-align: right;\n",
       "    }\n",
       "</style>\n",
       "<table border=\"1\" class=\"dataframe\">\n",
       "  <thead>\n",
       "    <tr style=\"text-align: right;\">\n",
       "      <th></th>\n",
       "      <th>High</th>\n",
       "      <th>Low</th>\n",
       "      <th>Open</th>\n",
       "      <th>Close</th>\n",
       "      <th>Volume</th>\n",
       "      <th>Adj Close</th>\n",
       "    </tr>\n",
       "    <tr>\n",
       "      <th>Date</th>\n",
       "      <th></th>\n",
       "      <th></th>\n",
       "      <th></th>\n",
       "      <th></th>\n",
       "      <th></th>\n",
       "      <th></th>\n",
       "    </tr>\n",
       "  </thead>\n",
       "  <tbody>\n",
       "    <tr>\n",
       "      <th>2010-01-04</th>\n",
       "      <td>49.169998</td>\n",
       "      <td>48.500000</td>\n",
       "      <td>48.880001</td>\n",
       "      <td>48.700001</td>\n",
       "      <td>14639500.0</td>\n",
       "      <td>42.660904</td>\n",
       "    </tr>\n",
       "    <tr>\n",
       "      <th>2010-01-05</th>\n",
       "      <td>48.820000</td>\n",
       "      <td>48.000000</td>\n",
       "      <td>48.669998</td>\n",
       "      <td>48.200001</td>\n",
       "      <td>16470900.0</td>\n",
       "      <td>42.222900</td>\n",
       "    </tr>\n",
       "    <tr>\n",
       "      <th>2010-01-06</th>\n",
       "      <td>49.349998</td>\n",
       "      <td>48.029999</td>\n",
       "      <td>48.110001</td>\n",
       "      <td>48.910000</td>\n",
       "      <td>12562100.0</td>\n",
       "      <td>42.844852</td>\n",
       "    </tr>\n",
       "    <tr>\n",
       "      <th>2010-01-07</th>\n",
       "      <td>48.849998</td>\n",
       "      <td>48.099998</td>\n",
       "      <td>48.790001</td>\n",
       "      <td>48.200001</td>\n",
       "      <td>12943700.0</td>\n",
       "      <td>42.222900</td>\n",
       "    </tr>\n",
       "    <tr>\n",
       "      <th>2010-01-08</th>\n",
       "      <td>48.599998</td>\n",
       "      <td>47.830002</td>\n",
       "      <td>48.400002</td>\n",
       "      <td>48.459999</td>\n",
       "      <td>11578400.0</td>\n",
       "      <td>42.450661</td>\n",
       "    </tr>\n",
       "  </tbody>\n",
       "</table>\n",
       "</div>"
      ],
      "text/plain": [
       "                 High        Low       Open      Close      Volume  Adj Close\n",
       "Date                                                                         \n",
       "2010-01-04  49.169998  48.500000  48.880001  48.700001  14639500.0  42.660904\n",
       "2010-01-05  48.820000  48.000000  48.669998  48.200001  16470900.0  42.222900\n",
       "2010-01-06  49.349998  48.029999  48.110001  48.910000  12562100.0  42.844852\n",
       "2010-01-07  48.849998  48.099998  48.790001  48.200001  12943700.0  42.222900\n",
       "2010-01-08  48.599998  47.830002  48.400002  48.459999  11578400.0  42.450661"
      ]
     },
     "execution_count": 14,
     "metadata": {},
     "output_type": "execute_result"
    }
   ],
   "source": [
    "dados.head()"
   ]
  },
  {
   "cell_type": "code",
   "execution_count": 20,
   "metadata": {},
   "outputs": [
    {
     "name": "stdout",
     "output_type": "stream",
     "text": [
      "High five! You successfully sent some data to your account on plotly. View your plot in your browser at https://plot.ly/~viniciusmdea/0 or inside your plot.ly account where it is named 'time-series-simple'\n"
     ]
    },
    {
     "data": {
      "text/html": [
       "<iframe id=\"igraph\" scrolling=\"no\" style=\"border:none;\" seamless=\"seamless\" src=\"https://plot.ly/~viniciusmdea/0.embed\" height=\"525px\" width=\"100%\"></iframe>"
      ],
      "text/plain": [
       "<plotly.tools.PlotlyDisplay object>"
      ]
     },
     "execution_count": 20,
     "metadata": {},
     "output_type": "execute_result"
    }
   ],
   "source": [
    "\n",
    "data = [go.Scatter(x=pbr.index, y=pbr['Close']),go.Scatter(x=vale.index, y=vale['Close'])]\n",
    "\n",
    "py.iplot(data, filename = 'time-series-simple')"
   ]
  },
  {
   "cell_type": "code",
   "execution_count": null,
   "metadata": {},
   "outputs": [],
   "source": []
  }
 ],
 "metadata": {
  "kernelspec": {
   "display_name": "Python 3",
   "language": "python",
   "name": "python3"
  },
  "language_info": {
   "codemirror_mode": {
    "name": "ipython",
    "version": 3
   },
   "file_extension": ".py",
   "mimetype": "text/x-python",
   "name": "python",
   "nbconvert_exporter": "python",
   "pygments_lexer": "ipython3",
   "version": "3.7.0"
  }
 },
 "nbformat": 4,
 "nbformat_minor": 2
}
